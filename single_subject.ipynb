{
 "cells": [
  {
   "cell_type": "code",
   "execution_count": 8,
   "id": "6de10f24-829d-4847-b79b-7d4d282eb5ea",
   "metadata": {
    "scrolled": true
   },
   "outputs": [
    {
     "name": "stdout",
     "output_type": "stream",
     "text": [
      "WARNING:tensorflow:From c:\\Users\\s.velut\\AppData\\Local\\Programs\\Python\\Python311\\Lib\\site-packages\\keras\\src\\losses.py:2976: The name tf.losses.sparse_softmax_cross_entropy is deprecated. Please use tf.compat.v1.losses.sparse_softmax_cross_entropy instead.\n",
      "\n"
     ]
    },
    {
     "name": "stderr",
     "output_type": "stream",
     "text": [
      "c:\\Users\\s.velut\\AppData\\Local\\Programs\\Python\\Python311\\Lib\\site-packages\\tensorflow_addons\\utils\\tfa_eol_msg.py:23: UserWarning: \n",
      "\n",
      "TensorFlow Addons (TFA) has ended development and introduction of new features.\n",
      "TFA has entered a minimal maintenance and release mode until a planned end of life in May 2024.\n",
      "Please modify downstream libraries to take dependencies from other repositories in our TensorFlow community (e.g. Keras, Keras-CV, and Keras-NLP). \n",
      "\n",
      "For more information see: https://github.com/tensorflow/addons/issues/2807 \n",
      "\n",
      "  warnings.warn(\n",
      "c:\\Users\\s.velut\\AppData\\Local\\Programs\\Python\\Python311\\Lib\\site-packages\\tensorflow_addons\\utils\\ensure_tf_install.py:53: UserWarning: Tensorflow Addons supports using Python ops for all Tensorflow versions above or equal to 2.12.0 and strictly below 2.15.0 (nightly versions are not supported). \n",
      " The versions of TensorFlow you are currently using is 2.15.0 and is not supported. \n",
      "Some things might work, some things might not.\n",
      "If you were to encounter a bug, do not file an issue.\n",
      "If you want to make sure you're using a tested and supported configuration, either change the TensorFlow version or the TensorFlow Addons's version. \n",
      "You can find the compatibility matrix in TensorFlow Addon's readme:\n",
      "https://github.com/tensorflow/addons\n",
      "  warnings.warn(\n"
     ]
    }
   ],
   "source": [
    "from EEG2CodeKeras import (basearchi,\n",
    "                           basearchitest_batchnorm,\n",
    "                           basearchi_patchembedding,\n",
    "                           basearchi_patchembeddingdilation,\n",
    "                           trueVanilliaEEG2Code,\n",
    "                           vanilliaEEG2Code,\n",
    "                           vanilliaEEG2Code2,\n",
    "                           EEGnet_Inception)\n",
    "from _utils import make_preds_accumul_aggresive, make_preds_pvalue\n",
    "\n",
    "\n",
    "from sklearn.model_selection import train_test_split\n",
    "from sklearn import svm\n",
    "from pyriemann.estimation import XdawnCovariances\n",
    "from pyriemann.classification import MDM\n",
    "from tensorflow import keras\n",
    "import mne\n",
    "import os\n",
    "\n",
    "import sys\n",
    "import numpy as np\n",
    "from imblearn.under_sampling import RandomUnderSampler\n",
    "from sklearn.metrics import accuracy_score\n",
    "np.set_printoptions(threshold=sys.maxsize)\n",
    "import matplotlib.pyplot as plt\n",
    "\n"
   ]
  },
  {
   "cell_type": "code",
   "execution_count": 9,
   "id": "2cbff77c",
   "metadata": {},
   "outputs": [
    {
     "data": {
      "text/plain": [
       "[PhysicalDevice(name='/physical_device:CPU:0', device_type='CPU')]"
      ]
     },
     "execution_count": 9,
     "metadata": {},
     "output_type": "execute_result"
    }
   ],
   "source": [
    "import tensorflow as tf\n",
    "tf.config.list_physical_devices()"
   ]
  },
  {
   "cell_type": "code",
   "execution_count": 10,
   "id": "575c7b2d",
   "metadata": {},
   "outputs": [],
   "source": [
    "fps = 60\n",
    "sfreq = 500\n"
   ]
  },
  {
   "cell_type": "markdown",
   "id": "d2e15184-3fcf-463d-89b7-97e4e6db7a95",
   "metadata": {},
   "source": [
    "## Path to the data"
   ]
  },
  {
   "cell_type": "code",
   "execution_count": 11,
   "id": "12c5a06b-e9fd-42d7-bf0c-83d8d68b707a",
   "metadata": {},
   "outputs": [],
   "source": [
    "sfreq = 500\n",
    "\n",
    "participant = 'P1'\n",
    "path = '/'.join(['C:\\\\Users\\\\s.velut\\\\Documents\\\\These\\\\Protheus_PHD\\\\Class4', participant])\n",
    "# path = '/home/dcas/k.cabrera/Data/SETNOP2'\n",
    "n_class=4\n",
    "fps = 60\n",
    "window_size = 0.25\n",
    "\n",
    "# file_name = '_'.join([participant, 'mseq40.set'])\n",
    "# file_name = '_'.join([participant, 'mseq100.set'])\n",
    "# file_name = '_'.join([participant, 'burst40.set'])\n",
    "file_name = '_'.join([participant, 'burst100.set'])\n",
    "# file_name = '/'.join([path,  participant+'_whitemseq.set'])\n",
    "# file_name = '_'.join([participant, 'burst', 'oi_1.set'])\n"
   ]
  },
  {
   "cell_type": "code",
   "execution_count": 12,
   "id": "d909114c",
   "metadata": {},
   "outputs": [],
   "source": [
    "# participant = 'P3'\n",
    "# path = '/home/dcas/k.cabrera/Data/SET'\n",
    "# n_class=11\n",
    "\n",
    "\n",
    "# file_name = '_'.join([participant, 'whitemseq.set'])\n"
   ]
  },
  {
   "cell_type": "markdown",
   "id": "52f830cb-fdc0-4d83-b0e3-3107ac016368",
   "metadata": {},
   "source": [
    "#### Load channel positions"
   ]
  },
  {
   "cell_type": "markdown",
   "id": "8e3ede9c-040e-4590-94b2-577a62a9b026",
   "metadata": {
    "tags": []
   },
   "source": [
    "## Load the raw data and small pre-process\n",
    "1. Drop the ACC channels and the shitty channels near ears\n",
    "2. Average re-referencing\n",
    "4. Extract 2.2s epochs using events"
   ]
  },
  {
   "cell_type": "code",
   "execution_count": 13,
   "id": "b8df747c",
   "metadata": {},
   "outputs": [],
   "source": [
    "raw = mne.io.read_raw_eeglab(os.path.join(path, file_name), preload=True, verbose=False)"
   ]
  },
  {
   "cell_type": "code",
   "execution_count": 14,
   "id": "e02a0323-b237-4b92-b5ed-ded4930f3cca",
   "metadata": {},
   "outputs": [
    {
     "name": "stdout",
     "output_type": "stream",
     "text": [
      "['Fp1', 'Fz', 'F3', 'F7', 'F9', 'FC5', 'FC1', 'C3', 'T7', 'CP5', 'CP1', 'Pz', 'P3', 'P7', 'P9', 'O1', 'Oz', 'O2', 'P10', 'P8', 'P4', 'CP2', 'CP6', 'T8', 'C4', 'Cz', 'FC2', 'FC6', 'F10', 'F8', 'F4', 'Fp2']\n",
      "Filtering raw data in 1 contiguous segment\n",
      "Setting up band-stop filter from 50 - 50 Hz\n",
      "\n",
      "IIR filter parameters\n",
      "---------------------\n",
      "Butterworth bandstop zero-phase (two-pass forward and reverse) non-causal filter:\n",
      "- Filter order 16 (effective, after forward-backward)\n",
      "- Cutoffs at 49.90, 50.10 Hz: -6.02, -6.02 dB\n",
      "\n",
      "Channels : 32\n"
     ]
    }
   ],
   "source": [
    "\n",
    "print(raw.ch_names)\n",
    "# to_drop = [\"P9\", \"P10\", \"TP9\", \"TP10\", \"10\", \"21\"]\n",
    "# raw = raw.drop_channels([ch for ch in raw.ch_names if ch in to_drop])\n",
    "# # raw = raw.drop_channels([\"10\", \"21\"])\n",
    "# keep = [\"O1\", \"O2\", \"Oz\", \"P7\", \"P3\", \"P4\", \"P8\", \"Pz\"]\n",
    "# keep = [\"16\", \"18\", \"17\", \"15\", \"14\", \"19\", \"20\", \"13\"] # electrodes to keep\n",
    "# raw = raw.drop_channels([i for i in raw.ch_names if i not in keep])\n",
    "\n",
    "raw = raw.filter(l_freq=50.1, h_freq=49.9, method=\"iir\", verbose=True)\n",
    "# raw.resample(480, npad='auto')\n",
    "# Average re-referencing\n",
    "mne.set_eeg_reference(raw, 'average', copy=False, verbose=False)\n",
    "#raw = raw.filter(l_freq=5, h_freq=45, method=\"fir\", verbose=True)\n",
    "n_channels = len(raw.ch_names)\n",
    "print(\"Channels :\", n_channels)"
   ]
  },
  {
   "cell_type": "code",
   "execution_count": 15,
   "id": "9e70fa4b-2e51-42fe-a41a-0b7c29ea6bd6",
   "metadata": {
    "tags": []
   },
   "outputs": [
    {
     "name": "stdout",
     "output_type": "stream",
     "text": [
      "Using data from preloaded Raw for 60 events and 1101 original time points ...\n",
      "0 bad epochs dropped\n"
     ]
    }
   ],
   "source": [
    "# Strip the annotations that were script to make them easier to process\n",
    "events, event_id = mne.events_from_annotations(raw, event_id='auto', verbose=False)\n",
    "to_remove = []\n",
    "for idx in range(len(raw.annotations.description)):\n",
    "    if (('collects' in raw.annotations.description[idx]) or\n",
    "        ('iti' in raw.annotations.description[idx]) or\n",
    "        (raw.annotations.description[idx] == '[]')):\n",
    "        to_remove.append(idx)\n",
    "    else:\n",
    "        code = raw.annotations.description[idx].split('_')[0]\n",
    "        lab = raw.annotations.description[idx].split('_')[1]\n",
    "        code = code.replace('\\n', '')\n",
    "        code = code.replace('[', '')\n",
    "        code = code.replace(']', '')\n",
    "        code = code.replace(' ', '')\n",
    "        raw.annotations.description[idx] = code + '_' + lab\n",
    "\n",
    "to_remove = np.array(to_remove)\n",
    "if len(to_remove) > 0:\n",
    "    raw.annotations.delete(to_remove)\n",
    "# Get the events\n",
    "events, event_id = mne.events_from_annotations(raw, event_id='auto', verbose=False)\n",
    "shift = 0.0\n",
    "# Epoch the data following event\n",
    "epochs = mne.Epochs(raw, events, event_id=event_id, tmin=shift, \\\n",
    "            tmax=2.2+shift, baseline=(None, None), preload=False, verbose=False)\n",
    "labels = epochs.events[..., -1]\n",
    "labels -= np.min(labels)\n",
    "data = epochs.get_data()\n",
    "info_ep = epochs.info"
   ]
  },
  {
   "cell_type": "markdown",
   "id": "9dec5d54-21ce-4a3e-9974-dff0d81efe65",
   "metadata": {},
   "source": [
    "### Transform a code in `str` to a code in np.array"
   ]
  },
  {
   "cell_type": "code",
   "execution_count": 16,
   "id": "8d886a37-bc66-490c-a290-f84b2502c094",
   "metadata": {},
   "outputs": [],
   "source": [
    "def code2array(code):\n",
    "    tmp = []\n",
    "    for idx, c in enumerate(code[:-2]):\n",
    "        if c == '5' or c == '.':\n",
    "            continue\n",
    "        elif c == '0':\n",
    "            if code[idx+2] == '5':\n",
    "                tmp.append(0.5)\n",
    "            else:\n",
    "                tmp.append(0)\n",
    "        else:\n",
    "            tmp.append(1)\n",
    "    if code[-1] == '.':\n",
    "        if code[-2] == '0':\n",
    "            tmp.append(0)\n",
    "        else:\n",
    "            tmp.append(1)\n",
    "    return np.array(tmp)"
   ]
  },
  {
   "cell_type": "markdown",
   "id": "b3f02ea8-255b-4d46-9f64-8263ef253089",
   "metadata": {},
   "source": [
    "### Build a dictionnary that contains all the code in the np.array format"
   ]
  },
  {
   "cell_type": "code",
   "execution_count": 17,
   "id": "7e221464-c67a-468d-bedc-1cb4592d032a",
   "metadata": {},
   "outputs": [],
   "source": [
    "from collections import OrderedDict\n",
    "codes = OrderedDict()\n",
    "for k, v in event_id.items():\n",
    "    code = k.split('_')[0]\n",
    "    code = code.replace('.','').replace('2','')\n",
    "    idx = k.split('_')[1]\n",
    "    if 'randomslowwhite' in file_name:\n",
    "        codes[v-1] = code2array(code) \n",
    "    else:\n",
    "        codes[v-1] = np.array(list(map(int, code)))"
   ]
  },
  {
   "cell_type": "markdown",
   "id": "7f84de91-a554-4326-8c67-f1ad891597d5",
   "metadata": {},
   "source": [
    "### Define train/test split and windows size\n",
    "Here we use only the first 7 blocks as calibrition and 8 others would be used as testing"
   ]
  },
  {
   "cell_type": "code",
   "execution_count": 18,
   "metadata": {},
   "outputs": [
    {
     "data": {
      "text/plain": [
       "array([0, 0, 0, 0, 0, 0, 0, 0, 0, 0, 0, 0, 0, 0, 0, 0, 0, 0, 0, 0, 0, 0,\n",
       "       0, 1, 1, 1, 1, 0, 0, 0, 0, 0, 0, 0, 0, 0, 0, 0, 0, 0, 0, 0, 0, 0,\n",
       "       0, 0, 1, 1, 1, 1, 0, 0, 0, 0, 0, 0, 0, 0, 0, 0, 0, 0, 0, 0, 1, 1,\n",
       "       1, 1, 0, 0, 0, 0, 0, 0, 0, 0, 0, 0, 0, 0, 0, 1, 1, 1, 1, 0, 0, 0,\n",
       "       0, 0, 0, 0, 0, 0, 0, 0, 0, 0, 0, 0, 0, 1, 1, 1, 1, 0, 0, 0, 0, 0,\n",
       "       0, 0, 0, 0, 0, 0, 0, 0, 0, 0, 0, 0, 0, 0, 1, 1, 1, 1, 0, 0, 0, 0,\n",
       "       0, 0, 0, 0, 0, 0, 0, 0, 0, 0, 0, 0, 0, 0, 0, 0, 0, 0, 1, 1, 1, 1,\n",
       "       0, 0, 0, 0, 0, 0, 0, 0, 0, 0, 0, 0, 0, 0, 0, 0, 0, 0, 1, 1, 1, 1,\n",
       "       0, 0, 0, 0, 0, 0, 0, 0, 0, 0, 0, 0, 0, 0, 0, 0, 0, 0, 0, 0, 0, 0,\n",
       "       0, 0, 0, 0, 0, 1, 1, 1, 1, 0, 0, 0, 0, 0, 0, 0, 0, 0, 0, 0, 0, 0,\n",
       "       0, 0, 0, 0, 0, 0, 1, 1, 1, 1, 0, 0, 0, 0, 0, 0, 0, 0, 0, 0, 0, 0,\n",
       "       0, 0, 1, 1, 1, 1, 0, 0, 0, 0, 0, 0, 0, 0, 0, 0, 0, 0, 0, 1, 1, 1,\n",
       "       1, 0, 0, 0, 0, 0, 0, 0, 0, 0, 0, 0, 0, 0, 0, 0, 0, 1, 1, 1, 1, 0,\n",
       "       0, 0, 0, 0, 0, 0, 0, 0, 0, 0, 0, 0, 0, 0, 0, 0, 0, 0, 1, 1, 1, 1,\n",
       "       0, 0, 0, 0, 0, 0, 0, 0, 0, 0, 0, 0, 0, 0, 0, 0, 0, 0, 0, 0, 0, 0,\n",
       "       1, 1, 1, 1, 0, 0, 0, 0, 0, 0, 0, 0, 0, 0, 0, 0, 0, 0, 0, 0, 0, 0,\n",
       "       1, 1, 1, 1, 0, 0, 0, 0])"
      ]
     },
     "execution_count": 18,
     "metadata": {},
     "output_type": "execute_result"
    }
   ],
   "source": [
    "codes[0]"
   ]
  },
  {
   "cell_type": "code",
   "execution_count": 19,
   "id": "e12df7eb-a999-4f84-8b58-6c5503e5feea",
   "metadata": {},
   "outputs": [],
   "source": [
    "sfreq = int(epochs.info['sfreq'])\n",
    "n_samples_windows = int(window_size*sfreq)\n",
    "n_trial_per_class = int(len(data)/n_class)\n",
    "\n",
    "n_cal = 7\n",
    "\n",
    "\n",
    "data_train = data[:n_class*n_cal]\n",
    "labels_train = labels[:n_class*n_cal]\n",
    "data_test = data[n_class*n_cal:]\n",
    "labels_test = labels[n_class*n_cal:]\n"
   ]
  },
  {
   "cell_type": "markdown",
   "id": "89c34c29-78b0-4da1-ac2c-b18150cb175e",
   "metadata": {},
   "source": [
    "### Slice the epoch in windows\n",
    "The network is not processing full epochs but windows of 250ms. So each epoch is cut into window and the following code (`0` or `1`) is associated as label."
   ]
  },
  {
   "cell_type": "code",
   "execution_count": 20,
   "id": "ec58decc",
   "metadata": {},
   "outputs": [],
   "source": [
    "def to_window_old(data, labels):\n",
    "    length = int((2.2-window_size)*sfreq)\n",
    "    X = np.empty(shape=((length)*data.shape[0], n_channels, n_samples_windows))\n",
    "    y = np.empty(shape=((length)*data.shape[0]), dtype=int)\n",
    "    print(length)\n",
    "    print(n_samples_windows)\n",
    "    count = 0\n",
    "    for trial_nb, trial in enumerate(data):\n",
    "        lab = labels[trial_nb]\n",
    "        c = codes[lab]\n",
    "        code_pos = 0\n",
    "        for idx in range(length):\n",
    "            X[count] = trial[:, idx:idx+n_samples_windows]\n",
    "            if idx/sfreq >= (code_pos+1)/fps:\n",
    "                code_pos += 1 \n",
    "            y[count] = int(c[code_pos])\n",
    "            count += 1\n",
    "\n",
    "    X = np.expand_dims(X, 1)\n",
    "    X = X.astype(np.float32)\n",
    "    y = np.vstack((y,np.abs(1-y))).T\n",
    "    return X, y"
   ]
  },
  {
   "cell_type": "code",
   "execution_count": 21,
   "id": "b888b955-2c47-4dcd-b51f-438442a0d29a",
   "metadata": {},
   "outputs": [],
   "source": [
    "def to_window(data, labels, win_size, data_freq, code_freq, offset=0,\n",
    "              focus_rising=None, pre_rising=0, post_rising=0,\n",
    "              focus_falling=None, pre_falling=0, post_falling=0):\n",
    "    length = int((2.2-win_size)*data_freq)\n",
    "    X = np.empty(shape=((length)*data.shape[0], n_channels, n_samples_windows))\n",
    "    Y = np.empty(shape=((length)*data.shape[0]), dtype=int)\n",
    "    for trial_nb, trial in enumerate(data):\n",
    "        lab = labels[trial_nb]\n",
    "        c = codes[lab]\n",
    "        labels_upsampled = np.repeat(c, sfreq//code_freq)\n",
    "        labels_upsampled = np.concatenate((np.zeros(int(offset*data_freq), dtype=int), np.array(labels_upsampled)))\n",
    "        if (focus_rising is not None) or (focus_falling is not None):\n",
    "            hi_indices = []\n",
    "            low_indices = []\n",
    "            for idx in range(1, len(labels_upsampled)):\n",
    "                if (focus_rising is not None) and (labels_upsampled[idx-1] == 0) and (labels_upsampled[idx] == 1):\n",
    "                    hi_indices.append(idx)\n",
    "                elif (focus_falling is not None) and (labels_upsampled[idx-1] == 1) and (labels_upsampled[idx] == 0):\n",
    "                    low_indices.append(idx)\n",
    "            focused_labels = np.zeros(length)\n",
    "            pre_rising_frames = int(sfreq*pre_rising)\n",
    "            post_rising_frames = int(sfreq*post_rising)\n",
    "            pre_falling_frames = int(sfreq*pre_falling)\n",
    "            post_falling_frames = int(sfreq*post_falling)\n",
    "            for idx in hi_indices:\n",
    "                focused_labels[idx-pre_rising_frames:idx+post_rising_frames+1] = 1\n",
    "            for idx in low_indices:\n",
    "                focused_labels[idx-pre_falling_frames:idx+post_falling_frames+1] = 1\n",
    "        else:\n",
    "            focused_labels = labels_upsampled.copy()\n",
    "            \n",
    "        for idx in range(length):\n",
    "            # print('Xidx:', trial_nb*length+idx, \"Tidxm:\", idx, 'TidxM:', idx +\n",
    "            #       n_samples_windows, 'Ltrial', trial[:, idx:idx+n_samples_windows].shape)\n",
    "            X[trial_nb*length+idx] = trial[:, idx:idx+n_samples_windows]\n",
    "            Y[trial_nb*length+idx] = focused_labels[idx]\n",
    "    X = np.expand_dims(X, 1)\n",
    "    X = X.astype(np.float32)\n",
    "    Y = np.vstack((Y,np.abs(1-Y))).T\n",
    "    return X, Y"
   ]
  },
  {
   "cell_type": "code",
   "execution_count": 22,
   "id": "23dc6e48",
   "metadata": {},
   "outputs": [
    {
     "data": {
      "text/plain": [
       "(28, 32, 1101)"
      ]
     },
     "execution_count": 22,
     "metadata": {},
     "output_type": "execute_result"
    }
   ],
   "source": [
    "data_train.shape"
   ]
  },
  {
   "cell_type": "code",
   "execution_count": 23,
   "id": "50bfe6de",
   "metadata": {},
   "outputs": [
    {
     "name": "stdout",
     "output_type": "stream",
     "text": [
      "975\n",
      "125\n",
      "975\n",
      "125\n"
     ]
    }
   ],
   "source": [
    "window_size = 0.25\n",
    "# X, Y = to_window_old(np.array(data_train[:1]), labels_train[:1])\n",
    "# X_train, Y_train = to_window_old(data_train, labels_train)\n",
    "# X_test, Y_test = to_window_old(data_test, labels_test)\n",
    "# print(Y[:,0])\n",
    "X_train, Y_train = to_window_old(data_train, labels_train)#, 0.25, sfreq, 60)\n",
    "X_test, Y_test = to_window_old(data_test, labels_test)#, 0.25, sfreq, 60)\n",
    "# print(codes[labels_train[0]])\n",
    "# print(np.array(Y_train[:,0]))"
   ]
  },
  {
   "cell_type": "markdown",
   "id": "8e8d7b89-7b58-44f9-ab45-3b1ef1ea713e",
   "metadata": {},
   "source": [
    "### Normalization using stats from the train set"
   ]
  },
  {
   "cell_type": "code",
   "execution_count": 24,
   "id": "e2ab8195-3775-47c4-8a16-953fac6636a0",
   "metadata": {},
   "outputs": [],
   "source": [
    "X_std = X_train.std(axis=0)\n",
    "X_train /= X_std + 1e-8\n",
    "X_std = X_test.std(axis=0)\n",
    "X_test /= X_std + 1e-8"
   ]
  },
  {
   "cell_type": "markdown",
   "id": "b1e1ba06-f21d-4ecf-9cd5-8387736a4508",
   "metadata": {
    "tags": []
   },
   "source": [
    "### Balance classes\n",
    "Our classes are unbalanced, there are more `1` than `0` in the train set (the stimulation is more often ON than OFF).  \n",
    "We will use a random under sampler to make it balance."
   ]
  },
  {
   "cell_type": "code",
   "execution_count": 25,
   "id": "692240c1",
   "metadata": {},
   "outputs": [
    {
     "name": "stdout",
     "output_type": "stream",
     "text": [
      "(27300, 1, 32, 125)\n",
      "(31200, 1, 32, 125)\n",
      "(27300, 2)\n",
      "4676\n",
      "(31200, 2)\n",
      "5344\n"
     ]
    }
   ],
   "source": [
    "print(X_train.shape)\n",
    "print(X_test.shape)\n",
    "print(Y_train.shape)\n",
    "print(len(Y_train[Y_train[:, 0] == 1]))\n",
    "print(Y_test.shape)\n",
    "print(len(Y_test[Y_test[:, 0] == 1]))\n"
   ]
  },
  {
   "cell_type": "code",
   "execution_count": 26,
   "id": "44030563-1570-4eb3-b112-6b630d449e25",
   "metadata": {},
   "outputs": [],
   "source": [
    "\n",
    "rus = RandomUnderSampler()\n",
    "counter=np.array(range(0,len(Y_train))).reshape(-1,1)\n",
    "index,_ = rus.fit_resample(counter,Y_train[:,0])\n",
    "X_train = np.squeeze(X_train[index,:,:,:], axis=1)\n",
    "Y_train = np.squeeze(Y_train[index])\n",
    "rus = RandomUnderSampler()\n",
    "counter=np.array(range(0,len(Y_test))).reshape(-1,1)\n",
    "index,_ = rus.fit_resample(counter,Y_test[:,0])\n",
    "X_test = np.squeeze(X_test[index,:,:,:], axis=1)\n",
    "Y_test = np.squeeze(Y_test[index])"
   ]
  },
  {
   "cell_type": "code",
   "execution_count": 27,
   "id": "44336b40-3e06-4c69-9858-2b696853ea86",
   "metadata": {},
   "outputs": [
    {
     "name": "stdout",
     "output_type": "stream",
     "text": [
      "(9352, 1, 32, 125)\n",
      "(9352, 2)\n",
      "(10688, 1, 32, 125)\n",
      "(10688, 2)\n"
     ]
    }
   ],
   "source": [
    "print(X_train.shape)\n",
    "print(Y_train.shape)\n",
    "print(X_test.shape)\n",
    "print(Y_test.shape)\n"
   ]
  },
  {
   "cell_type": "code",
   "execution_count": 28,
   "id": "38de3569",
   "metadata": {},
   "outputs": [
    {
     "name": "stdout",
     "output_type": "stream",
     "text": [
      "4676\n",
      "4676\n",
      "5344\n",
      "5344\n"
     ]
    }
   ],
   "source": [
    "print(len(Y_train[Y_train[:,0] == 0]))\n",
    "print(len(Y_train[Y_train[:,0] == 1]))\n",
    "print(len(Y_test[Y_test[:,0] == 0]))\n",
    "print(len(Y_test[Y_test[:,0] == 1]))"
   ]
  },
  {
   "cell_type": "markdown",
   "id": "37542174-788c-4128-ae21-94cf344b15d1",
   "metadata": {},
   "source": [
    "### Pick an architecture"
   ]
  },
  {
   "cell_type": "code",
   "execution_count": 29,
   "id": "c0727580-c7d6-498a-a90c-467e07da91b5",
   "metadata": {},
   "outputs": [
    {
     "name": "stdout",
     "output_type": "stream",
     "text": [
      "WARNING:tensorflow:From c:\\Users\\s.velut\\AppData\\Local\\Programs\\Python\\Python311\\Lib\\site-packages\\keras\\src\\backend.py:873: The name tf.get_default_graph is deprecated. Please use tf.compat.v1.get_default_graph instead.\n",
      "\n",
      "WARNING:tensorflow:From c:\\Users\\s.velut\\AppData\\Local\\Programs\\Python\\Python311\\Lib\\site-packages\\keras\\src\\layers\\normalization\\batch_normalization.py:979: The name tf.nn.fused_batch_norm is deprecated. Please use tf.compat.v1.nn.fused_batch_norm instead.\n",
      "\n",
      "Model: \"sequential\"\n",
      "_________________________________________________________________\n",
      " Layer (type)                Output Shape              Param #   \n",
      "=================================================================\n",
      " conv2d (Conv2D)             (None, 16, 1, 125)        528       \n",
      "                                                                 \n",
      " batch_normalization (Batch  (None, 16, 1, 125)        48        \n",
      " Normalization)                                                  \n",
      "                                                                 \n",
      " max_pooling2d (MaxPooling2  (None, 16, 1, 63)         0         \n",
      " D)                                                              \n",
      "                                                                 \n",
      " dropout (Dropout)           (None, 16, 1, 63)         0         \n",
      "                                                                 \n",
      " conv2d_1 (Conv2D)           (None, 8, 1, 63)          4104      \n",
      "                                                                 \n",
      " batch_normalization_1 (Bat  (None, 8, 1, 63)          24        \n",
      " chNormalization)                                                \n",
      "                                                                 \n",
      " leaky_re_lu (LeakyReLU)     (None, 8, 1, 63)          0         \n",
      "                                                                 \n",
      " max_pooling2d_1 (MaxPoolin  (None, 8, 1, 63)          0         \n",
      " g2D)                                                            \n",
      "                                                                 \n",
      " dropout_1 (Dropout)         (None, 8, 1, 63)          0         \n",
      "                                                                 \n",
      " conv2d_2 (Conv2D)           (None, 4, 1, 63)          804       \n",
      "                                                                 \n",
      " batch_normalization_2 (Bat  (None, 4, 1, 63)          12        \n",
      " chNormalization)                                                \n",
      "                                                                 \n",
      " leaky_re_lu_1 (LeakyReLU)   (None, 4, 1, 63)          0         \n",
      "                                                                 \n",
      " max_pooling2d_2 (MaxPoolin  (None, 4, 1, 32)          0         \n",
      " g2D)                                                            \n",
      "                                                                 \n",
      " dropout_2 (Dropout)         (None, 4, 1, 32)          0         \n",
      "                                                                 \n",
      " flatten (Flatten)           (None, 128)               0         \n",
      "                                                                 \n",
      " dense (Dense)               (None, 256)               33024     \n",
      "                                                                 \n",
      " leaky_re_lu_2 (LeakyReLU)   (None, 256)               0         \n",
      "                                                                 \n",
      " preds (Dense)               (None, 2)                 514       \n",
      "                                                                 \n",
      "=================================================================\n",
      "Total params: 39058 (152.57 KB)\n",
      "Trainable params: 39002 (152.35 KB)\n",
      "Non-trainable params: 56 (224.00 Byte)\n",
      "_________________________________________________________________\n"
     ]
    }
   ],
   "source": [
    "#  clf = basearchi_patchembedding(windows_size = n_samples_windows, n_channel_input = n_channels) # other stim\n",
    "# clf = basearchi_patchembeddingdilation(windows_size = n_samples_windows, n_channel_input = n_channels) # burst\n",
    "# clf = vanilliaEEG2Code(windows_size = n_samples_windows, n_channel_input = n_channels) # burst\n",
    "# clf = trueVanilliaEEG2Code(windows_size = n_samples_windows, n_channel_input = n_channels) # burst\n",
    "# clf = basearchitest(windows_size = n_samples_windows, n_channel_input = n_channels)\n",
    "#c lf = basearchitest_batchnorm(windows_size = n_samples_windows, n_channel_input = n_channels)\n",
    "# clf = EEGnet_Inception(windows_size = n_samples_windows, n_channel_input = n_channels)\n",
    "clf = basearchi(windows_size = n_samples_windows, n_channel_input = n_channels)\n",
    "clf.summary()"
   ]
  },
  {
   "cell_type": "code",
   "execution_count": 30,
   "id": "e22a2512",
   "metadata": {},
   "outputs": [
    {
     "name": "stdout",
     "output_type": "stream",
     "text": [
      "(9352, 1, 32, 125)\n",
      "(9352, 2)\n",
      "(10688, 1, 32, 125)\n",
      "(10688, 2)\n"
     ]
    }
   ],
   "source": [
    "print(X_train.shape)\n",
    "print(Y_train.shape)\n",
    "print(X_test.shape)\n",
    "print(Y_test.shape)\n"
   ]
  },
  {
   "cell_type": "markdown",
   "id": "c5099b32-1a52-4758-a20b-0a2c759d9cbc",
   "metadata": {
    "tags": []
   },
   "source": [
    "### Cut the train in train and valid\n",
    "Also set some HP of the network"
   ]
  },
  {
   "cell_type": "code",
   "execution_count": 31,
   "id": "6f8a5ecf-8400-4722-86bc-317d15a2b8d1",
   "metadata": {},
   "outputs": [],
   "source": [
    "X_train, x_val, y_train, y_val = train_test_split(X_train, Y_train, test_size=0.1, random_state=42, shuffle=True)\n",
    "batchsize = 64 #128 # 64 for burst\n",
    "epochs = 20 #45 # 20 for burst"
   ]
  },
  {
   "cell_type": "markdown",
   "id": "18ad9011-e499-4c2a-9163-d968ba4d0153",
   "metadata": {},
   "source": [
    "### Attach an optimizer and train the network"
   ]
  },
  {
   "cell_type": "markdown",
   "id": "3c3bb97b",
   "metadata": {},
   "source": [
    "res_X_train=[]\n",
    "for i in range(len(X_train)):\n",
    "    res_X_train.append(np.array(X_train[i:i+1]).reshape(n_samples_windows, n_channels, 1))\n",
    "res_X_val=[]\n",
    "for i in range(len(x_val)):\n",
    "    res_X_val.append(np.array(x_val[i:i+1]).reshape(n_samples_windows, n_channels, 1))"
   ]
  },
  {
   "cell_type": "markdown",
   "id": "fde1a142",
   "metadata": {},
   "source": [
    "np.array(res_X_val).shape"
   ]
  },
  {
   "cell_type": "markdown",
   "id": "05b9861b",
   "metadata": {},
   "source": [
    "np.array(res_X_train).shape"
   ]
  },
  {
   "cell_type": "code",
   "execution_count": 32,
   "id": "29716ea1-43fe-4060-b7e2-7685be9c2804",
   "metadata": {},
   "outputs": [
    {
     "name": "stdout",
     "output_type": "stream",
     "text": [
      "Epoch 1/50\n",
      "WARNING:tensorflow:From c:\\Users\\s.velut\\AppData\\Local\\Programs\\Python\\Python311\\Lib\\site-packages\\keras\\src\\utils\\tf_utils.py:492: The name tf.ragged.RaggedTensorValue is deprecated. Please use tf.compat.v1.ragged.RaggedTensorValue instead.\n",
      "\n",
      "WARNING:tensorflow:From c:\\Users\\s.velut\\AppData\\Local\\Programs\\Python\\Python311\\Lib\\site-packages\\keras\\src\\engine\\base_layer_utils.py:384: The name tf.executing_eagerly_outside_functions is deprecated. Please use tf.compat.v1.executing_eagerly_outside_functions instead.\n",
      "\n",
      "132/132 [==============================] - 2s 9ms/step - loss: 0.6701 - accuracy: 0.6031 - val_loss: 0.5171 - val_accuracy: 0.7521\n",
      "Epoch 2/50\n",
      "132/132 [==============================] - 1s 8ms/step - loss: 0.4823 - accuracy: 0.7682 - val_loss: 0.3882 - val_accuracy: 0.8291\n",
      "Epoch 3/50\n",
      "132/132 [==============================] - 1s 8ms/step - loss: 0.4253 - accuracy: 0.8095 - val_loss: 0.3531 - val_accuracy: 0.8579\n",
      "Epoch 4/50\n",
      "132/132 [==============================] - 1s 8ms/step - loss: 0.3823 - accuracy: 0.8285 - val_loss: 0.3319 - val_accuracy: 0.8707\n",
      "Epoch 5/50\n",
      "132/132 [==============================] - 1s 8ms/step - loss: 0.3715 - accuracy: 0.8378 - val_loss: 0.3150 - val_accuracy: 0.8761\n",
      "Epoch 6/50\n",
      "132/132 [==============================] - 1s 8ms/step - loss: 0.3527 - accuracy: 0.8417 - val_loss: 0.2980 - val_accuracy: 0.8835\n",
      "Epoch 7/50\n",
      "132/132 [==============================] - 1s 8ms/step - loss: 0.3368 - accuracy: 0.8560 - val_loss: 0.2879 - val_accuracy: 0.8846\n",
      "Epoch 8/50\n",
      "132/132 [==============================] - 1s 8ms/step - loss: 0.3237 - accuracy: 0.8620 - val_loss: 0.2811 - val_accuracy: 0.8932\n",
      "Epoch 9/50\n",
      "132/132 [==============================] - 1s 8ms/step - loss: 0.3226 - accuracy: 0.8663 - val_loss: 0.2727 - val_accuracy: 0.8996\n",
      "Epoch 10/50\n",
      "132/132 [==============================] - 1s 8ms/step - loss: 0.3115 - accuracy: 0.8675 - val_loss: 0.2671 - val_accuracy: 0.8953\n",
      "Epoch 11/50\n",
      "132/132 [==============================] - 1s 8ms/step - loss: 0.2994 - accuracy: 0.8744 - val_loss: 0.2621 - val_accuracy: 0.8985\n",
      "Epoch 12/50\n",
      "132/132 [==============================] - 1s 8ms/step - loss: 0.2967 - accuracy: 0.8771 - val_loss: 0.2547 - val_accuracy: 0.9017\n",
      "Epoch 13/50\n",
      "132/132 [==============================] - 1s 8ms/step - loss: 0.2929 - accuracy: 0.8782 - val_loss: 0.2530 - val_accuracy: 0.9071\n",
      "Epoch 14/50\n",
      "132/132 [==============================] - 1s 8ms/step - loss: 0.2854 - accuracy: 0.8763 - val_loss: 0.2449 - val_accuracy: 0.9006\n",
      "Epoch 15/50\n",
      "132/132 [==============================] - 1s 8ms/step - loss: 0.2773 - accuracy: 0.8857 - val_loss: 0.2448 - val_accuracy: 0.9049\n",
      "Epoch 16/50\n",
      "132/132 [==============================] - 1s 8ms/step - loss: 0.2815 - accuracy: 0.8849 - val_loss: 0.2435 - val_accuracy: 0.9060\n",
      "Epoch 17/50\n",
      "132/132 [==============================] - 1s 8ms/step - loss: 0.2711 - accuracy: 0.8875 - val_loss: 0.2351 - val_accuracy: 0.9017\n",
      "Epoch 18/50\n",
      "132/132 [==============================] - 1s 8ms/step - loss: 0.2715 - accuracy: 0.8903 - val_loss: 0.2289 - val_accuracy: 0.9071\n",
      "Epoch 19/50\n",
      "132/132 [==============================] - 1s 8ms/step - loss: 0.2720 - accuracy: 0.8863 - val_loss: 0.2227 - val_accuracy: 0.9135\n",
      "Epoch 20/50\n",
      "132/132 [==============================] - 1s 8ms/step - loss: 0.2630 - accuracy: 0.8901 - val_loss: 0.2186 - val_accuracy: 0.9060\n",
      "Epoch 21/50\n",
      "132/132 [==============================] - 1s 8ms/step - loss: 0.2650 - accuracy: 0.8904 - val_loss: 0.2182 - val_accuracy: 0.9167\n",
      "Epoch 22/50\n",
      "132/132 [==============================] - 1s 8ms/step - loss: 0.2615 - accuracy: 0.8900 - val_loss: 0.2142 - val_accuracy: 0.9199\n",
      "Epoch 23/50\n",
      "132/132 [==============================] - 1s 8ms/step - loss: 0.2588 - accuracy: 0.8944 - val_loss: 0.2187 - val_accuracy: 0.9124\n",
      "Epoch 24/50\n",
      "132/132 [==============================] - 1s 8ms/step - loss: 0.2522 - accuracy: 0.8940 - val_loss: 0.2169 - val_accuracy: 0.9135\n",
      "Epoch 25/50\n",
      "132/132 [==============================] - 1s 8ms/step - loss: 0.2582 - accuracy: 0.8933 - val_loss: 0.2049 - val_accuracy: 0.9209\n",
      "Epoch 26/50\n",
      "132/132 [==============================] - 1s 8ms/step - loss: 0.2497 - accuracy: 0.8996 - val_loss: 0.2020 - val_accuracy: 0.9241\n",
      "Epoch 27/50\n",
      "132/132 [==============================] - 1s 8ms/step - loss: 0.2382 - accuracy: 0.8998 - val_loss: 0.1935 - val_accuracy: 0.9359\n",
      "Epoch 28/50\n",
      "132/132 [==============================] - 1s 8ms/step - loss: 0.2511 - accuracy: 0.8994 - val_loss: 0.2009 - val_accuracy: 0.9295\n",
      "Epoch 29/50\n",
      "132/132 [==============================] - 1s 8ms/step - loss: 0.2479 - accuracy: 0.9002 - val_loss: 0.2049 - val_accuracy: 0.9284\n",
      "Epoch 30/50\n",
      "132/132 [==============================] - 1s 8ms/step - loss: 0.2383 - accuracy: 0.9019 - val_loss: 0.1950 - val_accuracy: 0.9209\n",
      "Epoch 31/50\n",
      "132/132 [==============================] - 1s 8ms/step - loss: 0.2296 - accuracy: 0.9061 - val_loss: 0.1972 - val_accuracy: 0.9188\n",
      "Epoch 32/50\n",
      "132/132 [==============================] - 1s 8ms/step - loss: 0.2325 - accuracy: 0.9045 - val_loss: 0.1878 - val_accuracy: 0.9295\n",
      "Epoch 33/50\n",
      "132/132 [==============================] - 1s 8ms/step - loss: 0.2415 - accuracy: 0.9036 - val_loss: 0.1985 - val_accuracy: 0.9177\n",
      "Epoch 34/50\n",
      "132/132 [==============================] - 1s 8ms/step - loss: 0.2378 - accuracy: 0.9034 - val_loss: 0.1884 - val_accuracy: 0.9241\n",
      "Epoch 35/50\n",
      "132/132 [==============================] - 1s 8ms/step - loss: 0.2374 - accuracy: 0.9047 - val_loss: 0.1807 - val_accuracy: 0.9327\n",
      "Epoch 36/50\n",
      "132/132 [==============================] - 1s 8ms/step - loss: 0.2296 - accuracy: 0.9045 - val_loss: 0.1863 - val_accuracy: 0.9306\n",
      "Epoch 37/50\n",
      "132/132 [==============================] - 1s 8ms/step - loss: 0.2298 - accuracy: 0.9032 - val_loss: 0.1872 - val_accuracy: 0.9263\n",
      "Epoch 38/50\n",
      "132/132 [==============================] - 1s 8ms/step - loss: 0.2297 - accuracy: 0.9062 - val_loss: 0.1760 - val_accuracy: 0.9306\n",
      "Epoch 39/50\n",
      "132/132 [==============================] - 1s 8ms/step - loss: 0.2338 - accuracy: 0.9029 - val_loss: 0.1761 - val_accuracy: 0.9348\n",
      "Epoch 40/50\n",
      "132/132 [==============================] - 1s 8ms/step - loss: 0.2326 - accuracy: 0.9045 - val_loss: 0.1875 - val_accuracy: 0.9241\n",
      "Epoch 41/50\n",
      "132/132 [==============================] - 1s 9ms/step - loss: 0.2174 - accuracy: 0.9115 - val_loss: 0.1754 - val_accuracy: 0.9295\n",
      "Epoch 42/50\n",
      "132/132 [==============================] - 1s 8ms/step - loss: 0.2237 - accuracy: 0.9096 - val_loss: 0.1704 - val_accuracy: 0.9370\n",
      "Epoch 43/50\n",
      "132/132 [==============================] - 1s 8ms/step - loss: 0.2223 - accuracy: 0.9083 - val_loss: 0.1689 - val_accuracy: 0.9338\n",
      "Epoch 44/50\n",
      "132/132 [==============================] - 1s 8ms/step - loss: 0.2295 - accuracy: 0.9058 - val_loss: 0.1744 - val_accuracy: 0.9338\n",
      "Epoch 45/50\n",
      "132/132 [==============================] - 1s 8ms/step - loss: 0.2251 - accuracy: 0.9117 - val_loss: 0.1681 - val_accuracy: 0.9370\n",
      "Epoch 46/50\n",
      "132/132 [==============================] - 1s 8ms/step - loss: 0.2216 - accuracy: 0.9112 - val_loss: 0.1708 - val_accuracy: 0.9327\n",
      "Epoch 47/50\n",
      "132/132 [==============================] - 1s 8ms/step - loss: 0.2289 - accuracy: 0.9068 - val_loss: 0.1723 - val_accuracy: 0.9316\n",
      "Epoch 48/50\n",
      "132/132 [==============================] - 1s 8ms/step - loss: 0.2192 - accuracy: 0.9079 - val_loss: 0.1777 - val_accuracy: 0.9316\n",
      "Epoch 49/50\n",
      "132/132 [==============================] - 1s 8ms/step - loss: 0.2208 - accuracy: 0.9055 - val_loss: 0.1665 - val_accuracy: 0.9380\n",
      "Epoch 50/50\n",
      "132/132 [==============================] - 1s 8ms/step - loss: 0.2144 - accuracy: 0.9153 - val_loss: 0.1767 - val_accuracy: 0.9316\n"
     ]
    }
   ],
   "source": [
    "lr = 1e-3\n",
    "weight_decay = 1e-4\n",
    "optimizer = keras.optimizers.Adam(learning_rate=lr, amsgrad=True)\n",
    "clf.compile(loss='binary_crossentropy',optimizer=optimizer, metrics=['accuracy'])\n",
    "history = clf.fit(np.array(X_train), y_train,\n",
    "                  batch_size=batchsize, epochs=50,\n",
    "                  validation_data=(np.array(x_val), y_val), shuffle=True)\n",
    "keras.backend.clear_session()"
   ]
  },
  {
   "cell_type": "code",
   "execution_count": 33,
   "metadata": {},
   "outputs": [
    {
     "name": "stdout",
     "output_type": "stream",
     "text": [
      "334/334 [==============================] - 1s 2ms/step - loss: 0.3813 - accuracy: 0.8552\n"
     ]
    },
    {
     "data": {
      "text/plain": [
       "[0.3812752664089203, 0.855164647102356]"
      ]
     },
     "execution_count": 33,
     "metadata": {},
     "output_type": "execute_result"
    }
   ],
   "source": [
    "clf.evaluate(X_test,Y_test)"
   ]
  },
  {
   "cell_type": "markdown",
   "id": "8b597e6e-6eb6-4314-bfcf-a4f405d6d0f1",
   "metadata": {},
   "source": [
    "### Model and accuracy and loss\n",
    "Just check that the model learnt something"
   ]
  },
  {
   "cell_type": "code",
   "execution_count": 27,
   "id": "863a1b07-b67d-4557-9406-2cd1bde805e9",
   "metadata": {
    "tags": []
   },
   "outputs": [
    {
     "name": "stdout",
     "output_type": "stream",
     "text": [
      "\n"
     ]
    },
    {
     "data": {
      "image/png": "[encoded data removed]",
      "text/plain": [
       "<Figure size 1200x1200 with 2 Axes>"
      ]
     },
     "metadata": {},
     "output_type": "display_data"
    }
   ],
   "source": [
    "plt.figure(figsize=(12,12))\n",
    "# summarize history for accuracy\n",
    "plt.subplot(2,1,1)\n",
    "plt.plot(history.history['accuracy'])\n",
    "plt.plot(history.history['val_accuracy'])\n",
    "plt.title('model accuracy')\n",
    "plt.ylabel('accuracy')\n",
    "plt.xlabel('epoch')\n",
    "plt.legend(['train', 'test'], loc='upper left')\n",
    "# summarize history for loss\n",
    "plt.subplot(2,1,2)\n",
    "plt.plot(history.history['loss'])\n",
    "plt.plot(history.history['val_loss'])\n",
    "plt.title('model loss')\n",
    "plt.ylabel('loss')\n",
    "plt.xlabel('epoch')\n",
    "plt.legend(['train', 'test'], loc='upper left')\n",
    "print()\n"
   ]
  },
  {
   "cell_type": "markdown",
   "id": "a5c91070-aab2-451f-b011-4ad2eb23f0ca",
   "metadata": {},
   "source": [
    "filename = ''\n",
    "np.save(filename + \"std_from_calibration\", X_std)\n",
    "model_filename = os.path.join(os.getcwd(), filename + '0.7' + \"trainedmodel\")\n",
    "# Save the model if calibration was done\n",
    "clf.save(model_filename)\n",
    "keras.backend.clear_session()"
   ]
  },
  {
   "cell_type": "markdown",
   "id": "77c2ae4c-9865-42a3-bc95-45ad496308c4",
   "metadata": {},
   "source": [
    "## Vizualize learned filters\n",
    "### Raw vizualiation of 1D convolutinal kernel of the first layer --> spatial filters"
   ]
  },
  {
   "cell_type": "code",
   "execution_count": 27,
   "id": "b58fd505-5745-43ae-8ef2-cd9045e945e9",
   "metadata": {},
   "outputs": [],
   "source": [
    "# # We first visualize the learned patch embeddings.\n",
    "# patch_embeddings = clf.layers[0].get_weights()[0]\n",
    "# weights = patch_embeddings\n",
    "# # First, apply min-max normalization to the\n",
    "# # given weights to avoid isotrophic scaling.\n",
    "# p_min, p_max = weights.min(), weights.max()\n",
    "# weights = (weights - p_min) / (p_max - p_min)\n",
    "\n",
    "# # Visualize all the filters.\n",
    "# num_filters = 10\n",
    "# plt.figure(figsize=(16, 2))\n",
    "# idx = 1\n",
    "# for i in range(num_filters):\n",
    "#     current_weight = weights[:, :, :, i]\n",
    "#     if current_weight.shape[-1] == 1:\n",
    "#         current_weight = current_weight.squeeze()\n",
    "#     ax = plt.subplot(1, 10, idx)\n",
    "#     ax.set_xticks([])\n",
    "#     ax.set_yticks([])\n",
    "#     plt.plot(current_weight)\n",
    "#     idx += 1"
   ]
  },
  {
   "cell_type": "markdown",
   "id": "c4be1554-eb6d-4001-8c2d-a421db9a5841",
   "metadata": {},
   "source": [
    "### Viz of the corresponding topo maps"
   ]
  },
  {
   "cell_type": "code",
   "execution_count": 28,
   "id": "a6b89198-1321-418a-a322-6251c4d46da6",
   "metadata": {
    "tags": []
   },
   "outputs": [],
   "source": [
    "# spatialfilts = clf.get_layer(\"conv2d\").get_weights()[0]\n",
    "# spatialfilts = np.squeeze(spatialfilts)\n",
    "# spatialfilts = np.swapaxes(spatialfilts, 1, 0)"
   ]
  },
  {
   "cell_type": "markdown",
   "id": "d04ca7e0-dd11-40e9-90e6-f162e290aa06",
   "metadata": {},
   "source": [
    "### Predict on the test set\n",
    "The predictions are made on windows to regress the code.  \n",
    "Here we divide the prediction in 10 fold to avoid OOM from the GPU."
   ]
  },
  {
   "cell_type": "code",
   "execution_count": 29,
   "id": "ebc6592c",
   "metadata": {},
   "outputs": [],
   "source": [
    "keras.backend.clear_session()"
   ]
  },
  {
   "cell_type": "code",
   "execution_count": 30,
   "id": "17f599ad-7a5f-469d-9680-876e7438cf3a",
   "metadata": {},
   "outputs": [
    {
     "name": "stdout",
     "output_type": "stream",
     "text": [
      "334/334 [==============================] - 1s 3ms/step\n"
     ]
    }
   ],
   "source": [
    "keras.backend.clear_session()\n",
    "y_pred = clf.predict(X_test)[:,0]\n",
    "y_pred = np.array(y_pred)"
   ]
  },
  {
   "cell_type": "markdown",
   "id": "81aefccb",
   "metadata": {},
   "source": []
  },
  {
   "cell_type": "code",
   "execution_count": 31,
   "id": "cf375061",
   "metadata": {},
   "outputs": [],
   "source": [
    "y_pred_norm = np.array([1 if (y >= 0.5) else 0 for y in y_pred])\n",
    "y_test_norm = np.array([0 if y[0] == 0 else 1 for y in Y_test])"
   ]
  },
  {
   "cell_type": "code",
   "execution_count": 32,
   "id": "b72c1d1e",
   "metadata": {},
   "outputs": [
    {
     "name": "stdout",
     "output_type": "stream",
     "text": [
      "True positives: 4708\n",
      "True negatives: 4560\n",
      "False positives: 784\n",
      "False negatives: 636\n",
      "Accuracy: 0.8671407185628742\n",
      "Sensitivity: 0.8809880239520959\n",
      "Precision: 0.8572469045884924\n",
      "Fowlkes-Mallows: 0.8690363953900129\n"
     ]
    }
   ],
   "source": [
    "import sklearn.metrics\n",
    "import math\n",
    "tn, fp, fn, tp = sklearn.metrics.confusion_matrix(y_test_norm, y_pred_norm).ravel()\n",
    "print(\"True positives:\", tp)\n",
    "print(\"True negatives:\", tn)\n",
    "print(\"False positives:\", fp)\n",
    "print(\"False negatives:\", fn)\n",
    "print(\"Accuracy:\", (tp+tn)/len(y_test_norm))\n",
    "print(\"Sensitivity:\", sen:=tp/(tp+fn))\n",
    "print(\"Precision:\", pre:=tp/(tp+fp))\n",
    "print(\"Fowlkes-Mallows:\", math.sqrt(sen*pre))\n"
   ]
  },
  {
   "cell_type": "markdown",
   "id": "adc6b90c-103f-4762-8d56-c820dfbf9129",
   "metadata": {},
   "source": [
    "### Convert prediction on windows (regressed code) to label prediction\n",
    "\n",
    "It is offline and synchronous, so we will:\n",
    "1. First create a `code_buffer` that contains the regressed code on the full epoch (2.2s - the last window)\n",
    "    - The refresh rate of the EEG device (500 Hz) is faster than the refress rate of the screen (60Hz), so we average predictions (500/60~8 samples) so they correspond to each flip of the screen.\n",
    "2. Starting from `min_len` (in number of samples), we compute Pearson correalation with the bank of templates code to find the closest one\n",
    "    - If the most correlated code has a significantely bigger correlation compared to the second one (50% bigger) and the p_value is significative then the trial is classified and we move to the next one\n",
    "    - If the thresholds are not reached, then we add samples (with a step of 3) to have a longer trial and re-do the computation\n",
    "    - The thresholds can never been reached in 2.2s, then the trial is not classified."
   ]
  },
  {
   "cell_type": "code",
   "execution_count": 33,
   "id": "7d4dff3c",
   "metadata": {},
   "outputs": [],
   "source": [
    "# p_best_score = 0\n",
    "# p_best_ratio = 0\n",
    "# p_best_acc = 0\n",
    "# p_best_values = ()\n",
    "\n",
    "# for p in np.logspace(0,-5, 6):\n",
    "#     for dr in np.linspace(0.2, 0.8, 7):\n",
    "#         labels_pred, _, mean_long = make_preds_pvalue(y_pred, codes, min_len=70, sfreq=sfreq, obj_p=p)\n",
    "#         ratio = len(labels_pred[labels_pred != -1])/len(labels_pred)\n",
    "#         accuracy = accuracy_score(labels_test[labels_pred != -1], labels_pred[labels_pred != -1])\n",
    "#         score = ratio*accuracy\n",
    "#         if ratio >= p_best_ratio:\n",
    "#             p_best_score = score\n",
    "#             p_best_acc = accuracy\n",
    "#             p_best_ratio = ratio\n",
    "#             p_best_values = (p, dr)\n",
    "#         print(\"==========\", p, \"+\", dr,':',ratio,'--',accuracy,'--',score, '--', np.mean(mean_long))\n",
    "# print(\"Best score\", p_best_score)\n",
    "# print(\"Best values\", p_best_values)            \n",
    "        "
   ]
  },
  {
   "cell_type": "markdown",
   "id": "d74d7e07-f107-48dd-9530-0d58f533aafd",
   "metadata": {},
   "source": [
    "### Compute accuracy score and accuracy score when a prediction is made (discard not classified trials)"
   ]
  },
  {
   "cell_type": "markdown",
   "id": "80c000d2-8ad2-4fce-8519-3197a7397513",
   "metadata": {},
   "source": [
    "### Other classification method\n",
    "Same as before but the classification method is different. Instead of thresholds to reach, if when increasing trial lengt a code correllated the most 40 times in a row then the trial is labeled."
   ]
  },
  {
   "cell_type": "code",
   "execution_count": 34,
   "id": "d8663d95",
   "metadata": {},
   "outputs": [],
   "source": [
    "# import importlib\n",
    "# importlib.reload(_utils)\n",
    "# from _utils import make_preds_accumul_aggresive, make_preds_pvalue\n",
    "\n"
   ]
  },
  {
   "cell_type": "code",
   "execution_count": 35,
   "id": "4fd82787",
   "metadata": {},
   "outputs": [
    {
     "name": "stderr",
     "output_type": "stream",
     "text": [
      "c:\\Users\\s.velut\\AppData\\Local\\Programs\\Python\\Python311\\Lib\\site-packages\\numpy\\lib\\function_base.py:2897: RuntimeWarning: invalid value encountered in divide\n",
      "  c /= stddev[:, None]\n",
      "c:\\Users\\s.velut\\AppData\\Local\\Programs\\Python\\Python311\\Lib\\site-packages\\numpy\\lib\\function_base.py:2898: RuntimeWarning: invalid value encountered in divide\n",
      "  c /= stddev[None, :]\n"
     ]
    },
    {
     "ename": "IndexError",
     "evalue": "boolean index did not match indexed array along dimension 0; dimension is 32 but corresponding boolean dimension is 10",
     "output_type": "error",
     "traceback": [
      "\u001b[1;31m---------------------------------------------------------------------------\u001b[0m",
      "\u001b[1;31mIndexError\u001b[0m                                Traceback (most recent call last)",
      "\u001b[1;32mc:\\Users\\s.velut\\Documents\\These\\Protheus_PHD\\single_subject.ipynb Cell 59\u001b[0m line \u001b[0;36m1\n\u001b[0;32m      <a href='vscode-notebook-cell:/c%3A/Users/s.velut/Documents/These/Protheus_PHD/single_subject.ipynb#Y112sZmlsZQ%3D%3D?line=7'>8</a>\u001b[0m labels_pred_accumul, _, mean_long_accumul \u001b[39m=\u001b[39m make_preds_accumul_aggresive(\n\u001b[0;32m      <a href='vscode-notebook-cell:/c%3A/Users/s.velut/Documents/These/Protheus_PHD/single_subject.ipynb#Y112sZmlsZQ%3D%3D?line=8'>9</a>\u001b[0m     y_pred_norm, codes, min_len\u001b[39m=\u001b[39m\u001b[39m30\u001b[39m, sfreq\u001b[39m=\u001b[39msfreq, consecutive\u001b[39m=\u001b[39mcons, window_size\u001b[39m=\u001b[39mwindow_size\n\u001b[0;32m     <a href='vscode-notebook-cell:/c%3A/Users/s.velut/Documents/These/Protheus_PHD/single_subject.ipynb#Y112sZmlsZQ%3D%3D?line=9'>10</a>\u001b[0m )\n\u001b[0;32m     <a href='vscode-notebook-cell:/c%3A/Users/s.velut/Documents/These/Protheus_PHD/single_subject.ipynb#Y112sZmlsZQ%3D%3D?line=10'>11</a>\u001b[0m ratio \u001b[39m=\u001b[39m np\u001b[39m.\u001b[39mround(\u001b[39mlen\u001b[39m(labels_pred_accumul[labels_pred_accumul \u001b[39m!=\u001b[39m \u001b[39m-\u001b[39m\u001b[39m1\u001b[39m])\u001b[39m/\u001b[39m\u001b[39mlen\u001b[39m(labels_pred_accumul), \u001b[39m2\u001b[39m)\n\u001b[1;32m---> <a href='vscode-notebook-cell:/c%3A/Users/s.velut/Documents/These/Protheus_PHD/single_subject.ipynb#Y112sZmlsZQ%3D%3D?line=11'>12</a>\u001b[0m accuracy \u001b[39m=\u001b[39m np\u001b[39m.\u001b[39mround(accuracy_score(labels_test[labels_pred_accumul\u001b[39m!=\u001b[39;49m\u001b[39m-\u001b[39;49m\u001b[39m1\u001b[39;49m], labels_pred_accumul[labels_pred_accumul\u001b[39m!=\u001b[39m\u001b[39m-\u001b[39m\u001b[39m1\u001b[39m]), \u001b[39m2\u001b[39m)\n\u001b[0;32m     <a href='vscode-notebook-cell:/c%3A/Users/s.velut/Documents/These/Protheus_PHD/single_subject.ipynb#Y112sZmlsZQ%3D%3D?line=12'>13</a>\u001b[0m score \u001b[39m=\u001b[39m np\u001b[39m.\u001b[39mround(ratio\u001b[39m*\u001b[39maccuracy,\u001b[39m2\u001b[39m)\n\u001b[0;32m     <a href='vscode-notebook-cell:/c%3A/Users/s.velut/Documents/These/Protheus_PHD/single_subject.ipynb#Y112sZmlsZQ%3D%3D?line=13'>14</a>\u001b[0m \u001b[39mprint\u001b[39m(\u001b[39m\"\u001b[39m\u001b[39m==========\u001b[39m\u001b[39m\"\u001b[39m, cons, \u001b[39m'\u001b[39m\u001b[39m:\u001b[39m\u001b[39m'\u001b[39m, ratio, \u001b[39m'\u001b[39m\u001b[39m--\u001b[39m\u001b[39m'\u001b[39m, accuracy,\n\u001b[0;32m     <a href='vscode-notebook-cell:/c%3A/Users/s.velut/Documents/These/Protheus_PHD/single_subject.ipynb#Y112sZmlsZQ%3D%3D?line=14'>15</a>\u001b[0m     \u001b[39m'\u001b[39m\u001b[39m--\u001b[39m\u001b[39m'\u001b[39m, score, \u001b[39m'\u001b[39m\u001b[39m--\u001b[39m\u001b[39m'\u001b[39m, np\u001b[39m.\u001b[39mmean(mean_long_accumul))\n",
      "\u001b[1;31mIndexError\u001b[0m: boolean index did not match indexed array along dimension 0; dimension is 32 but corresponding boolean dimension is 10"
     ]
    }
   ],
   "source": [
    "acc_best_score=0\n",
    "acc_best_ratio=0\n",
    "acc_best_acc=0\n",
    "acc_best_value = 0\n",
    "# for minlen in np.linspace(10, 60, 10):\n",
    "for cons in [15, 20, 25, 30, 35, 40, 45, 50, 55, 60]:\n",
    "    \n",
    "    labels_pred_accumul, _, mean_long_accumul = make_preds_accumul_aggresive(\n",
    "        y_pred_norm, codes, min_len=30, sfreq=sfreq, consecutive=cons, window_size=window_size\n",
    "    )\n",
    "    ratio = np.round(len(labels_pred_accumul[labels_pred_accumul != -1])/len(labels_pred_accumul), 2)\n",
    "    accuracy = np.round(accuracy_score(labels_test[labels_pred_accumul!=-1], labels_pred_accumul[labels_pred_accumul!=-1]), 2)\n",
    "    score = np.round(ratio*accuracy,2)\n",
    "    print(\"==========\", cons, ':', ratio, '--', accuracy,\n",
    "        '--', score, '--', np.mean(mean_long_accumul))\n",
    "    if accuracy > acc_best_acc:\n",
    "        acc_best_score = score\n",
    "        acc_best_value = cons\n",
    "        acc_best_acc = accuracy\n",
    "        acc_best_ratio = ratio\n",
    "\n",
    "print(\"Best accuracy\", acc_best_acc)\n",
    "print(\"Best ratio\", acc_best_ratio)\n",
    "print(\"Best score\", acc_best_score)\n",
    "print(\"Best values\", acc_best_value)\n"
   ]
  },
  {
   "cell_type": "code",
   "execution_count": null,
   "id": "814ab636",
   "metadata": {},
   "outputs": [
    {
     "ename": "IndexError",
     "evalue": "boolean index did not match indexed array along dimension 0; dimension is 32 but corresponding boolean dimension is 3",
     "output_type": "error",
     "traceback": [
      "\u001b[0;31m---------------------------------------------------------------------------\u001b[0m",
      "\u001b[0;31mIndexError\u001b[0m                                Traceback (most recent call last)",
      "Cell \u001b[0;32mIn[37], line 1\u001b[0m\n\u001b[0;32m----> 1\u001b[0m accuracy_score(labels_test[labels_pred_accumul\u001b[39m!=\u001b[39;49m\u001b[39m-\u001b[39;49m\u001b[39m1\u001b[39;49m], labels_pred_accumul[labels_pred_accumul\u001b[39m!=\u001b[39m\u001b[39m-\u001b[39m\u001b[39m1\u001b[39m])\n",
      "\u001b[0;31mIndexError\u001b[0m: boolean index did not match indexed array along dimension 0; dimension is 32 but corresponding boolean dimension is 3"
     ]
    }
   ],
   "source": [
    "accuracy_score(labels_test[labels_pred_accumul!=-1], labels_pred_accumul[labels_pred_accumul!=-1])"
   ]
  },
  {
   "cell_type": "code",
   "execution_count": null,
   "id": "834d2fd0",
   "metadata": {},
   "outputs": [
    {
     "name": "stderr",
     "output_type": "stream",
     "text": [
      "/home/dcas/k.cabrera/miniconda3/envs/ISAE/lib/python3.10/site-packages/numpy/lib/function_base.py:2853: RuntimeWarning: invalid value encountered in divide\n",
      "  c /= stddev[:, None]\n",
      "/home/dcas/k.cabrera/miniconda3/envs/ISAE/lib/python3.10/site-packages/numpy/lib/function_base.py:2854: RuntimeWarning: invalid value encountered in divide\n",
      "  c /= stddev[None, :]\n"
     ]
    }
   ],
   "source": [
    "labels_pred_accumul, aaaaa, mean_long_accumul = make_preds_accumul_aggresive(\n",
    "        y_pred_norm, codes, min_len=30, sfreq=sfreq, consecutive=15, window_size=window_size\n",
    "    )"
   ]
  },
  {
   "cell_type": "code",
   "execution_count": null,
   "id": "1f451353",
   "metadata": {},
   "outputs": [
    {
     "data": {
      "text/plain": [
       "3"
      ]
     },
     "execution_count": 61,
     "metadata": {},
     "output_type": "execute_result"
    }
   ],
   "source": [
    "len(labels_pred_accumul)\n"
   ]
  },
  {
   "cell_type": "code",
   "execution_count": null,
   "id": "0eb4b0f7",
   "metadata": {},
   "outputs": [
    {
     "data": {
      "text/plain": [
       "OrderedDict([(0,\n",
       "              array([0, 0, 0, 0, 0, 0, 0, 0, 0, 0, 0, 0, 0, 0, 0, 1, 0, 0, 0, 0, 0, 0,\n",
       "                     0, 0, 0, 0, 0, 0, 0, 0, 0, 0, 0, 0, 0, 1, 0, 0, 0, 0, 0, 0, 0, 0,\n",
       "                     0, 0, 0, 0, 0, 0, 0, 0, 0, 0, 0, 1, 0, 0, 0, 0, 0, 0, 0, 0, 0, 0,\n",
       "                     0, 0, 0, 0, 0, 0, 0, 0, 0, 0, 0, 1, 0, 0, 0, 0, 0, 0, 0, 0, 0, 0,\n",
       "                     0, 0, 0, 0, 0, 0, 0, 0, 0, 1, 0, 0, 0, 0, 0, 0, 0, 0, 0, 0, 0, 0,\n",
       "                     0, 0, 0, 0, 0, 0, 0, 1, 0, 0, 0, 0, 0, 0, 0, 0, 0, 0, 0, 0, 0, 0])),\n",
       "             (1,\n",
       "              array([0, 0, 0, 0, 0, 0, 0, 0, 0, 0, 1, 0, 0, 0, 0, 0, 0, 0, 0, 0, 0, 0,\n",
       "                     0, 0, 0, 0, 0, 0, 0, 0, 1, 0, 0, 0, 0, 0, 0, 0, 0, 0, 0, 0, 0, 0,\n",
       "                     0, 0, 0, 0, 0, 0, 1, 0, 0, 0, 0, 0, 0, 0, 0, 0, 0, 0, 0, 0, 0, 0,\n",
       "                     0, 0, 0, 0, 0, 0, 1, 0, 0, 0, 0, 0, 0, 0, 0, 0, 0, 0, 0, 0, 0, 0,\n",
       "                     0, 0, 0, 0, 1, 0, 0, 0, 0, 0, 0, 0, 0, 0, 0, 0, 0, 0, 0, 0, 0, 0,\n",
       "                     0, 0, 1, 0, 0, 0, 0, 0, 0, 0, 0, 0, 0, 0, 0, 0, 0, 0, 0, 0, 0, 0])),\n",
       "             (2,\n",
       "              array([0, 0, 0, 0, 0, 1, 0, 0, 0, 0, 0, 0, 0, 0, 0, 0, 0, 0, 0, 0, 0, 0,\n",
       "                     0, 0, 0, 1, 0, 0, 0, 0, 0, 0, 0, 0, 0, 0, 0, 0, 0, 0, 0, 0, 0, 0,\n",
       "                     0, 1, 0, 0, 0, 0, 0, 0, 0, 0, 0, 0, 0, 0, 0, 0, 0, 0, 0, 0, 0, 1,\n",
       "                     0, 0, 0, 0, 0, 0, 0, 0, 0, 0, 0, 0, 0, 0, 0, 0, 0, 0, 0, 0, 0, 1,\n",
       "                     0, 0, 0, 0, 0, 0, 0, 0, 0, 0, 0, 0, 0, 0, 0, 0, 0, 0, 0, 1, 0, 0,\n",
       "                     0, 0, 0, 0, 0, 0, 0, 0, 0, 0, 0, 0, 0, 0, 0, 0, 0, 1, 0, 0, 0, 0])),\n",
       "             (3,\n",
       "              array([1, 0, 0, 0, 0, 0, 0, 0, 0, 0, 0, 0, 0, 0, 0, 0, 0, 0, 0, 0, 1, 0,\n",
       "                     0, 0, 0, 0, 0, 0, 0, 0, 0, 0, 0, 0, 0, 0, 0, 0, 0, 0, 1, 0, 0, 0,\n",
       "                     0, 0, 0, 0, 0, 0, 0, 0, 0, 0, 0, 0, 0, 0, 0, 0, 1, 0, 0, 0, 0, 0,\n",
       "                     0, 0, 0, 0, 0, 0, 0, 0, 0, 0, 0, 0, 0, 0, 0, 0, 1, 0, 0, 0, 0, 0,\n",
       "                     0, 0, 0, 0, 0, 0, 0, 0, 0, 0, 0, 0, 0, 0, 1, 0, 0, 0, 0, 0, 0, 0,\n",
       "                     0, 0, 0, 0, 0, 0, 0, 0, 0, 0, 0, 0, 1, 0, 0, 0, 0, 0, 0, 0, 0, 0]))])"
      ]
     },
     "execution_count": 62,
     "metadata": {},
     "output_type": "execute_result"
    }
   ],
   "source": [
    "codes"
   ]
  },
  {
   "cell_type": "code",
   "execution_count": null,
   "id": "f5269678",
   "metadata": {},
   "outputs": [],
   "source": []
  }
 ],
 "metadata": {
  "interpreter": {
   "hash": "8ac3a953833c090f146e4ba605ec310f853a691b325db82e974886e3abb928d6"
  },
  "kernelspec": {
   "display_name": "Python 3.11.5 64-bit",
   "language": "python",
   "name": "python3"
  },
  "language_info": {
   "codemirror_mode": {
    "name": "ipython",
    "version": 3
   },
   "file_extension": ".py",
   "mimetype": "text/x-python",
   "name": "python",
   "nbconvert_exporter": "python",
   "pygments_lexer": "ipython3",
   "version": "3.11.5"
  }
 },
 "nbformat": 4,
 "nbformat_minor": 5
}
