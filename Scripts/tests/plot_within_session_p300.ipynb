{
 "cells": [
  {
   "cell_type": "code",
   "execution_count": 1,
   "metadata": {
    "collapsed": false,
    "jupyter": {
     "outputs_hidden": false
    }
   },
   "outputs": [],
   "source": [
    "%matplotlib inline"
   ]
  },
  {
   "cell_type": "markdown",
   "metadata": {},
   "source": [
    "\n",
    "# Within Session P300\n",
    "\n",
    "This example shows how to perform a within session analysis on three different\n",
    "P300 datasets.\n",
    "\n",
    "We will compare two pipelines :\n",
    "\n",
    "- Riemannian geometry\n",
    "- XDAWN with Linear Discriminant Analysis\n",
    "\n",
    "We will use the P300 paradigm, which uses the AUC as metric.\n"
   ]
  },
  {
   "cell_type": "code",
   "execution_count": 10,
   "metadata": {
    "collapsed": false,
    "jupyter": {
     "outputs_hidden": false
    }
   },
   "outputs": [],
   "source": [
    "# Authors: Pedro Rodrigues <pedro.rodrigues01@gmail.com>\n",
    "#\n",
    "# License: BSD (3-clause)\n",
    "\n",
    "import warnings\n",
    "\n",
    "import matplotlib.pyplot as plt\n",
    "import seaborn as sns\n",
    "import mne\n",
    "from mne.decoding import Vectorizer\n",
    "from pyriemann.estimation import Xdawn, XdawnCovariances\n",
    "from pyriemann.tangentspace import TangentSpace\n",
    "from sklearn.discriminant_analysis import LinearDiscriminantAnalysis as LDA\n",
    "from sklearn.pipeline import make_pipeline\n",
    "\n",
    "import moabb\n",
    "from moabb.datasets import DemonsP300\n",
    "from moabb.datasets import BNCI2014_009\n",
    "from moabb.evaluations import WithinSessionEvaluation\n",
    "from moabb.paradigms import P300"
   ]
  },
  {
   "cell_type": "markdown",
   "metadata": {},
   "source": [
    "getting rid of the warnings about the future\n",
    "\n"
   ]
  },
  {
   "cell_type": "code",
   "execution_count": 2,
   "metadata": {
    "collapsed": false,
    "jupyter": {
     "outputs_hidden": false
    }
   },
   "outputs": [],
   "source": [
    "warnings.simplefilter(action=\"ignore\", category=FutureWarning)\n",
    "warnings.simplefilter(action=\"ignore\", category=RuntimeWarning)\n",
    "\n",
    "moabb.set_log_level(\"info\")"
   ]
  },
  {
   "cell_type": "markdown",
   "metadata": {},
   "source": [
    "## Create Pipelines\n",
    "\n",
    "Pipelines must be a dict of sklearn pipeline transformer.\n",
    "\n"
   ]
  },
  {
   "cell_type": "code",
   "execution_count": 3,
   "metadata": {
    "collapsed": false,
    "jupyter": {
     "outputs_hidden": false
    }
   },
   "outputs": [],
   "source": [
    "pipelines = {}\n"
   ]
  },
  {
   "cell_type": "markdown",
   "metadata": {},
   "source": [
    "We have to do this because the classes are called 'Target' and 'NonTarget'\n",
    "but the evaluation function uses a LabelEncoder, transforming them\n",
    "to 0 and 1\n",
    "\n"
   ]
  },
  {
   "cell_type": "code",
   "execution_count": 4,
   "metadata": {
    "collapsed": false,
    "jupyter": {
     "outputs_hidden": false
    }
   },
   "outputs": [],
   "source": [
    "labels_dict = {\"Target\": 1, \"NonTarget\": 0}\n",
    "\n",
    "pipelines[\"RG+LDA\"] = make_pipeline(\n",
    "    XdawnCovariances(\n",
    "        nfilter=2, classes=[labels_dict[\"Target\"]], estimator=\"lwf\", xdawn_estimator=\"scm\"\n",
    "    ),\n",
    "    TangentSpace(),\n",
    "    LDA(solver=\"lsqr\", shrinkage=\"auto\"),\n",
    ")\n",
    "\n",
    "pipelines[\"Xdw+LDA\"] = make_pipeline(\n",
    "    Xdawn(nfilter=2, estimator=\"scm\"), Vectorizer(), LDA(solver=\"lsqr\", shrinkage=\"auto\")\n",
    ")"
   ]
  },
  {
   "cell_type": "markdown",
   "metadata": {},
   "source": [
    "## Evaluation\n",
    "\n",
    "We define the paradigm (P300) and use all three datasets available for it.\n",
    "The evaluation will return a DataFrame containing a single AUC score for\n",
    "each subject / session of the dataset, and for each pipeline.\n",
    "\n",
    "Results are saved into the database, so that if you add a new pipeline, it\n",
    "will not run again the evaluation unless a parameter has changed. Results can\n",
    "be overwritten if necessary.\n",
    "\n"
   ]
  },
  {
   "cell_type": "code",
   "execution_count": 5,
   "metadata": {
    "collapsed": false,
    "jupyter": {
     "outputs_hidden": false
    }
   },
   "outputs": [
    {
     "name": "stderr",
     "output_type": "stream",
     "text": [
      "2023-11-10 11:02:04,772 INFO MainThread moabb.evaluations.base Processing dataset: BNCI2014-009\n"
     ]
    },
    {
     "name": "stdout",
     "output_type": "stream",
     "text": [
      "charging dataset\n",
      "{'Target': 2, 'NonTarget': 1}\n",
      "[1, 2, 3, 4, 5, 6, 7, 8, 9, 10]\n"
     ]
    },
    {
     "name": "stderr",
     "output_type": "stream",
     "text": [
      "BNCI2014-009-WithinSession:   0%|          | 0/10 [00:00<?, ?it/s]"
     ]
    },
    {
     "name": "stdout",
     "output_type": "stream",
     "text": [
      "No hdf5_path provided, models will not be saved.\n"
     ]
    },
    {
     "name": "stderr",
     "output_type": "stream",
     "text": [
      "2023-11-10 11:02:12,988 INFO MainThread moabb.evaluations.base RG+LDA | BNCI2014-009 | 1 | 0: Score 0.931\n"
     ]
    },
    {
     "name": "stdout",
     "output_type": "stream",
     "text": [
      "No hdf5_path provided, models will not be saved.\n"
     ]
    },
    {
     "name": "stderr",
     "output_type": "stream",
     "text": [
      "2023-11-10 11:02:18,611 INFO MainThread moabb.evaluations.base Xdw+LDA | BNCI2014-009 | 1 | 0: Score 0.944\n"
     ]
    },
    {
     "name": "stdout",
     "output_type": "stream",
     "text": [
      "No hdf5_path provided, models will not be saved.\n"
     ]
    },
    {
     "name": "stderr",
     "output_type": "stream",
     "text": [
      "2023-11-10 11:02:24,679 INFO MainThread moabb.evaluations.base RG+LDA | BNCI2014-009 | 1 | 1: Score 0.913\n"
     ]
    },
    {
     "name": "stdout",
     "output_type": "stream",
     "text": [
      "No hdf5_path provided, models will not be saved.\n"
     ]
    },
    {
     "name": "stderr",
     "output_type": "stream",
     "text": [
      "2023-11-10 11:02:30,405 INFO MainThread moabb.evaluations.base Xdw+LDA | BNCI2014-009 | 1 | 1: Score 0.936\n"
     ]
    },
    {
     "name": "stdout",
     "output_type": "stream",
     "text": [
      "No hdf5_path provided, models will not be saved.\n"
     ]
    },
    {
     "name": "stderr",
     "output_type": "stream",
     "text": [
      "2023-11-10 11:02:36,410 INFO MainThread moabb.evaluations.base RG+LDA | BNCI2014-009 | 1 | 2: Score 0.936\n"
     ]
    },
    {
     "name": "stdout",
     "output_type": "stream",
     "text": [
      "No hdf5_path provided, models will not be saved.\n"
     ]
    },
    {
     "name": "stderr",
     "output_type": "stream",
     "text": [
      "2023-11-10 11:02:42,013 INFO MainThread moabb.evaluations.base Xdw+LDA | BNCI2014-009 | 1 | 2: Score 0.938\n",
      "BNCI2014-009-WithinSession:  10%|█         | 1/10 [00:37<05:36, 37.33s/it]"
     ]
    },
    {
     "name": "stdout",
     "output_type": "stream",
     "text": [
      "No hdf5_path provided, models will not be saved.\n"
     ]
    },
    {
     "name": "stderr",
     "output_type": "stream",
     "text": [
      "2023-11-10 11:02:49,954 INFO MainThread moabb.evaluations.base RG+LDA | BNCI2014-009 | 2 | 0: Score 0.934\n"
     ]
    },
    {
     "name": "stdout",
     "output_type": "stream",
     "text": [
      "No hdf5_path provided, models will not be saved.\n"
     ]
    },
    {
     "name": "stderr",
     "output_type": "stream",
     "text": [
      "2023-11-10 11:02:55,562 INFO MainThread moabb.evaluations.base Xdw+LDA | BNCI2014-009 | 2 | 0: Score 0.950\n"
     ]
    },
    {
     "name": "stdout",
     "output_type": "stream",
     "text": [
      "No hdf5_path provided, models will not be saved.\n"
     ]
    },
    {
     "name": "stderr",
     "output_type": "stream",
     "text": [
      "2023-11-10 11:03:01,510 INFO MainThread moabb.evaluations.base RG+LDA | BNCI2014-009 | 2 | 1: Score 0.910\n"
     ]
    },
    {
     "name": "stdout",
     "output_type": "stream",
     "text": [
      "No hdf5_path provided, models will not be saved.\n"
     ]
    },
    {
     "name": "stderr",
     "output_type": "stream",
     "text": [
      "2023-11-10 11:03:07,101 INFO MainThread moabb.evaluations.base Xdw+LDA | BNCI2014-009 | 2 | 1: Score 0.954\n"
     ]
    },
    {
     "name": "stdout",
     "output_type": "stream",
     "text": [
      "No hdf5_path provided, models will not be saved.\n"
     ]
    },
    {
     "name": "stderr",
     "output_type": "stream",
     "text": [
      "2023-11-10 11:03:13,058 INFO MainThread moabb.evaluations.base RG+LDA | BNCI2014-009 | 2 | 2: Score 0.941\n"
     ]
    },
    {
     "name": "stdout",
     "output_type": "stream",
     "text": [
      "No hdf5_path provided, models will not be saved.\n"
     ]
    },
    {
     "name": "stderr",
     "output_type": "stream",
     "text": [
      "2023-11-10 11:03:18,667 INFO MainThread moabb.evaluations.base Xdw+LDA | BNCI2014-009 | 2 | 2: Score 0.939\n",
      "BNCI2014-009-WithinSession:  20%|██        | 2/10 [01:13<04:55, 36.93s/it]"
     ]
    },
    {
     "name": "stdout",
     "output_type": "stream",
     "text": [
      "No hdf5_path provided, models will not be saved.\n"
     ]
    },
    {
     "name": "stderr",
     "output_type": "stream",
     "text": [
      "2023-11-10 11:03:26,748 INFO MainThread moabb.evaluations.base RG+LDA | BNCI2014-009 | 3 | 0: Score 0.702\n"
     ]
    },
    {
     "name": "stdout",
     "output_type": "stream",
     "text": [
      "No hdf5_path provided, models will not be saved.\n"
     ]
    },
    {
     "name": "stderr",
     "output_type": "stream",
     "text": [
      "2023-11-10 11:03:32,324 INFO MainThread moabb.evaluations.base Xdw+LDA | BNCI2014-009 | 3 | 0: Score 0.689\n"
     ]
    },
    {
     "name": "stdout",
     "output_type": "stream",
     "text": [
      "No hdf5_path provided, models will not be saved.\n"
     ]
    },
    {
     "name": "stderr",
     "output_type": "stream",
     "text": [
      "2023-11-10 11:03:38,254 INFO MainThread moabb.evaluations.base RG+LDA | BNCI2014-009 | 3 | 1: Score 0.920\n"
     ]
    },
    {
     "name": "stdout",
     "output_type": "stream",
     "text": [
      "No hdf5_path provided, models will not be saved.\n"
     ]
    },
    {
     "name": "stderr",
     "output_type": "stream",
     "text": [
      "2023-11-10 11:03:43,831 INFO MainThread moabb.evaluations.base Xdw+LDA | BNCI2014-009 | 3 | 1: Score 0.908\n"
     ]
    },
    {
     "name": "stdout",
     "output_type": "stream",
     "text": [
      "No hdf5_path provided, models will not be saved.\n"
     ]
    },
    {
     "name": "stderr",
     "output_type": "stream",
     "text": [
      "2023-11-10 11:03:49,769 INFO MainThread moabb.evaluations.base RG+LDA | BNCI2014-009 | 3 | 2: Score 0.943\n"
     ]
    },
    {
     "name": "stdout",
     "output_type": "stream",
     "text": [
      "No hdf5_path provided, models will not be saved.\n"
     ]
    },
    {
     "name": "stderr",
     "output_type": "stream",
     "text": [
      "2023-11-10 11:03:55,389 INFO MainThread moabb.evaluations.base Xdw+LDA | BNCI2014-009 | 3 | 2: Score 0.938\n",
      "BNCI2014-009-WithinSession:  30%|███       | 3/10 [01:50<04:17, 36.84s/it]"
     ]
    },
    {
     "name": "stdout",
     "output_type": "stream",
     "text": [
      "No hdf5_path provided, models will not be saved.\n"
     ]
    },
    {
     "name": "stderr",
     "output_type": "stream",
     "text": [
      "2023-11-10 11:04:03,460 INFO MainThread moabb.evaluations.base RG+LDA | BNCI2014-009 | 4 | 0: Score 0.937\n"
     ]
    },
    {
     "name": "stdout",
     "output_type": "stream",
     "text": [
      "No hdf5_path provided, models will not be saved.\n"
     ]
    },
    {
     "name": "stderr",
     "output_type": "stream",
     "text": [
      "2023-11-10 11:04:09,089 INFO MainThread moabb.evaluations.base Xdw+LDA | BNCI2014-009 | 4 | 0: Score 0.949\n"
     ]
    },
    {
     "name": "stdout",
     "output_type": "stream",
     "text": [
      "No hdf5_path provided, models will not be saved.\n"
     ]
    },
    {
     "name": "stderr",
     "output_type": "stream",
     "text": [
      "2023-11-10 11:04:15,007 INFO MainThread moabb.evaluations.base RG+LDA | BNCI2014-009 | 4 | 1: Score 0.930\n"
     ]
    },
    {
     "name": "stdout",
     "output_type": "stream",
     "text": [
      "No hdf5_path provided, models will not be saved.\n"
     ]
    },
    {
     "name": "stderr",
     "output_type": "stream",
     "text": [
      "2023-11-10 11:04:20,607 INFO MainThread moabb.evaluations.base Xdw+LDA | BNCI2014-009 | 4 | 1: Score 0.940\n"
     ]
    },
    {
     "name": "stdout",
     "output_type": "stream",
     "text": [
      "No hdf5_path provided, models will not be saved.\n"
     ]
    },
    {
     "name": "stderr",
     "output_type": "stream",
     "text": [
      "2023-11-10 11:04:26,536 INFO MainThread moabb.evaluations.base RG+LDA | BNCI2014-009 | 4 | 2: Score 0.921\n"
     ]
    },
    {
     "name": "stdout",
     "output_type": "stream",
     "text": [
      "No hdf5_path provided, models will not be saved.\n"
     ]
    },
    {
     "name": "stderr",
     "output_type": "stream",
     "text": [
      "2023-11-10 11:04:32,136 INFO MainThread moabb.evaluations.base Xdw+LDA | BNCI2014-009 | 4 | 2: Score 0.945\n",
      "BNCI2014-009-WithinSession:  40%|████      | 4/10 [02:27<03:40, 36.80s/it]"
     ]
    },
    {
     "name": "stdout",
     "output_type": "stream",
     "text": [
      "No hdf5_path provided, models will not be saved.\n"
     ]
    },
    {
     "name": "stderr",
     "output_type": "stream",
     "text": [
      "2023-11-10 11:04:39,999 INFO MainThread moabb.evaluations.base RG+LDA | BNCI2014-009 | 5 | 0: Score 0.953\n"
     ]
    },
    {
     "name": "stdout",
     "output_type": "stream",
     "text": [
      "No hdf5_path provided, models will not be saved.\n"
     ]
    },
    {
     "name": "stderr",
     "output_type": "stream",
     "text": [
      "2023-11-10 11:04:45,597 INFO MainThread moabb.evaluations.base Xdw+LDA | BNCI2014-009 | 5 | 0: Score 0.970\n"
     ]
    },
    {
     "name": "stdout",
     "output_type": "stream",
     "text": [
      "No hdf5_path provided, models will not be saved.\n"
     ]
    },
    {
     "name": "stderr",
     "output_type": "stream",
     "text": [
      "2023-11-10 11:04:51,485 INFO MainThread moabb.evaluations.base RG+LDA | BNCI2014-009 | 5 | 1: Score 0.926\n"
     ]
    },
    {
     "name": "stdout",
     "output_type": "stream",
     "text": [
      "No hdf5_path provided, models will not be saved.\n"
     ]
    },
    {
     "name": "stderr",
     "output_type": "stream",
     "text": [
      "2023-11-10 11:04:57,095 INFO MainThread moabb.evaluations.base Xdw+LDA | BNCI2014-009 | 5 | 1: Score 0.943\n"
     ]
    },
    {
     "name": "stdout",
     "output_type": "stream",
     "text": [
      "No hdf5_path provided, models will not be saved.\n"
     ]
    },
    {
     "name": "stderr",
     "output_type": "stream",
     "text": [
      "2023-11-10 11:05:03,075 INFO MainThread moabb.evaluations.base RG+LDA | BNCI2014-009 | 5 | 2: Score 0.940\n"
     ]
    },
    {
     "name": "stdout",
     "output_type": "stream",
     "text": [
      "No hdf5_path provided, models will not be saved.\n"
     ]
    },
    {
     "name": "stderr",
     "output_type": "stream",
     "text": [
      "2023-11-10 11:05:08,676 INFO MainThread moabb.evaluations.base Xdw+LDA | BNCI2014-009 | 5 | 2: Score 0.950\n",
      "BNCI2014-009-WithinSession:  50%|█████     | 5/10 [03:03<03:03, 36.71s/it]"
     ]
    },
    {
     "name": "stdout",
     "output_type": "stream",
     "text": [
      "No hdf5_path provided, models will not be saved.\n"
     ]
    },
    {
     "name": "stderr",
     "output_type": "stream",
     "text": [
      "2023-11-10 11:05:16,559 INFO MainThread moabb.evaluations.base RG+LDA | BNCI2014-009 | 6 | 0: Score 0.852\n"
     ]
    },
    {
     "name": "stdout",
     "output_type": "stream",
     "text": [
      "No hdf5_path provided, models will not be saved.\n"
     ]
    },
    {
     "name": "stderr",
     "output_type": "stream",
     "text": [
      "2023-11-10 11:05:22,155 INFO MainThread moabb.evaluations.base Xdw+LDA | BNCI2014-009 | 6 | 0: Score 0.878\n"
     ]
    },
    {
     "name": "stdout",
     "output_type": "stream",
     "text": [
      "No hdf5_path provided, models will not be saved.\n"
     ]
    },
    {
     "name": "stderr",
     "output_type": "stream",
     "text": [
      "2023-11-10 11:05:28,084 INFO MainThread moabb.evaluations.base RG+LDA | BNCI2014-009 | 6 | 1: Score 0.907\n"
     ]
    },
    {
     "name": "stdout",
     "output_type": "stream",
     "text": [
      "No hdf5_path provided, models will not be saved.\n"
     ]
    },
    {
     "name": "stderr",
     "output_type": "stream",
     "text": [
      "2023-11-10 11:05:33,703 INFO MainThread moabb.evaluations.base Xdw+LDA | BNCI2014-009 | 6 | 1: Score 0.930\n"
     ]
    },
    {
     "name": "stdout",
     "output_type": "stream",
     "text": [
      "No hdf5_path provided, models will not be saved.\n"
     ]
    },
    {
     "name": "stderr",
     "output_type": "stream",
     "text": [
      "2023-11-10 11:05:39,644 INFO MainThread moabb.evaluations.base RG+LDA | BNCI2014-009 | 6 | 2: Score 0.905\n"
     ]
    },
    {
     "name": "stdout",
     "output_type": "stream",
     "text": [
      "No hdf5_path provided, models will not be saved.\n"
     ]
    },
    {
     "name": "stderr",
     "output_type": "stream",
     "text": [
      "2023-11-10 11:05:45,242 INFO MainThread moabb.evaluations.base Xdw+LDA | BNCI2014-009 | 6 | 2: Score 0.923\n",
      "BNCI2014-009-WithinSession:  60%|██████    | 6/10 [03:40<02:26, 36.66s/it]"
     ]
    },
    {
     "name": "stdout",
     "output_type": "stream",
     "text": [
      "No hdf5_path provided, models will not be saved.\n"
     ]
    },
    {
     "name": "stderr",
     "output_type": "stream",
     "text": [
      "2023-11-10 11:05:53,167 INFO MainThread moabb.evaluations.base RG+LDA | BNCI2014-009 | 7 | 0: Score 0.921\n"
     ]
    },
    {
     "name": "stdout",
     "output_type": "stream",
     "text": [
      "No hdf5_path provided, models will not be saved.\n"
     ]
    },
    {
     "name": "stderr",
     "output_type": "stream",
     "text": [
      "2023-11-10 11:05:58,823 INFO MainThread moabb.evaluations.base Xdw+LDA | BNCI2014-009 | 7 | 0: Score 0.922\n"
     ]
    },
    {
     "name": "stdout",
     "output_type": "stream",
     "text": [
      "No hdf5_path provided, models will not be saved.\n"
     ]
    },
    {
     "name": "stderr",
     "output_type": "stream",
     "text": [
      "2023-11-10 11:06:04,814 INFO MainThread moabb.evaluations.base RG+LDA | BNCI2014-009 | 7 | 1: Score 0.922\n"
     ]
    },
    {
     "name": "stdout",
     "output_type": "stream",
     "text": [
      "No hdf5_path provided, models will not be saved.\n"
     ]
    },
    {
     "name": "stderr",
     "output_type": "stream",
     "text": [
      "2023-11-10 11:06:10,415 INFO MainThread moabb.evaluations.base Xdw+LDA | BNCI2014-009 | 7 | 1: Score 0.915\n"
     ]
    },
    {
     "name": "stdout",
     "output_type": "stream",
     "text": [
      "No hdf5_path provided, models will not be saved.\n"
     ]
    },
    {
     "name": "stderr",
     "output_type": "stream",
     "text": [
      "2023-11-10 11:06:16,323 INFO MainThread moabb.evaluations.base RG+LDA | BNCI2014-009 | 7 | 2: Score 0.841\n"
     ]
    },
    {
     "name": "stdout",
     "output_type": "stream",
     "text": [
      "No hdf5_path provided, models will not be saved.\n"
     ]
    },
    {
     "name": "stderr",
     "output_type": "stream",
     "text": [
      "2023-11-10 11:06:21,923 INFO MainThread moabb.evaluations.base Xdw+LDA | BNCI2014-009 | 7 | 2: Score 0.859\n",
      "BNCI2014-009-WithinSession:  70%|███████   | 7/10 [04:17<01:49, 36.67s/it]Downloading data from 'http://bnci-horizon-2020.eu/database/data-sets/009-2014/A08S.mat' to file 'C:\\Users\\velut\\mne_data_test\\MNE-bnci-data\\database\\data-sets\\009-2014\\A08S.mat'.\n",
      "c:\\Users\\velut\\AppData\\Local\\Programs\\Python\\Python311\\Lib\\site-packages\\urllib3\\connectionpool.py:1061: InsecureRequestWarning: Unverified HTTPS request is being made to host 'lampx.tugraz.at'. Adding certificate verification is strongly advised. See: https://urllib3.readthedocs.io/en/1.26.x/advanced-usage.html#ssl-warnings\n",
      "  warnings.warn(\n",
      "100%|#####################################| 18.5M/18.5M [00:00<00:00, 18.5GB/s]\n",
      "SHA256 hash of downloaded file: c1e9716f0c48cc78b59892a2ca6e707f66ce8c054da499f43298768e5270074b\n",
      "Use this value as the 'known_hash' argument of 'pooch.retrieve' to ensure that the file hasn't changed if it is downloaded again in the future.\n"
     ]
    },
    {
     "name": "stdout",
     "output_type": "stream",
     "text": [
      "No hdf5_path provided, models will not be saved.\n"
     ]
    },
    {
     "name": "stderr",
     "output_type": "stream",
     "text": [
      "2023-11-10 11:06:30,210 INFO MainThread moabb.evaluations.base RG+LDA | BNCI2014-009 | 8 | 0: Score 0.909\n"
     ]
    },
    {
     "name": "stdout",
     "output_type": "stream",
     "text": [
      "No hdf5_path provided, models will not be saved.\n"
     ]
    },
    {
     "name": "stderr",
     "output_type": "stream",
     "text": [
      "2023-11-10 11:06:35,846 INFO MainThread moabb.evaluations.base Xdw+LDA | BNCI2014-009 | 8 | 0: Score 0.915\n"
     ]
    },
    {
     "name": "stdout",
     "output_type": "stream",
     "text": [
      "No hdf5_path provided, models will not be saved.\n"
     ]
    },
    {
     "name": "stderr",
     "output_type": "stream",
     "text": [
      "2023-11-10 11:06:41,863 INFO MainThread moabb.evaluations.base RG+LDA | BNCI2014-009 | 8 | 1: Score 0.849\n"
     ]
    },
    {
     "name": "stdout",
     "output_type": "stream",
     "text": [
      "No hdf5_path provided, models will not be saved.\n"
     ]
    },
    {
     "name": "stderr",
     "output_type": "stream",
     "text": [
      "2023-11-10 11:06:47,508 INFO MainThread moabb.evaluations.base Xdw+LDA | BNCI2014-009 | 8 | 1: Score 0.889\n"
     ]
    },
    {
     "name": "stdout",
     "output_type": "stream",
     "text": [
      "No hdf5_path provided, models will not be saved.\n"
     ]
    },
    {
     "name": "stderr",
     "output_type": "stream",
     "text": [
      "2023-11-10 11:06:53,450 INFO MainThread moabb.evaluations.base RG+LDA | BNCI2014-009 | 8 | 2: Score 0.827\n"
     ]
    },
    {
     "name": "stdout",
     "output_type": "stream",
     "text": [
      "No hdf5_path provided, models will not be saved.\n"
     ]
    },
    {
     "name": "stderr",
     "output_type": "stream",
     "text": [
      "2023-11-10 11:06:59,061 INFO MainThread moabb.evaluations.base Xdw+LDA | BNCI2014-009 | 8 | 2: Score 0.862\n",
      "BNCI2014-009-WithinSession:  80%|████████  | 8/10 [04:54<01:13, 36.82s/it]Downloading data from 'http://bnci-horizon-2020.eu/database/data-sets/009-2014/A09S.mat' to file 'C:\\Users\\velut\\mne_data_test\\MNE-bnci-data\\database\\data-sets\\009-2014\\A09S.mat'.\n",
      "c:\\Users\\velut\\AppData\\Local\\Programs\\Python\\Python311\\Lib\\site-packages\\urllib3\\connectionpool.py:1061: InsecureRequestWarning: Unverified HTTPS request is being made to host 'lampx.tugraz.at'. Adding certificate verification is strongly advised. See: https://urllib3.readthedocs.io/en/1.26.x/advanced-usage.html#ssl-warnings\n",
      "  warnings.warn(\n",
      "100%|#####################################| 18.5M/18.5M [00:00<00:00, 18.5GB/s]\n",
      "SHA256 hash of downloaded file: c760087eac882541b2a67fc7d0a2cd698eb9ee469687c8fa2e59ed3d10ba4d48\n",
      "Use this value as the 'known_hash' argument of 'pooch.retrieve' to ensure that the file hasn't changed if it is downloaded again in the future.\n"
     ]
    },
    {
     "name": "stdout",
     "output_type": "stream",
     "text": [
      "No hdf5_path provided, models will not be saved.\n"
     ]
    },
    {
     "name": "stderr",
     "output_type": "stream",
     "text": [
      "2023-11-10 11:07:07,441 INFO MainThread moabb.evaluations.base RG+LDA | BNCI2014-009 | 9 | 0: Score 0.967\n"
     ]
    },
    {
     "name": "stdout",
     "output_type": "stream",
     "text": [
      "No hdf5_path provided, models will not be saved.\n"
     ]
    },
    {
     "name": "stderr",
     "output_type": "stream",
     "text": [
      "2023-11-10 11:07:13,071 INFO MainThread moabb.evaluations.base Xdw+LDA | BNCI2014-009 | 9 | 0: Score 0.969\n"
     ]
    },
    {
     "name": "stdout",
     "output_type": "stream",
     "text": [
      "No hdf5_path provided, models will not be saved.\n"
     ]
    },
    {
     "name": "stderr",
     "output_type": "stream",
     "text": [
      "2023-11-10 11:07:19,002 INFO MainThread moabb.evaluations.base RG+LDA | BNCI2014-009 | 9 | 1: Score 0.943\n"
     ]
    },
    {
     "name": "stdout",
     "output_type": "stream",
     "text": [
      "No hdf5_path provided, models will not be saved.\n"
     ]
    },
    {
     "name": "stderr",
     "output_type": "stream",
     "text": [
      "2023-11-10 11:07:24,608 INFO MainThread moabb.evaluations.base Xdw+LDA | BNCI2014-009 | 9 | 1: Score 0.966\n"
     ]
    },
    {
     "name": "stdout",
     "output_type": "stream",
     "text": [
      "No hdf5_path provided, models will not be saved.\n"
     ]
    },
    {
     "name": "stderr",
     "output_type": "stream",
     "text": [
      "2023-11-10 11:07:30,677 INFO MainThread moabb.evaluations.base RG+LDA | BNCI2014-009 | 9 | 2: Score 0.904\n"
     ]
    },
    {
     "name": "stdout",
     "output_type": "stream",
     "text": [
      "No hdf5_path provided, models will not be saved.\n"
     ]
    },
    {
     "name": "stderr",
     "output_type": "stream",
     "text": [
      "2023-11-10 11:07:36,324 INFO MainThread moabb.evaluations.base Xdw+LDA | BNCI2014-009 | 9 | 2: Score 0.949\n",
      "BNCI2014-009-WithinSession:  90%|█████████ | 9/10 [05:31<00:36, 36.96s/it]Downloading data from 'http://bnci-horizon-2020.eu/database/data-sets/009-2014/A10S.mat' to file 'C:\\Users\\velut\\mne_data_test\\MNE-bnci-data\\database\\data-sets\\009-2014\\A10S.mat'.\n",
      "c:\\Users\\velut\\AppData\\Local\\Programs\\Python\\Python311\\Lib\\site-packages\\urllib3\\connectionpool.py:1061: InsecureRequestWarning: Unverified HTTPS request is being made to host 'lampx.tugraz.at'. Adding certificate verification is strongly advised. See: https://urllib3.readthedocs.io/en/1.26.x/advanced-usage.html#ssl-warnings\n",
      "  warnings.warn(\n",
      "100%|#####################################| 18.5M/18.5M [00:00<00:00, 9.26GB/s]\n",
      "SHA256 hash of downloaded file: 22361acbc546e7f0f1ef7af7789088068df1bb37bd51f00b4786975c544ddc5e\n",
      "Use this value as the 'known_hash' argument of 'pooch.retrieve' to ensure that the file hasn't changed if it is downloaded again in the future.\n"
     ]
    },
    {
     "name": "stdout",
     "output_type": "stream",
     "text": [
      "No hdf5_path provided, models will not be saved.\n"
     ]
    },
    {
     "name": "stderr",
     "output_type": "stream",
     "text": [
      "2023-11-10 11:07:44,717 INFO MainThread moabb.evaluations.base RG+LDA | BNCI2014-009 | 10 | 0: Score 0.981\n"
     ]
    },
    {
     "name": "stdout",
     "output_type": "stream",
     "text": [
      "No hdf5_path provided, models will not be saved.\n"
     ]
    },
    {
     "name": "stderr",
     "output_type": "stream",
     "text": [
      "2023-11-10 11:07:50,360 INFO MainThread moabb.evaluations.base Xdw+LDA | BNCI2014-009 | 10 | 0: Score 0.985\n"
     ]
    },
    {
     "name": "stdout",
     "output_type": "stream",
     "text": [
      "No hdf5_path provided, models will not be saved.\n"
     ]
    },
    {
     "name": "stderr",
     "output_type": "stream",
     "text": [
      "2023-11-10 11:07:56,349 INFO MainThread moabb.evaluations.base RG+LDA | BNCI2014-009 | 10 | 1: Score 0.965\n"
     ]
    },
    {
     "name": "stdout",
     "output_type": "stream",
     "text": [
      "No hdf5_path provided, models will not be saved.\n"
     ]
    },
    {
     "name": "stderr",
     "output_type": "stream",
     "text": [
      "2023-11-10 11:08:01,962 INFO MainThread moabb.evaluations.base Xdw+LDA | BNCI2014-009 | 10 | 1: Score 0.970\n"
     ]
    },
    {
     "name": "stdout",
     "output_type": "stream",
     "text": [
      "No hdf5_path provided, models will not be saved.\n"
     ]
    },
    {
     "name": "stderr",
     "output_type": "stream",
     "text": [
      "2023-11-10 11:08:07,962 INFO MainThread moabb.evaluations.base RG+LDA | BNCI2014-009 | 10 | 2: Score 0.963\n"
     ]
    },
    {
     "name": "stdout",
     "output_type": "stream",
     "text": [
      "No hdf5_path provided, models will not be saved.\n"
     ]
    },
    {
     "name": "stderr",
     "output_type": "stream",
     "text": [
      "2023-11-10 11:08:13,559 INFO MainThread moabb.evaluations.base Xdw+LDA | BNCI2014-009 | 10 | 2: Score 0.965\n",
      "BNCI2014-009-WithinSession: 100%|██████████| 10/10 [06:08<00:00, 36.89s/it]\n"
     ]
    }
   ],
   "source": [
    "paradigm = P300(resample=128)\n",
    "print(\"charging dataset\")\n",
    "dataset = BNCI2014_009()\n",
    "print(dataset.event_id)\n",
    "dataset.subject_list = dataset.subject_list[:]\n",
    "print(dataset.subject_list)\n",
    "datasets = [dataset]\n",
    "overwrite = True  # set to True if we want to overwrite cached results\n",
    "evaluation = WithinSessionEvaluation(\n",
    "    paradigm=paradigm, datasets=datasets, suffix=\"examples\", overwrite=overwrite\n",
    ")\n",
    "\n",
    "results = evaluation.process(pipelines)"
   ]
  },
  {
   "cell_type": "markdown",
   "metadata": {},
   "source": [
    "## Plot Results\n",
    "\n",
    "Here we plot the results to compare the two pipelines\n",
    "\n"
   ]
  },
  {
   "cell_type": "code",
   "execution_count": 6,
   "metadata": {
    "collapsed": false,
    "jupyter": {
     "outputs_hidden": false
    }
   },
   "outputs": [
    {
     "data": {
      "image/png": "[encoded data removed]",
      "text/plain": [
       "<Figure size 800x400 with 1 Axes>"
      ]
     },
     "metadata": {},
     "output_type": "display_data"
    }
   ],
   "source": [
    "fig, ax = plt.subplots(facecolor=\"white\", figsize=[8, 4])\n",
    "\n",
    "sns.stripplot(\n",
    "    data=results,\n",
    "    y=\"score\",\n",
    "    x=\"pipeline\",\n",
    "    ax=ax,\n",
    "    jitter=True,\n",
    "    alpha=0.5,\n",
    "    zorder=1,\n",
    "    palette=\"Set1\",\n",
    ")\n",
    "sns.pointplot(data=results, y=\"score\", x=\"pipeline\", ax=ax, palette=\"Set1\")\n",
    "\n",
    "ax.set_ylabel(\"ROC AUC\")\n",
    "ax.set_ylim(0.5, 1)\n",
    "\n",
    "plt.show()"
   ]
  },
  {
   "cell_type": "markdown",
   "metadata": {},
   "source": [
    "# Other test "
   ]
  },
  {
   "cell_type": "code",
   "execution_count": 12,
   "metadata": {},
   "outputs": [
    {
     "name": "stdout",
     "output_type": "stream",
     "text": [
      "{1: {'0': {'0': <RawArray | 18 x 50184 (196.0 s), ~6.9 MB, data loaded>}, '1': {'0': <RawArray | 18 x 50184 (196.0 s), ~6.9 MB, data loaded>}, '2': {'0': <RawArray | 18 x 50184 (196.0 s), ~6.9 MB, data loaded>}}, 2: {'0': {'0': <RawArray | 18 x 50184 (196.0 s), ~6.9 MB, data loaded>}, '1': {'0': <RawArray | 18 x 50184 (196.0 s), ~6.9 MB, data loaded>}, '2': {'0': <RawArray | 18 x 50184 (196.0 s), ~6.9 MB, data loaded>}}, 3: {'0': {'0': <RawArray | 18 x 50184 (196.0 s), ~6.9 MB, data loaded>}, '1': {'0': <RawArray | 18 x 50184 (196.0 s), ~6.9 MB, data loaded>}, '2': {'0': <RawArray | 18 x 50184 (196.0 s), ~6.9 MB, data loaded>}}, 4: {'0': {'0': <RawArray | 18 x 50184 (196.0 s), ~6.9 MB, data loaded>}, '1': {'0': <RawArray | 18 x 50184 (196.0 s), ~6.9 MB, data loaded>}, '2': {'0': <RawArray | 18 x 50184 (196.0 s), ~6.9 MB, data loaded>}}, 5: {'0': {'0': <RawArray | 18 x 50184 (196.0 s), ~6.9 MB, data loaded>}, '1': {'0': <RawArray | 18 x 50184 (196.0 s), ~6.9 MB, data loaded>}, '2': {'0': <RawArray | 18 x 50184 (196.0 s), ~6.9 MB, data loaded>}}, 6: {'0': {'0': <RawArray | 18 x 50184 (196.0 s), ~6.9 MB, data loaded>}, '1': {'0': <RawArray | 18 x 50184 (196.0 s), ~6.9 MB, data loaded>}, '2': {'0': <RawArray | 18 x 50184 (196.0 s), ~6.9 MB, data loaded>}}, 7: {'0': {'0': <RawArray | 18 x 50184 (196.0 s), ~6.9 MB, data loaded>}, '1': {'0': <RawArray | 18 x 50184 (196.0 s), ~6.9 MB, data loaded>}, '2': {'0': <RawArray | 18 x 50184 (196.0 s), ~6.9 MB, data loaded>}}, 8: {'0': {'0': <RawArray | 18 x 50184 (196.0 s), ~6.9 MB, data loaded>}, '1': {'0': <RawArray | 18 x 50184 (196.0 s), ~6.9 MB, data loaded>}, '2': {'0': <RawArray | 18 x 50184 (196.0 s), ~6.9 MB, data loaded>}}, 9: {'0': {'0': <RawArray | 18 x 50184 (196.0 s), ~6.9 MB, data loaded>}, '1': {'0': <RawArray | 18 x 50184 (196.0 s), ~6.9 MB, data loaded>}, '2': {'0': <RawArray | 18 x 50184 (196.0 s), ~6.9 MB, data loaded>}}, 10: {'0': {'0': <RawArray | 18 x 50184 (196.0 s), ~6.9 MB, data loaded>}, '1': {'0': <RawArray | 18 x 50184 (196.0 s), ~6.9 MB, data loaded>}, '2': {'0': <RawArray | 18 x 50184 (196.0 s), ~6.9 MB, data loaded>}}}\n",
      "<RawArray | 18 x 50184 (196.0 s), ~6.9 MB, data loaded>\n"
     ]
    }
   ],
   "source": [
    "sessions = dataset.get_data()\n",
    "print(sessions)\n",
    "\n",
    "subject = 1\n",
    "session_name = \"0\"\n",
    "run_name = \"0\"\n",
    "raw = sessions[subject][session_name][run_name]\n",
    "\n",
    "print(raw)"
   ]
  },
  {
   "cell_type": "code",
   "execution_count": 18,
   "metadata": {},
   "outputs": [
    {
     "name": "stdout",
     "output_type": "stream",
     "text": [
      "[[ 1544     0     1]\n",
      " [ 1544     0     3]\n",
      " [ 1608     0     7]\n",
      " ...\n",
      " [48520     0    11]\n",
      " [48584     0     1]\n",
      " [48584     0    14]]\n"
     ]
    }
   ],
   "source": [
    "events = mne.find_events(raw,consecutive=True)\n",
    "print(events)"
   ]
  },
  {
   "cell_type": "code",
   "execution_count": null,
   "metadata": {},
   "outputs": [],
   "source": []
  }
 ],
 "metadata": {
  "kernelspec": {
   "display_name": "Python 3 (ipykernel)",
   "language": "python",
   "name": "python3"
  },
  "language_info": {
   "codemirror_mode": {
    "name": "ipython",
    "version": 3
   },
   "file_extension": ".py",
   "mimetype": "text/x-python",
   "name": "python",
   "nbconvert_exporter": "python",
   "pygments_lexer": "ipython3",
   "version": "0.0.0"
  }
 },
 "nbformat": 4,
 "nbformat_minor": 4
}
