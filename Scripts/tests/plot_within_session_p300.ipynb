{
 "cells": [
  {
   "cell_type": "code",
   "execution_count": 1,
   "metadata": {
    "collapsed": false,
    "jupyter": {
     "outputs_hidden": false
    }
   },
   "outputs": [],
   "source": [
    "%matplotlib inline"
   ]
  },
  {
   "cell_type": "markdown",
   "metadata": {},
   "source": [
    "\n",
    "# Within Session P300\n",
    "\n",
    "This example shows how to perform a within session analysis on three different\n",
    "P300 datasets.\n",
    "\n",
    "We will compare two pipelines :\n",
    "\n",
    "- Riemannian geometry\n",
    "- XDAWN with Linear Discriminant Analysis\n",
    "\n",
    "We will use the P300 paradigm, which uses the AUC as metric.\n"
   ]
  },
  {
   "cell_type": "code",
   "execution_count": 30,
   "metadata": {
    "collapsed": false,
    "jupyter": {
     "outputs_hidden": false
    }
   },
   "outputs": [],
   "source": [
    "# Authors: Pedro Rodrigues <pedro.rodrigues01@gmail.com>\n",
    "#\n",
    "# License: BSD (3-clause)\n",
    "\n",
    "import warnings\n",
    "\n",
    "import matplotlib.pyplot as plt\n",
    "import numpy as np\n",
    "import seaborn as sns\n",
    "import mne\n",
    "from mne.decoding import Vectorizer\n",
    "from pyriemann.estimation import Xdawn, XdawnCovariances\n",
    "from pyriemann.tangentspace import TangentSpace\n",
    "from sklearn.discriminant_analysis import LinearDiscriminantAnalysis as LDA\n",
    "from sklearn.pipeline import make_pipeline\n",
    "\n",
    "import moabb\n",
    "from moabb.datasets import DemonsP300\n",
    "from moabb.datasets import BNCI2014_009\n",
    "from moabb.evaluations import WithinSessionEvaluation\n",
    "from moabb.paradigms import P300"
   ]
  },
  {
   "cell_type": "markdown",
   "metadata": {},
   "source": [
    "getting rid of the warnings about the future\n",
    "\n"
   ]
  },
  {
   "cell_type": "code",
   "execution_count": 3,
   "metadata": {
    "collapsed": false,
    "jupyter": {
     "outputs_hidden": false
    }
   },
   "outputs": [],
   "source": [
    "warnings.simplefilter(action=\"ignore\", category=FutureWarning)\n",
    "warnings.simplefilter(action=\"ignore\", category=RuntimeWarning)\n",
    "\n",
    "moabb.set_log_level(\"info\")"
   ]
  },
  {
   "cell_type": "markdown",
   "metadata": {},
   "source": [
    "## Create Pipelines\n",
    "\n",
    "Pipelines must be a dict of sklearn pipeline transformer.\n",
    "\n"
   ]
  },
  {
   "cell_type": "code",
   "execution_count": 4,
   "metadata": {
    "collapsed": false,
    "jupyter": {
     "outputs_hidden": false
    }
   },
   "outputs": [],
   "source": [
    "pipelines = {}\n"
   ]
  },
  {
   "cell_type": "markdown",
   "metadata": {},
   "source": [
    "We have to do this because the classes are called 'Target' and 'NonTarget'\n",
    "but the evaluation function uses a LabelEncoder, transforming them\n",
    "to 0 and 1\n",
    "\n"
   ]
  },
  {
   "cell_type": "code",
   "execution_count": 5,
   "metadata": {
    "collapsed": false,
    "jupyter": {
     "outputs_hidden": false
    }
   },
   "outputs": [],
   "source": [
    "labels_dict = {\"Target\": 1, \"NonTarget\": 0}\n",
    "\n",
    "pipelines[\"RG+LDA\"] = make_pipeline(\n",
    "    XdawnCovariances(\n",
    "        nfilter=2, classes=[labels_dict[\"Target\"]], estimator=\"lwf\", xdawn_estimator=\"scm\"\n",
    "    ),\n",
    "    TangentSpace(),\n",
    "    LDA(solver=\"lsqr\", shrinkage=\"auto\"),\n",
    ")\n",
    "\n",
    "pipelines[\"Xdw+LDA\"] = make_pipeline(\n",
    "    Xdawn(nfilter=2, estimator=\"scm\"), Vectorizer(), LDA(solver=\"lsqr\", shrinkage=\"auto\")\n",
    ")"
   ]
  },
  {
   "cell_type": "markdown",
   "metadata": {},
   "source": [
    "## Evaluation\n",
    "\n",
    "We define the paradigm (P300) and use all three datasets available for it.\n",
    "The evaluation will return a DataFrame containing a single AUC score for\n",
    "each subject / session of the dataset, and for each pipeline.\n",
    "\n",
    "Results are saved into the database, so that if you add a new pipeline, it\n",
    "will not run again the evaluation unless a parameter has changed. Results can\n",
    "be overwritten if necessary.\n",
    "\n"
   ]
  },
  {
   "cell_type": "code",
   "execution_count": 21,
   "metadata": {
    "collapsed": false,
    "jupyter": {
     "outputs_hidden": false
    }
   },
   "outputs": [
    {
     "name": "stdout",
     "output_type": "stream",
     "text": [
      "charging dataset\n",
      "{'Target': 2, 'NonTarget': 1}\n",
      "[1, 2, 3, 4, 5, 6, 7, 8, 9, 10]\n"
     ]
    },
    {
     "name": "stderr",
     "output_type": "stream",
     "text": [
      "2023-11-13 10:42:22,970 INFO MainThread moabb.evaluations.base Processing dataset: BNCI2014-009\n",
      "BNCI2014-009-WithinSession:   0%|          | 0/10 [00:00<?, ?it/s]"
     ]
    },
    {
     "name": "stdout",
     "output_type": "stream",
     "text": [
      "No hdf5_path provided, models will not be saved.\n"
     ]
    },
    {
     "name": "stderr",
     "output_type": "stream",
     "text": [
      "2023-11-13 10:42:29,917 INFO MainThread moabb.evaluations.base RG+LDA | BNCI2014-009 | 1 | 0: Score 0.921\n"
     ]
    },
    {
     "name": "stdout",
     "output_type": "stream",
     "text": [
      "No hdf5_path provided, models will not be saved.\n"
     ]
    },
    {
     "name": "stderr",
     "output_type": "stream",
     "text": [
      "2023-11-13 10:42:30,956 INFO MainThread moabb.evaluations.base Xdw+LDA | BNCI2014-009 | 1 | 0: Score 0.939\n"
     ]
    },
    {
     "name": "stdout",
     "output_type": "stream",
     "text": [
      "No hdf5_path provided, models will not be saved.\n"
     ]
    },
    {
     "name": "stderr",
     "output_type": "stream",
     "text": [
      "2023-11-13 10:42:35,189 INFO MainThread moabb.evaluations.base RG+LDA | BNCI2014-009 | 1 | 1: Score 0.915\n"
     ]
    },
    {
     "name": "stdout",
     "output_type": "stream",
     "text": [
      "No hdf5_path provided, models will not be saved.\n"
     ]
    },
    {
     "name": "stderr",
     "output_type": "stream",
     "text": [
      "2023-11-13 10:42:36,114 INFO MainThread moabb.evaluations.base Xdw+LDA | BNCI2014-009 | 1 | 1: Score 0.939\n"
     ]
    },
    {
     "name": "stdout",
     "output_type": "stream",
     "text": [
      "No hdf5_path provided, models will not be saved.\n"
     ]
    },
    {
     "name": "stderr",
     "output_type": "stream",
     "text": [
      "2023-11-13 10:42:38,487 INFO MainThread moabb.evaluations.base RG+LDA | BNCI2014-009 | 1 | 2: Score 0.925\n"
     ]
    },
    {
     "name": "stdout",
     "output_type": "stream",
     "text": [
      "No hdf5_path provided, models will not be saved.\n"
     ]
    },
    {
     "name": "stderr",
     "output_type": "stream",
     "text": [
      "2023-11-13 10:42:39,561 INFO MainThread moabb.evaluations.base Xdw+LDA | BNCI2014-009 | 1 | 2: Score 0.933\n",
      "BNCI2014-009-WithinSession:  10%|█         | 1/10 [00:16<02:31, 16.83s/it]"
     ]
    },
    {
     "name": "stdout",
     "output_type": "stream",
     "text": [
      "No hdf5_path provided, models will not be saved.\n"
     ]
    },
    {
     "name": "stderr",
     "output_type": "stream",
     "text": [
      "2023-11-13 10:42:46,048 INFO MainThread moabb.evaluations.base RG+LDA | BNCI2014-009 | 2 | 0: Score 0.935\n"
     ]
    },
    {
     "name": "stdout",
     "output_type": "stream",
     "text": [
      "No hdf5_path provided, models will not be saved.\n"
     ]
    },
    {
     "name": "stderr",
     "output_type": "stream",
     "text": [
      "2023-11-13 10:42:46,809 INFO MainThread moabb.evaluations.base Xdw+LDA | BNCI2014-009 | 2 | 0: Score 0.944\n"
     ]
    },
    {
     "name": "stdout",
     "output_type": "stream",
     "text": [
      "No hdf5_path provided, models will not be saved.\n"
     ]
    },
    {
     "name": "stderr",
     "output_type": "stream",
     "text": [
      "2023-11-13 10:42:49,403 INFO MainThread moabb.evaluations.base RG+LDA | BNCI2014-009 | 2 | 1: Score 0.905\n"
     ]
    },
    {
     "name": "stdout",
     "output_type": "stream",
     "text": [
      "No hdf5_path provided, models will not be saved.\n"
     ]
    },
    {
     "name": "stderr",
     "output_type": "stream",
     "text": [
      "2023-11-13 10:42:50,255 INFO MainThread moabb.evaluations.base Xdw+LDA | BNCI2014-009 | 2 | 1: Score 0.958\n"
     ]
    },
    {
     "name": "stdout",
     "output_type": "stream",
     "text": [
      "No hdf5_path provided, models will not be saved.\n"
     ]
    },
    {
     "name": "stderr",
     "output_type": "stream",
     "text": [
      "2023-11-13 10:42:52,552 INFO MainThread moabb.evaluations.base RG+LDA | BNCI2014-009 | 2 | 2: Score 0.933\n"
     ]
    },
    {
     "name": "stdout",
     "output_type": "stream",
     "text": [
      "No hdf5_path provided, models will not be saved.\n"
     ]
    },
    {
     "name": "stderr",
     "output_type": "stream",
     "text": [
      "2023-11-13 10:42:53,386 INFO MainThread moabb.evaluations.base Xdw+LDA | BNCI2014-009 | 2 | 2: Score 0.931\n",
      "BNCI2014-009-WithinSession:  20%|██        | 2/10 [00:30<02:00, 15.05s/it]"
     ]
    },
    {
     "name": "stdout",
     "output_type": "stream",
     "text": [
      "No hdf5_path provided, models will not be saved.\n"
     ]
    },
    {
     "name": "stderr",
     "output_type": "stream",
     "text": [
      "2023-11-13 10:43:04,173 INFO MainThread moabb.evaluations.base RG+LDA | BNCI2014-009 | 3 | 0: Score 0.689\n"
     ]
    },
    {
     "name": "stdout",
     "output_type": "stream",
     "text": [
      "No hdf5_path provided, models will not be saved.\n"
     ]
    },
    {
     "name": "stderr",
     "output_type": "stream",
     "text": [
      "2023-11-13 10:43:04,990 INFO MainThread moabb.evaluations.base Xdw+LDA | BNCI2014-009 | 3 | 0: Score 0.698\n"
     ]
    },
    {
     "name": "stdout",
     "output_type": "stream",
     "text": [
      "No hdf5_path provided, models will not be saved.\n"
     ]
    },
    {
     "name": "stderr",
     "output_type": "stream",
     "text": [
      "2023-11-13 10:43:07,439 INFO MainThread moabb.evaluations.base RG+LDA | BNCI2014-009 | 3 | 1: Score 0.905\n"
     ]
    },
    {
     "name": "stdout",
     "output_type": "stream",
     "text": [
      "No hdf5_path provided, models will not be saved.\n"
     ]
    },
    {
     "name": "stderr",
     "output_type": "stream",
     "text": [
      "2023-11-13 10:43:08,257 INFO MainThread moabb.evaluations.base Xdw+LDA | BNCI2014-009 | 3 | 1: Score 0.912\n"
     ]
    },
    {
     "name": "stdout",
     "output_type": "stream",
     "text": [
      "No hdf5_path provided, models will not be saved.\n"
     ]
    },
    {
     "name": "stderr",
     "output_type": "stream",
     "text": [
      "2023-11-13 10:43:10,417 INFO MainThread moabb.evaluations.base RG+LDA | BNCI2014-009 | 3 | 2: Score 0.937\n"
     ]
    },
    {
     "name": "stdout",
     "output_type": "stream",
     "text": [
      "No hdf5_path provided, models will not be saved.\n"
     ]
    },
    {
     "name": "stderr",
     "output_type": "stream",
     "text": [
      "2023-11-13 10:43:11,217 INFO MainThread moabb.evaluations.base Xdw+LDA | BNCI2014-009 | 3 | 2: Score 0.947\n",
      "BNCI2014-009-WithinSession:  30%|███       | 3/10 [00:48<01:54, 16.32s/it]"
     ]
    },
    {
     "name": "stdout",
     "output_type": "stream",
     "text": [
      "No hdf5_path provided, models will not be saved.\n"
     ]
    },
    {
     "name": "stderr",
     "output_type": "stream",
     "text": [
      "2023-11-13 10:43:17,749 INFO MainThread moabb.evaluations.base RG+LDA | BNCI2014-009 | 4 | 0: Score 0.925\n"
     ]
    },
    {
     "name": "stdout",
     "output_type": "stream",
     "text": [
      "No hdf5_path provided, models will not be saved.\n"
     ]
    },
    {
     "name": "stderr",
     "output_type": "stream",
     "text": [
      "2023-11-13 10:43:18,505 INFO MainThread moabb.evaluations.base Xdw+LDA | BNCI2014-009 | 4 | 0: Score 0.944\n"
     ]
    },
    {
     "name": "stdout",
     "output_type": "stream",
     "text": [
      "No hdf5_path provided, models will not be saved.\n"
     ]
    },
    {
     "name": "stderr",
     "output_type": "stream",
     "text": [
      "2023-11-13 10:43:20,419 INFO MainThread moabb.evaluations.base RG+LDA | BNCI2014-009 | 4 | 1: Score 0.935\n"
     ]
    },
    {
     "name": "stdout",
     "output_type": "stream",
     "text": [
      "No hdf5_path provided, models will not be saved.\n"
     ]
    },
    {
     "name": "stderr",
     "output_type": "stream",
     "text": [
      "2023-11-13 10:43:21,209 INFO MainThread moabb.evaluations.base Xdw+LDA | BNCI2014-009 | 4 | 1: Score 0.936\n"
     ]
    },
    {
     "name": "stdout",
     "output_type": "stream",
     "text": [
      "No hdf5_path provided, models will not be saved.\n"
     ]
    },
    {
     "name": "stderr",
     "output_type": "stream",
     "text": [
      "2023-11-13 10:43:23,272 INFO MainThread moabb.evaluations.base RG+LDA | BNCI2014-009 | 4 | 2: Score 0.911\n"
     ]
    },
    {
     "name": "stdout",
     "output_type": "stream",
     "text": [
      "No hdf5_path provided, models will not be saved.\n"
     ]
    },
    {
     "name": "stderr",
     "output_type": "stream",
     "text": [
      "2023-11-13 10:43:23,962 INFO MainThread moabb.evaluations.base Xdw+LDA | BNCI2014-009 | 4 | 2: Score 0.944\n",
      "BNCI2014-009-WithinSession:  40%|████      | 4/10 [01:01<01:29, 14.90s/it]"
     ]
    },
    {
     "name": "stdout",
     "output_type": "stream",
     "text": [
      "No hdf5_path provided, models will not be saved.\n"
     ]
    },
    {
     "name": "stderr",
     "output_type": "stream",
     "text": [
      "2023-11-13 10:43:31,060 INFO MainThread moabb.evaluations.base RG+LDA | BNCI2014-009 | 5 | 0: Score 0.952\n"
     ]
    },
    {
     "name": "stdout",
     "output_type": "stream",
     "text": [
      "No hdf5_path provided, models will not be saved.\n"
     ]
    },
    {
     "name": "stderr",
     "output_type": "stream",
     "text": [
      "2023-11-13 10:43:31,857 INFO MainThread moabb.evaluations.base Xdw+LDA | BNCI2014-009 | 5 | 0: Score 0.967\n"
     ]
    },
    {
     "name": "stdout",
     "output_type": "stream",
     "text": [
      "No hdf5_path provided, models will not be saved.\n"
     ]
    },
    {
     "name": "stderr",
     "output_type": "stream",
     "text": [
      "2023-11-13 10:43:34,060 INFO MainThread moabb.evaluations.base RG+LDA | BNCI2014-009 | 5 | 1: Score 0.920\n"
     ]
    },
    {
     "name": "stdout",
     "output_type": "stream",
     "text": [
      "No hdf5_path provided, models will not be saved.\n"
     ]
    },
    {
     "name": "stderr",
     "output_type": "stream",
     "text": [
      "2023-11-13 10:43:35,029 INFO MainThread moabb.evaluations.base Xdw+LDA | BNCI2014-009 | 5 | 1: Score 0.956\n"
     ]
    },
    {
     "name": "stdout",
     "output_type": "stream",
     "text": [
      "No hdf5_path provided, models will not be saved.\n"
     ]
    },
    {
     "name": "stderr",
     "output_type": "stream",
     "text": [
      "2023-11-13 10:43:37,505 INFO MainThread moabb.evaluations.base RG+LDA | BNCI2014-009 | 5 | 2: Score 0.936\n"
     ]
    },
    {
     "name": "stdout",
     "output_type": "stream",
     "text": [
      "No hdf5_path provided, models will not be saved.\n"
     ]
    },
    {
     "name": "stderr",
     "output_type": "stream",
     "text": [
      "2023-11-13 10:43:38,404 INFO MainThread moabb.evaluations.base Xdw+LDA | BNCI2014-009 | 5 | 2: Score 0.939\n",
      "BNCI2014-009-WithinSession:  50%|█████     | 5/10 [01:15<01:13, 14.74s/it]"
     ]
    },
    {
     "name": "stdout",
     "output_type": "stream",
     "text": [
      "No hdf5_path provided, models will not be saved.\n"
     ]
    },
    {
     "name": "stderr",
     "output_type": "stream",
     "text": [
      "2023-11-13 10:43:44,919 INFO MainThread moabb.evaluations.base RG+LDA | BNCI2014-009 | 6 | 0: Score 0.845\n"
     ]
    },
    {
     "name": "stdout",
     "output_type": "stream",
     "text": [
      "No hdf5_path provided, models will not be saved.\n"
     ]
    },
    {
     "name": "stderr",
     "output_type": "stream",
     "text": [
      "2023-11-13 10:43:45,640 INFO MainThread moabb.evaluations.base Xdw+LDA | BNCI2014-009 | 6 | 0: Score 0.870\n"
     ]
    },
    {
     "name": "stdout",
     "output_type": "stream",
     "text": [
      "No hdf5_path provided, models will not be saved.\n"
     ]
    },
    {
     "name": "stderr",
     "output_type": "stream",
     "text": [
      "2023-11-13 10:43:47,679 INFO MainThread moabb.evaluations.base RG+LDA | BNCI2014-009 | 6 | 1: Score 0.896\n"
     ]
    },
    {
     "name": "stdout",
     "output_type": "stream",
     "text": [
      "No hdf5_path provided, models will not be saved.\n"
     ]
    },
    {
     "name": "stderr",
     "output_type": "stream",
     "text": [
      "2023-11-13 10:43:48,405 INFO MainThread moabb.evaluations.base Xdw+LDA | BNCI2014-009 | 6 | 1: Score 0.907\n"
     ]
    },
    {
     "name": "stdout",
     "output_type": "stream",
     "text": [
      "No hdf5_path provided, models will not be saved.\n"
     ]
    },
    {
     "name": "stderr",
     "output_type": "stream",
     "text": [
      "2023-11-13 10:43:50,373 INFO MainThread moabb.evaluations.base RG+LDA | BNCI2014-009 | 6 | 2: Score 0.899\n"
     ]
    },
    {
     "name": "stdout",
     "output_type": "stream",
     "text": [
      "No hdf5_path provided, models will not be saved.\n"
     ]
    },
    {
     "name": "stderr",
     "output_type": "stream",
     "text": [
      "2023-11-13 10:43:51,117 INFO MainThread moabb.evaluations.base Xdw+LDA | BNCI2014-009 | 6 | 2: Score 0.921\n",
      "BNCI2014-009-WithinSession:  60%|██████    | 6/10 [01:28<00:56, 14.05s/it]"
     ]
    },
    {
     "name": "stdout",
     "output_type": "stream",
     "text": [
      "No hdf5_path provided, models will not be saved.\n"
     ]
    },
    {
     "name": "stderr",
     "output_type": "stream",
     "text": [
      "2023-11-13 10:43:56,866 INFO MainThread moabb.evaluations.base RG+LDA | BNCI2014-009 | 7 | 0: Score 0.909\n"
     ]
    },
    {
     "name": "stdout",
     "output_type": "stream",
     "text": [
      "No hdf5_path provided, models will not be saved.\n"
     ]
    },
    {
     "name": "stderr",
     "output_type": "stream",
     "text": [
      "2023-11-13 10:43:57,559 INFO MainThread moabb.evaluations.base Xdw+LDA | BNCI2014-009 | 7 | 0: Score 0.909\n"
     ]
    },
    {
     "name": "stdout",
     "output_type": "stream",
     "text": [
      "No hdf5_path provided, models will not be saved.\n"
     ]
    },
    {
     "name": "stderr",
     "output_type": "stream",
     "text": [
      "2023-11-13 10:43:59,477 INFO MainThread moabb.evaluations.base RG+LDA | BNCI2014-009 | 7 | 1: Score 0.922\n"
     ]
    },
    {
     "name": "stdout",
     "output_type": "stream",
     "text": [
      "No hdf5_path provided, models will not be saved.\n"
     ]
    },
    {
     "name": "stderr",
     "output_type": "stream",
     "text": [
      "2023-11-13 10:44:00,201 INFO MainThread moabb.evaluations.base Xdw+LDA | BNCI2014-009 | 7 | 1: Score 0.906\n"
     ]
    },
    {
     "name": "stdout",
     "output_type": "stream",
     "text": [
      "No hdf5_path provided, models will not be saved.\n"
     ]
    },
    {
     "name": "stderr",
     "output_type": "stream",
     "text": [
      "2023-11-13 10:44:02,308 INFO MainThread moabb.evaluations.base RG+LDA | BNCI2014-009 | 7 | 2: Score 0.856\n"
     ]
    },
    {
     "name": "stdout",
     "output_type": "stream",
     "text": [
      "No hdf5_path provided, models will not be saved.\n"
     ]
    },
    {
     "name": "stderr",
     "output_type": "stream",
     "text": [
      "2023-11-13 10:44:03,027 INFO MainThread moabb.evaluations.base Xdw+LDA | BNCI2014-009 | 7 | 2: Score 0.875\n",
      "BNCI2014-009-WithinSession:  70%|███████   | 7/10 [01:40<00:40, 13.35s/it]"
     ]
    },
    {
     "name": "stdout",
     "output_type": "stream",
     "text": [
      "No hdf5_path provided, models will not be saved.\n"
     ]
    },
    {
     "name": "stderr",
     "output_type": "stream",
     "text": [
      "2023-11-13 10:44:08,860 INFO MainThread moabb.evaluations.base RG+LDA | BNCI2014-009 | 8 | 0: Score 0.897\n"
     ]
    },
    {
     "name": "stdout",
     "output_type": "stream",
     "text": [
      "No hdf5_path provided, models will not be saved.\n"
     ]
    },
    {
     "name": "stderr",
     "output_type": "stream",
     "text": [
      "2023-11-13 10:44:09,557 INFO MainThread moabb.evaluations.base Xdw+LDA | BNCI2014-009 | 8 | 0: Score 0.918\n"
     ]
    },
    {
     "name": "stdout",
     "output_type": "stream",
     "text": [
      "No hdf5_path provided, models will not be saved.\n"
     ]
    },
    {
     "name": "stderr",
     "output_type": "stream",
     "text": [
      "2023-11-13 10:44:11,485 INFO MainThread moabb.evaluations.base RG+LDA | BNCI2014-009 | 8 | 1: Score 0.841\n"
     ]
    },
    {
     "name": "stdout",
     "output_type": "stream",
     "text": [
      "No hdf5_path provided, models will not be saved.\n"
     ]
    },
    {
     "name": "stderr",
     "output_type": "stream",
     "text": [
      "2023-11-13 10:44:12,210 INFO MainThread moabb.evaluations.base Xdw+LDA | BNCI2014-009 | 8 | 1: Score 0.879\n"
     ]
    },
    {
     "name": "stdout",
     "output_type": "stream",
     "text": [
      "No hdf5_path provided, models will not be saved.\n"
     ]
    },
    {
     "name": "stderr",
     "output_type": "stream",
     "text": [
      "2023-11-13 10:44:14,152 INFO MainThread moabb.evaluations.base RG+LDA | BNCI2014-009 | 8 | 2: Score 0.815\n"
     ]
    },
    {
     "name": "stdout",
     "output_type": "stream",
     "text": [
      "No hdf5_path provided, models will not be saved.\n"
     ]
    },
    {
     "name": "stderr",
     "output_type": "stream",
     "text": [
      "2023-11-13 10:44:14,868 INFO MainThread moabb.evaluations.base Xdw+LDA | BNCI2014-009 | 8 | 2: Score 0.867\n",
      "BNCI2014-009-WithinSession:  80%|████████  | 8/10 [01:52<00:25, 12.87s/it]"
     ]
    },
    {
     "name": "stdout",
     "output_type": "stream",
     "text": [
      "No hdf5_path provided, models will not be saved.\n"
     ]
    },
    {
     "name": "stderr",
     "output_type": "stream",
     "text": [
      "2023-11-13 10:44:20,616 INFO MainThread moabb.evaluations.base RG+LDA | BNCI2014-009 | 9 | 0: Score 0.960\n"
     ]
    },
    {
     "name": "stdout",
     "output_type": "stream",
     "text": [
      "No hdf5_path provided, models will not be saved.\n"
     ]
    },
    {
     "name": "stderr",
     "output_type": "stream",
     "text": [
      "2023-11-13 10:44:21,307 INFO MainThread moabb.evaluations.base Xdw+LDA | BNCI2014-009 | 9 | 0: Score 0.969\n"
     ]
    },
    {
     "name": "stdout",
     "output_type": "stream",
     "text": [
      "No hdf5_path provided, models will not be saved.\n"
     ]
    },
    {
     "name": "stderr",
     "output_type": "stream",
     "text": [
      "2023-11-13 10:44:23,229 INFO MainThread moabb.evaluations.base RG+LDA | BNCI2014-009 | 9 | 1: Score 0.934\n"
     ]
    },
    {
     "name": "stdout",
     "output_type": "stream",
     "text": [
      "No hdf5_path provided, models will not be saved.\n"
     ]
    },
    {
     "name": "stderr",
     "output_type": "stream",
     "text": [
      "2023-11-13 10:44:23,971 INFO MainThread moabb.evaluations.base Xdw+LDA | BNCI2014-009 | 9 | 1: Score 0.973\n"
     ]
    },
    {
     "name": "stdout",
     "output_type": "stream",
     "text": [
      "No hdf5_path provided, models will not be saved.\n"
     ]
    },
    {
     "name": "stderr",
     "output_type": "stream",
     "text": [
      "2023-11-13 10:44:25,909 INFO MainThread moabb.evaluations.base RG+LDA | BNCI2014-009 | 9 | 2: Score 0.896\n"
     ]
    },
    {
     "name": "stdout",
     "output_type": "stream",
     "text": [
      "No hdf5_path provided, models will not be saved.\n"
     ]
    },
    {
     "name": "stderr",
     "output_type": "stream",
     "text": [
      "2023-11-13 10:44:26,713 INFO MainThread moabb.evaluations.base Xdw+LDA | BNCI2014-009 | 9 | 2: Score 0.950\n",
      "BNCI2014-009-WithinSession:  90%|█████████ | 9/10 [02:03<00:12, 12.55s/it]"
     ]
    },
    {
     "name": "stdout",
     "output_type": "stream",
     "text": [
      "No hdf5_path provided, models will not be saved.\n"
     ]
    },
    {
     "name": "stderr",
     "output_type": "stream",
     "text": [
      "2023-11-13 10:44:32,587 INFO MainThread moabb.evaluations.base RG+LDA | BNCI2014-009 | 10 | 0: Score 0.979\n"
     ]
    },
    {
     "name": "stdout",
     "output_type": "stream",
     "text": [
      "No hdf5_path provided, models will not be saved.\n"
     ]
    },
    {
     "name": "stderr",
     "output_type": "stream",
     "text": [
      "2023-11-13 10:44:33,294 INFO MainThread moabb.evaluations.base Xdw+LDA | BNCI2014-009 | 10 | 0: Score 0.986\n"
     ]
    },
    {
     "name": "stdout",
     "output_type": "stream",
     "text": [
      "No hdf5_path provided, models will not be saved.\n"
     ]
    },
    {
     "name": "stderr",
     "output_type": "stream",
     "text": [
      "2023-11-13 10:44:35,232 INFO MainThread moabb.evaluations.base RG+LDA | BNCI2014-009 | 10 | 1: Score 0.966\n"
     ]
    },
    {
     "name": "stdout",
     "output_type": "stream",
     "text": [
      "No hdf5_path provided, models will not be saved.\n"
     ]
    },
    {
     "name": "stderr",
     "output_type": "stream",
     "text": [
      "2023-11-13 10:44:35,955 INFO MainThread moabb.evaluations.base Xdw+LDA | BNCI2014-009 | 10 | 1: Score 0.978\n"
     ]
    },
    {
     "name": "stdout",
     "output_type": "stream",
     "text": [
      "No hdf5_path provided, models will not be saved.\n"
     ]
    },
    {
     "name": "stderr",
     "output_type": "stream",
     "text": [
      "2023-11-13 10:44:37,899 INFO MainThread moabb.evaluations.base RG+LDA | BNCI2014-009 | 10 | 2: Score 0.955\n"
     ]
    },
    {
     "name": "stdout",
     "output_type": "stream",
     "text": [
      "No hdf5_path provided, models will not be saved.\n"
     ]
    },
    {
     "name": "stderr",
     "output_type": "stream",
     "text": [
      "2023-11-13 10:44:38,626 INFO MainThread moabb.evaluations.base Xdw+LDA | BNCI2014-009 | 10 | 2: Score 0.964\n",
      "BNCI2014-009-WithinSession: 100%|██████████| 10/10 [02:15<00:00, 13.59s/it]\n"
     ]
    }
   ],
   "source": [
    "paradigm = P300(resample=128)\n",
    "print(\"charging dataset\")\n",
    "dataset = BNCI2014_009()\n",
    "print(dataset.event_id)\n",
    "dataset.subject_list = dataset.subject_list[:]\n",
    "print(dataset.subject_list)\n",
    "datasets = [dataset]\n",
    "overwrite = True  # set to True if we want to overwrite cached results\n",
    "evaluation = WithinSessionEvaluation(\n",
    "    paradigm=paradigm, datasets=datasets, suffix=\"examples\", overwrite=overwrite\n",
    ")\n",
    "\n",
    "results = evaluation.process(pipelines)"
   ]
  },
  {
   "cell_type": "markdown",
   "metadata": {},
   "source": [
    "## Plot Results\n",
    "\n",
    "Here we plot the results to compare the two pipelines\n",
    "\n"
   ]
  },
  {
   "cell_type": "code",
   "execution_count": 7,
   "metadata": {
    "collapsed": false,
    "jupyter": {
     "outputs_hidden": false
    }
   },
   "outputs": [
    {
     "data": {
      "image/png": "[encoded data removed]",
      "text/plain": [
       "<Figure size 800x400 with 1 Axes>"
      ]
     },
     "metadata": {},
     "output_type": "display_data"
    }
   ],
   "source": [
    "fig, ax = plt.subplots(facecolor=\"white\", figsize=[8, 4])\n",
    "\n",
    "sns.stripplot(\n",
    "    data=results,\n",
    "    y=\"score\",\n",
    "    x=\"pipeline\",\n",
    "    ax=ax,\n",
    "    jitter=True,\n",
    "    alpha=0.5,\n",
    "    zorder=1,\n",
    "    palette=\"Set1\",\n",
    ")\n",
    "sns.pointplot(data=results, y=\"score\", x=\"pipeline\", ax=ax, palette=\"Set1\")\n",
    "\n",
    "ax.set_ylabel(\"ROC AUC\")\n",
    "ax.set_ylim(0.5, 1)\n",
    "\n",
    "plt.show()"
   ]
  },
  {
   "cell_type": "markdown",
   "metadata": {},
   "source": [
    "# Other test "
   ]
  },
  {
   "cell_type": "code",
   "execution_count": 8,
   "metadata": {},
   "outputs": [
    {
     "name": "stdout",
     "output_type": "stream",
     "text": [
      "{1: {'0': {'0': <RawArray | 18 x 50184 (196.0 s), ~6.9 MB, data loaded>}, '1': {'0': <RawArray | 18 x 50184 (196.0 s), ~6.9 MB, data loaded>}, '2': {'0': <RawArray | 18 x 50184 (196.0 s), ~6.9 MB, data loaded>}}, 2: {'0': {'0': <RawArray | 18 x 50184 (196.0 s), ~6.9 MB, data loaded>}, '1': {'0': <RawArray | 18 x 50184 (196.0 s), ~6.9 MB, data loaded>}, '2': {'0': <RawArray | 18 x 50184 (196.0 s), ~6.9 MB, data loaded>}}, 3: {'0': {'0': <RawArray | 18 x 50184 (196.0 s), ~6.9 MB, data loaded>}, '1': {'0': <RawArray | 18 x 50184 (196.0 s), ~6.9 MB, data loaded>}, '2': {'0': <RawArray | 18 x 50184 (196.0 s), ~6.9 MB, data loaded>}}, 4: {'0': {'0': <RawArray | 18 x 50184 (196.0 s), ~6.9 MB, data loaded>}, '1': {'0': <RawArray | 18 x 50184 (196.0 s), ~6.9 MB, data loaded>}, '2': {'0': <RawArray | 18 x 50184 (196.0 s), ~6.9 MB, data loaded>}}, 5: {'0': {'0': <RawArray | 18 x 50184 (196.0 s), ~6.9 MB, data loaded>}, '1': {'0': <RawArray | 18 x 50184 (196.0 s), ~6.9 MB, data loaded>}, '2': {'0': <RawArray | 18 x 50184 (196.0 s), ~6.9 MB, data loaded>}}, 6: {'0': {'0': <RawArray | 18 x 50184 (196.0 s), ~6.9 MB, data loaded>}, '1': {'0': <RawArray | 18 x 50184 (196.0 s), ~6.9 MB, data loaded>}, '2': {'0': <RawArray | 18 x 50184 (196.0 s), ~6.9 MB, data loaded>}}, 7: {'0': {'0': <RawArray | 18 x 50184 (196.0 s), ~6.9 MB, data loaded>}, '1': {'0': <RawArray | 18 x 50184 (196.0 s), ~6.9 MB, data loaded>}, '2': {'0': <RawArray | 18 x 50184 (196.0 s), ~6.9 MB, data loaded>}}, 8: {'0': {'0': <RawArray | 18 x 50184 (196.0 s), ~6.9 MB, data loaded>}, '1': {'0': <RawArray | 18 x 50184 (196.0 s), ~6.9 MB, data loaded>}, '2': {'0': <RawArray | 18 x 50184 (196.0 s), ~6.9 MB, data loaded>}}, 9: {'0': {'0': <RawArray | 18 x 50184 (196.0 s), ~6.9 MB, data loaded>}, '1': {'0': <RawArray | 18 x 50184 (196.0 s), ~6.9 MB, data loaded>}, '2': {'0': <RawArray | 18 x 50184 (196.0 s), ~6.9 MB, data loaded>}}, 10: {'0': {'0': <RawArray | 18 x 50184 (196.0 s), ~6.9 MB, data loaded>}, '1': {'0': <RawArray | 18 x 50184 (196.0 s), ~6.9 MB, data loaded>}, '2': {'0': <RawArray | 18 x 50184 (196.0 s), ~6.9 MB, data loaded>}}}\n",
      "<RawArray | 18 x 50184 (196.0 s), ~6.9 MB, data loaded>\n"
     ]
    }
   ],
   "source": [
    "sessions = dataset.get_data()\n",
    "print(sessions)\n",
    "\n",
    "subject = 1\n",
    "session_name = \"0\"\n",
    "run_name = \"0\"\n",
    "raw = sessions[subject][session_name][run_name]\n",
    "\n",
    "print(raw)"
   ]
  },
  {
   "cell_type": "code",
   "execution_count": 10,
   "metadata": {},
   "outputs": [
    {
     "name": "stdout",
     "output_type": "stream",
     "text": [
      "[[ 1544     0     1]\n",
      " [ 1544     0     3]\n",
      " [ 1608     0     7]\n",
      " ...\n",
      " [48520     0    11]\n",
      " [48584     0     1]\n",
      " [48584     0    14]]\n",
      "1\n"
     ]
    }
   ],
   "source": [
    "events = mne.find_events(raw,consecutive=True)\n",
    "\n",
    "print(events)\n",
    "print(min(events[:,2]))"
   ]
  },
  {
   "cell_type": "code",
   "execution_count": 72,
   "metadata": {},
   "outputs": [
    {
     "name": "stdout",
     "output_type": "stream",
     "text": [
      "['NonTarget' 'NonTarget' 'Target' ... 'NonTarget' 'NonTarget' 'NonTarget']\n",
      "      subject session run\n",
      "0           1       0   0\n",
      "1           1       0   0\n",
      "2           1       0   0\n",
      "3           1       0   0\n",
      "4           1       0   0\n",
      "...       ...     ...  ..\n",
      "1723        1       2   0\n",
      "1724        1       2   0\n",
      "1725        1       2   0\n",
      "1726        1       2   0\n",
      "1727        1       2   0\n",
      "\n",
      "[1728 rows x 3 columns]\n"
     ]
    }
   ],
   "source": [
    "X, labels, meta = paradigm.get_data(dataset=dataset, subjects=[1])\n",
    "\n",
    "print(labels)\n",
    "print(meta)"
   ]
  },
  {
   "cell_type": "code",
   "execution_count": 74,
   "metadata": {},
   "outputs": [
    {
     "data": {
      "text/plain": [
       "[<matplotlib.lines.Line2D at 0x1dabab696d0>]"
      ]
     },
     "execution_count": 74,
     "metadata": {},
     "output_type": "execute_result"
    },
    {
     "data": {
      "image/png": "[encoded data removed]",
      "text/plain": [
       "<Figure size 640x480 with 1 Axes>"
      ]
     },
     "metadata": {},
     "output_type": "display_data"
    }
   ],
   "source": [
    "trg_x = np.where(labels==\"Target\")\n",
    "avg = np.mean(X[trg_x,0,:][0],axis=0)\n",
    "ntrg_x = np.where(labels==\"NonTarget\")\n",
    "navg = np.mean(X[ntrg_x,0,:][0],axis=0)\n",
    "\n",
    "plt.plot(avg)\n",
    "plt.plot(navg)"
   ]
  },
  {
   "cell_type": "code",
   "execution_count": 70,
   "metadata": {},
   "outputs": [
    {
     "data": {
      "text/plain": [
       "0.3125"
      ]
     },
     "execution_count": 70,
     "metadata": {},
     "output_type": "execute_result"
    }
   ],
   "source": [
    "40/128"
   ]
  },
  {
   "cell_type": "code",
   "execution_count": null,
   "metadata": {},
   "outputs": [],
   "source": []
  }
 ],
 "metadata": {
  "kernelspec": {
   "display_name": "Python 3 (ipykernel)",
   "language": "python",
   "name": "python3"
  },
  "language_info": {
   "codemirror_mode": {
    "name": "ipython",
    "version": 3
   },
   "file_extension": ".py",
   "mimetype": "text/x-python",
   "name": "python",
   "nbconvert_exporter": "python",
   "pygments_lexer": "ipython3",
   "version": "3.11.5"
  }
 },
 "nbformat": 4,
 "nbformat_minor": 4
}
