{
 "cells": [
  {
   "cell_type": "markdown",
   "metadata": {},
   "source": [
    "# Play with MOABB on the Thielen dataset\n",
    "\n",
    "## Do the import"
   ]
  },
  {
   "cell_type": "code",
   "execution_count": 2,
   "metadata": {},
   "outputs": [
    {
     "name": "stdout",
     "output_type": "stream",
     "text": [
      "WARNING:tensorflow:From c:\\Users\\s.velut\\AppData\\Local\\Programs\\Python\\Python311\\Lib\\site-packages\\keras\\src\\losses.py:2976: The name tf.losses.sparse_softmax_cross_entropy is deprecated. Please use tf.compat.v1.losses.sparse_softmax_cross_entropy instead.\n",
      "\n",
      "To use the get_shape_from_baseconcar, InputShapeSetterEEG, BraindecodeDatasetLoaderyou need to install `braindecode`.`pip install braindecode` or Please refer to `https://braindecode.org`.\n"
     ]
    },
    {
     "name": "stderr",
     "output_type": "stream",
     "text": [
      "c:\\Users\\s.velut\\AppData\\Local\\Programs\\Python\\Python311\\Lib\\site-packages\\moabb\\pipelines\\__init__.py:26: ModuleNotFoundError: Tensorflow is not installed. You won't be able to use these MOABB pipelines if you attempt to do so.\n",
      "  warn(\n"
     ]
    }
   ],
   "source": [
    "import warnings\n",
    "\n",
    "import matplotlib.pyplot as plt\n",
    "import numpy as np\n",
    "import pandas as pd\n",
    "import seaborn as sns\n",
    "import mne\n",
    "from mne.decoding import CSP\n",
    "from mne.decoding import Vectorizer\n",
    "from pyriemann.estimation import Xdawn, XdawnCovariances\n",
    "from pyriemann.tangentspace import TangentSpace\n",
    "from pyriemann.classification import MDM\n",
    "from sklearn.discriminant_analysis import LinearDiscriminantAnalysis as LDA\n",
    "from sklearn.pipeline import make_pipeline\n",
    "from sklearn.svm import LinearSVC\n",
    "\n",
    "\n",
    "import moabb"
   ]
  },
  {
   "cell_type": "code",
   "execution_count": 3,
   "metadata": {},
   "outputs": [],
   "source": [
    "from moabb.datasets import Thielen2021\n",
    "from moabb.evaluations import WithinSessionEvaluation\n",
    "from moabb.paradigms import CVEP\n",
    "\n",
    "moabb.set_log_level(\"info\")\n",
    "warnings.filterwarnings(\"ignore\")\n"
   ]
  },
  {
   "cell_type": "markdown",
   "metadata": {},
   "source": [
    "## Instantiating Dataset\n",
    " ---------------------\n",
    "\n",
    " The first thing to do is to instantiate the dataset that we want to analyze.\n",
    " MOABB has a list of many different datasets, each one containing all the\n",
    " necessary information for describing them, such as the number of subjects,\n",
    " size of trials, names of classes, etc.\n",
    "\n",
    " The dataset class has methods for:\n",
    "\n",
    " - downloading its files from some online source (e.g. Zenodo)\n",
    " - importing the data from the files in whatever extension they might be\n",
    "   (like .mat, .gdf, etc.) and instantiate a Raw object from the MNE package"
   ]
  },
  {
   "cell_type": "code",
   "execution_count": 4,
   "metadata": {},
   "outputs": [
    {
     "name": "stdout",
     "output_type": "stream",
     "text": [
      "[1, 2, 3, 4, 5, 6, 7, 8, 9, 10, 11, 12, 13, 14, 15, 16, 17, 18, 19, 20, 21, 22, 23, 24, 25, 26, 27, 28, 29, 30]\n",
      "{'1.0': 101, '0.0': 100}\n"
     ]
    }
   ],
   "source": [
    "datasets = Thielen2021()\n",
    "print(datasets.subject_list)\n",
    "print(datasets.event_id)\n",
    "\n",
    "datasets.subject_list = [1, 2, 3]\n"
   ]
  },
  {
   "cell_type": "code",
   "execution_count": 5,
   "metadata": {},
   "outputs": [
    {
     "name": "stdout",
     "output_type": "stream",
     "text": [
      "{1: {'0': {'0': <RawGDF | sub-01_20181128_block_1_main_eeg.gdf, 11 x 341479 (666.9 s), ~28.7 MB, data loaded>, '1': <RawGDF | sub-01_20181128_block_2_main_eeg.gdf, 11 x 341107 (666.2 s), ~28.6 MB, data loaded>, '2': <RawGDF | sub-01_20181128_block_3_main_eeg.gdf, 11 x 341105 (666.2 s), ~28.6 MB, data loaded>, '3': <RawGDF | sub-01_20181128_block_4_main_eeg.gdf, 11 x 341018 (666.0 s), ~28.6 MB, data loaded>, '4': <RawGDF | sub-01_20181128_block_5_main_eeg.gdf, 11 x 340901 (665.8 s), ~28.6 MB, data loaded>}}}\n",
      "<RawGDF | sub-01_20181128_block_1_main_eeg.gdf, 11 x 341479 (666.9 s), ~28.7 MB, data loaded>\n"
     ]
    }
   ],
   "source": [
    "sessions = datasets.get_data(subjects=[1])\n",
    "\n",
    "print(sessions)\n",
    "\n",
    "subject = 1\n",
    "session_name = \"0\"\n",
    "run_name = \"0\"\n",
    "raw = sessions[subject][session_name][run_name]\n",
    "raw.annotations.delete(np.linspace(0,37800-1,37800,dtype=int))\n",
    "\n",
    "\n",
    "print(raw)\n"
   ]
  },
  {
   "cell_type": "code",
   "execution_count": 6,
   "metadata": {},
   "outputs": [
    {
     "name": "stdout",
     "output_type": "stream",
     "text": [
      "[[  5946      0    100]\n",
      " [  5946      0    257]\n",
      " [  5946      0    204]\n",
      " ...\n",
      " [341085      0    100]\n",
      " [341093      0    101]\n",
      " [341104      0    257]]\n",
      "1\n",
      "[[5946    0  100]]\n",
      "<Epochs |  1 events (good & bad), -0.300781 – 0.699219 s, baseline -0.300781 – 0 s, ~18 kB, data not loaded,\n",
      " '100': 1>\n"
     ]
    }
   ],
   "source": [
    "events = mne.find_events(raw)\n",
    "print(events)\n",
    "\n",
    "cond = np.sum(events[:,2]==200)\n",
    "print(cond)\n",
    "print(events[np.where(cond)])\n",
    "\n",
    "epochs = mne.Epochs(raw, events[np.where(cond)], tmin=-0.3, tmax=0.7)\n",
    "print(epochs)\n"
   ]
  },
  {
   "cell_type": "code",
   "execution_count": 7,
   "metadata": {},
   "outputs": [],
   "source": [
    "%matplotlib qt"
   ]
  },
  {
   "cell_type": "code",
   "execution_count": 8,
   "metadata": {},
   "outputs": [
    {
     "name": "stdout",
     "output_type": "stream",
     "text": [
      "<RawGDF | sub-01_20181128_block_1_main_eeg.gdf, 11 x 341479 (666.9 s), ~28.7 MB, data loaded>\n"
     ]
    }
   ],
   "source": [
    "\n",
    "# print(len(raw[1][0][0]))\n",
    "# eeg = raw[8][0][0]\n",
    "# plt.plot(np.linspace(0,len(eeg)*1/512,len(eeg)), eeg)\n",
    "# plt.show()\n",
    "\n",
    "rawp = raw.copy()\n",
    "rawp.events = events[:1, :]\n",
    "# rawp.plot_sensors()\n",
    "# rawp.plot_psd()\n",
    "print(rawp)\n",
    "# rawp.plot(events=None)\n",
    "# epochs.plot(n_epochs=1, events=True)"
   ]
  },
  {
   "cell_type": "markdown",
   "metadata": {},
   "source": [
    "## Choosing a Paradigm"
   ]
  },
  {
   "cell_type": "code",
   "execution_count": 9,
   "metadata": {},
   "outputs": [
    {
     "name": "stderr",
     "output_type": "stream",
     "text": [
      "2023-11-29 15:42:28,212 WARNING MainThread moabb.paradigms.cvep Choosing the first None classes from all possible events.\n"
     ]
    },
    {
     "name": "stdout",
     "output_type": "stream",
     "text": [
      "False\n"
     ]
    }
   ],
   "source": [
    "paradigm=CVEP()\n",
    "print(paradigm==None)"
   ]
  },
  {
   "cell_type": "code",
   "execution_count": 10,
   "metadata": {},
   "outputs": [
    {
     "name": "stdout",
     "output_type": "stream",
     "text": [
      "{'1.0': 101, '0.0': 100}\n"
     ]
    }
   ],
   "source": [
    "#X, labels, meta = paradigm.get_data(dataset=datasets, subjects=datasets.subject_list)\n",
    "print(datasets.event_id)"
   ]
  },
  {
   "cell_type": "code",
   "execution_count": 11,
   "metadata": {},
   "outputs": [],
   "source": [
    "\n",
    "pipelines = {}\n",
    "pipelines[\"RG+LDA\"]=make_pipeline(\n",
    "    XdawnCovariances(\n",
    "        nfilter=2, estimator=\"lwf\", xdawn_estimator=\"scm\"\n",
    "    ),\n",
    "    TangentSpace(),\n",
    "    LDA(solver=\"lsqr\", shrinkage=\"auto\"),\n",
    ")\n",
    "\n",
    "pipelines[\"Xdw+LDA\"] = make_pipeline(\n",
    "    Xdawn(nfilter=2, estimator=\"scm\"), Vectorizer(), LDA(solver=\"lsqr\", shrinkage=\"auto\")\n",
    ")\n",
    "pipelines[\"RG+SVC\"]=make_pipeline(\n",
    "    XdawnCovariances(\n",
    "        nfilter=2, estimator=\"lwf\", xdawn_estimator=\"scm\"\n",
    "    ),\n",
    "    MDM()\n",
    ")\n"
   ]
  },
  {
   "cell_type": "code",
   "execution_count": 12,
   "metadata": {},
   "outputs": [
    {
     "name": "stderr",
     "output_type": "stream",
     "text": [
      "2023-11-29 15:42:28,227 WARNING MainThread moabb.paradigms.cvep Choosing the first None classes from all possible events.\n",
      "2023-11-29 15:42:28,229 INFO MainThread moabb.evaluations.base Processing dataset: Thielen2021\n"
     ]
    },
    {
     "name": "stdout",
     "output_type": "stream",
     "text": [
      "charging dataset\n",
      "{'1.0': 101, '0.0': 100}\n",
      "[[  5946      0    100]\n",
      " [  5946      0    257]\n",
      " [  5946      0    204]\n",
      " ...\n",
      " [341085      0    100]\n",
      " [341093      0    101]\n",
      " [341104      0    257]]\n",
      "[1, 2, 3]\n"
     ]
    },
    {
     "name": "stderr",
     "output_type": "stream",
     "text": [
      "Thielen2021-WithinSession:   0%|          | 0/3 [00:00<?, ?it/s]"
     ]
    },
    {
     "name": "stdout",
     "output_type": "stream",
     "text": [
      "No hdf5_path provided, models will not be saved.\n"
     ]
    },
    {
     "name": "stderr",
     "output_type": "stream",
     "text": [
      "2023-11-29 15:46:48,983 INFO MainThread moabb.evaluations.base RG+LDA | Thielen2021 | 1 | 0: Score 0.645\n"
     ]
    },
    {
     "name": "stdout",
     "output_type": "stream",
     "text": [
      "No hdf5_path provided, models will not be saved.\n"
     ]
    },
    {
     "name": "stderr",
     "output_type": "stream",
     "text": [
      "2023-11-29 15:46:55,228 INFO MainThread moabb.evaluations.base Xdw+LDA | Thielen2021 | 1 | 0: Score 0.684\n"
     ]
    },
    {
     "name": "stdout",
     "output_type": "stream",
     "text": [
      "No hdf5_path provided, models will not be saved.\n"
     ]
    },
    {
     "name": "stderr",
     "output_type": "stream",
     "text": [
      "2023-11-29 15:50:17,004 INFO MainThread moabb.evaluations.base RG+SVC | Thielen2021 | 1 | 0: Score 0.624\n",
      "Thielen2021-WithinSession:  33%|███▎      | 1/3 [07:48<15:37, 468.86s/it]"
     ]
    },
    {
     "name": "stdout",
     "output_type": "stream",
     "text": [
      "No hdf5_path provided, models will not be saved.\n"
     ]
    },
    {
     "name": "stderr",
     "output_type": "stream",
     "text": [
      "2023-11-29 15:54:25,001 INFO MainThread moabb.evaluations.base RG+LDA | Thielen2021 | 2 | 0: Score 0.575\n"
     ]
    },
    {
     "name": "stdout",
     "output_type": "stream",
     "text": [
      "No hdf5_path provided, models will not be saved.\n"
     ]
    },
    {
     "name": "stderr",
     "output_type": "stream",
     "text": [
      "2023-11-29 15:54:31,293 INFO MainThread moabb.evaluations.base Xdw+LDA | Thielen2021 | 2 | 0: Score 0.588\n"
     ]
    },
    {
     "name": "stdout",
     "output_type": "stream",
     "text": [
      "No hdf5_path provided, models will not be saved.\n"
     ]
    },
    {
     "name": "stderr",
     "output_type": "stream",
     "text": [
      "2023-11-29 15:57:46,162 INFO MainThread moabb.evaluations.base RG+SVC | Thielen2021 | 2 | 0: Score 0.551\n",
      "Thielen2021-WithinSession:  67%|██████▋   | 2/3 [15:18<07:37, 457.27s/it]"
     ]
    },
    {
     "name": "stdout",
     "output_type": "stream",
     "text": [
      "No hdf5_path provided, models will not be saved.\n"
     ]
    },
    {
     "name": "stderr",
     "output_type": "stream",
     "text": [
      "2023-11-29 16:02:02,578 INFO MainThread moabb.evaluations.base RG+LDA | Thielen2021 | 3 | 0: Score 0.619\n"
     ]
    },
    {
     "name": "stdout",
     "output_type": "stream",
     "text": [
      "No hdf5_path provided, models will not be saved.\n"
     ]
    },
    {
     "name": "stderr",
     "output_type": "stream",
     "text": [
      "2023-11-29 16:02:09,214 INFO MainThread moabb.evaluations.base Xdw+LDA | Thielen2021 | 3 | 0: Score 0.639\n"
     ]
    },
    {
     "name": "stdout",
     "output_type": "stream",
     "text": [
      "No hdf5_path provided, models will not be saved.\n"
     ]
    },
    {
     "name": "stderr",
     "output_type": "stream",
     "text": [
      "2023-11-29 16:05:35,612 INFO MainThread moabb.evaluations.base RG+SVC | Thielen2021 | 3 | 0: Score 0.593\n",
      "Thielen2021-WithinSession: 100%|██████████| 3/3 [23:07<00:00, 462.49s/it]\n"
     ]
    }
   ],
   "source": [
    "paradigm = CVEP(resample=128)\n",
    "print(\"charging dataset\")\n",
    "print(datasets.event_id)\n",
    "print(events)\n",
    "datasets.subject_list = datasets.subject_list[:]\n",
    "print(datasets.subject_list)\n",
    "datasets = [datasets]\n",
    "overwrite = True  # set to True if we want to overwrite cached results\n",
    "evaluation = WithinSessionEvaluation(\n",
    "    paradigm=paradigm, datasets=datasets, suffix=\"examples\", overwrite=overwrite\n",
    ")\n",
    "\n",
    "results = evaluation.process(pipelines)"
   ]
  },
  {
   "cell_type": "code",
   "execution_count": 13,
   "metadata": {},
   "outputs": [
    {
     "name": "stdout",
     "output_type": "stream",
     "text": [
      "      score       time   samples subject session  channels  n_sessions  \\\n",
      "0  0.684291   1.233204  189000.0       1       0         8           1   \n",
      "1  0.587513   1.242908  189000.0       2       0         8           1   \n",
      "2  0.638672   1.310175  189000.0       3       0         8           1   \n",
      "3  0.645069  39.414417  189000.0       1       0         8           1   \n",
      "4  0.575317  37.285667  189000.0       2       0         8           1   \n",
      "5  0.619106  38.912666  189000.0       3       0         8           1   \n",
      "6  0.624101  40.339073  189000.0       1       0         8           1   \n",
      "7  0.551016  38.957550  189000.0       2       0         8           1   \n",
      "8  0.592974  41.263187  189000.0       3       0         8           1   \n",
      "\n",
      "       dataset pipeline  \n",
      "0  Thielen2021  Xdw+LDA  \n",
      "1  Thielen2021  Xdw+LDA  \n",
      "2  Thielen2021  Xdw+LDA  \n",
      "3  Thielen2021   RG+LDA  \n",
      "4  Thielen2021   RG+LDA  \n",
      "5  Thielen2021   RG+LDA  \n",
      "6  Thielen2021   RG+SVC  \n",
      "7  Thielen2021   RG+SVC  \n",
      "8  Thielen2021   RG+SVC  \n"
     ]
    }
   ],
   "source": [
    "print(results)"
   ]
  },
  {
   "cell_type": "markdown",
   "metadata": {},
   "source": [
    "# PLot Result"
   ]
  },
  {
   "cell_type": "code",
   "execution_count": 14,
   "metadata": {},
   "outputs": [],
   "source": [
    "fig, ax = plt.subplots(facecolor=\"white\", figsize=[8, 4])\n",
    "\n",
    "sns.stripplot(\n",
    "    data=results,\n",
    "    y=\"score\",\n",
    "    x=\"pipeline\",\n",
    "    ax=ax,\n",
    "    jitter=True,\n",
    "    alpha=0.5,\n",
    "    zorder=1,\n",
    "    palette=\"Set1\",\n",
    ")\n",
    "sns.pointplot(data=results, y=\"score\", x=\"pipeline\", ax=ax, palette=\"Set1\")\n",
    "\n",
    "ax.set_ylabel(\"ROC AUC\")\n",
    "ax.set_ylim(0.5, 1)\n",
    "\n",
    "plt.show()"
   ]
  },
  {
   "cell_type": "code",
   "execution_count": null,
   "metadata": {},
   "outputs": [],
   "source": []
  }
 ],
 "metadata": {
  "interpreter": {
   "hash": "8ac3a953833c090f146e4ba605ec310f853a691b325db82e974886e3abb928d6"
  },
  "kernelspec": {
   "display_name": "Python 3.11.5 64-bit",
   "language": "python",
   "name": "python3"
  },
  "language_info": {
   "codemirror_mode": {
    "name": "ipython",
    "version": 3
   },
   "file_extension": ".py",
   "mimetype": "text/x-python",
   "name": "python",
   "nbconvert_exporter": "python",
   "pygments_lexer": "ipython3",
   "version": "3.11.5"
  }
 },
 "nbformat": 4,
 "nbformat_minor": 2
}
