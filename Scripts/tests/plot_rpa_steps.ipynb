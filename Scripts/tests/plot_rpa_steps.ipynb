{
  "cells": [
    {
      "cell_type": "markdown",
      "metadata": {},
      "source": [
        "\n",
        "# Plot the data transformations in the Riemannian Procrustes Analysis\n",
        "\n",
        "Use the SpectralEmbedding module to plot in 2D the transformations on the data\n",
        "points from source and target domains when applying the Riemannian Procrustes\n",
        "Analysis [1]_ to match their statistics.\n"
      ]
    },
    {
      "cell_type": "code",
      "execution_count": 1,
      "metadata": {
        "collapsed": false
      },
      "outputs": [
        {
          "name": "stdout",
          "output_type": "stream",
          "text": [
            "WARNING:tensorflow:From c:\\Users\\s.velut\\AppData\\Local\\Programs\\Python\\Python311\\Lib\\site-packages\\keras\\src\\losses.py:2976: The name tf.losses.sparse_softmax_cross_entropy is deprecated. Please use tf.compat.v1.losses.sparse_softmax_cross_entropy instead.\n",
            "\n"
          ]
        },
        {
          "name": "stderr",
          "output_type": "stream",
          "text": [
            "c:\\Users\\s.velut\\AppData\\Local\\Programs\\Python\\Python311\\Lib\\site-packages\\moabb\\pipelines\\__init__.py:26: ModuleNotFoundError: Tensorflow is not installed. You won't be able to use these MOABB pipelines if you attempt to do so.\n",
            "  warn(\n"
          ]
        }
      ],
      "source": [
        "import numpy as np\n",
        "import sys\n",
        "import matplotlib.pyplot as plt\n",
        "sys.path.insert(0,\"C:\\\\Users\\\\s.velut\\\\Documents\\\\These\\\\Protheus_PHD\\\\Scripts\")\n",
        "from utils import get_BVEP_data,balance,Euc2SPD,prepare_data\n",
        "\n",
        "# get the functions from RPA package\n",
        "sys.path.insert(0,\"C:\\\\Users\\\\s.velut\\\\Documents\\\\These\\\\RPA\")\n",
        "import rpa.transfer_learning as TL\n",
        "import rpa.diffusion_map as DM\n",
        "import rpa.get_dataset as GD\n",
        "\n",
        "\n",
        "from pyriemann.embedding import SpectralEmbedding\n",
        "from pyriemann.datasets.simulated import make_classification_transfer\n",
        "from pyriemann.transfer import (\n",
        "    decode_domains,\n",
        "    encode_domains,\n",
        "    TLCenter,\n",
        "    TLRotate,\n",
        ")"
      ]
    },
    {
      "cell_type": "markdown",
      "metadata": {},
      "source": [
        "Fix seed for reproducible results\n",
        "\n"
      ]
    },
    {
      "cell_type": "code",
      "execution_count": 2,
      "metadata": {},
      "outputs": [
        {
          "name": "stderr",
          "output_type": "stream",
          "text": [
            "Choosing the first None classes from all possible events.\n"
          ]
        },
        {
          "name": "stdout",
          "output_type": "stream",
          "text": [
            "None\n",
            "C:\\Users\\s.velut\\mne_data\\MNE-4class-vep-data\\records\\8255618\\files\\\n",
            "Using data from preloaded Raw for 60 events and 1101 original time points ...\n",
            "0 bad epochs dropped\n",
            "C:\\Users\\s.velut\\mne_data\\MNE-4class-vep-data\\records\\8255618\\files\\\n",
            "Using data from preloaded Raw for 60 events and 1101 original time points ...\n",
            "0 bad epochs dropped\n",
            "C:\\Users\\s.velut\\mne_data\\MNE-4class-vep-data\\records\\8255618\\files\\\n",
            "Using data from preloaded Raw for 60 events and 1101 original time points ...\n",
            "0 bad epochs dropped\n",
            "C:\\Users\\s.velut\\mne_data\\MNE-4class-vep-data\\records\\8255618\\files\\\n",
            "Using data from preloaded Raw for 60 events and 1101 original time points ...\n",
            "0 bad epochs dropped\n",
            "C:\\Users\\s.velut\\mne_data\\MNE-4class-vep-data\\records\\8255618\\files\\\n",
            "Using data from preloaded Raw for 60 events and 1101 original time points ...\n",
            "0 bad epochs dropped\n",
            "C:\\Users\\s.velut\\mne_data\\MNE-4class-vep-data\\records\\8255618\\files\\\n",
            "Using data from preloaded Raw for 60 events and 1101 original time points ...\n",
            "0 bad epochs dropped\n"
          ]
        },
        {
          "name": "stderr",
          "output_type": "stream",
          "text": [
            "C:\\Users\\s.velut\\Documents\\These\\moabb\\moabb\\datasets\\castillos2023.py:135: RuntimeWarning: Data file name in EEG.data (P13_burst100.fdt) is incorrect, the file name must have changed on disk, using the correct file name (P6_burst100.fdt).\n",
            "  raw = mne.io.read_raw_eeglab(file_path_list[0], preload=True, verbose=False)\n"
          ]
        },
        {
          "name": "stdout",
          "output_type": "stream",
          "text": [
            "C:\\Users\\s.velut\\mne_data\\MNE-4class-vep-data\\records\\8255618\\files\\\n",
            "Using data from preloaded Raw for 60 events and 1101 original time points ...\n",
            "0 bad epochs dropped\n",
            "C:\\Users\\s.velut\\mne_data\\MNE-4class-vep-data\\records\\8255618\\files\\\n",
            "Using data from preloaded Raw for 60 events and 1101 original time points ...\n",
            "0 bad epochs dropped\n",
            "C:\\Users\\s.velut\\mne_data\\MNE-4class-vep-data\\records\\8255618\\files\\\n",
            "Using data from preloaded Raw for 60 events and 1101 original time points ...\n",
            "0 bad epochs dropped\n",
            "C:\\Users\\s.velut\\mne_data\\MNE-4class-vep-data\\records\\8255618\\files\\\n",
            "Using data from preloaded Raw for 60 events and 1101 original time points ...\n",
            "0 bad epochs dropped\n",
            "C:\\Users\\s.velut\\mne_data\\MNE-4class-vep-data\\records\\8255618\\files\\\n",
            "Using data from preloaded Raw for 60 events and 1101 original time points ...\n",
            "0 bad epochs dropped\n",
            "C:\\Users\\s.velut\\mne_data\\MNE-4class-vep-data\\records\\8255618\\files\\\n",
            "Using data from preloaded Raw for 60 events and 1101 original time points ...\n",
            "0 bad epochs dropped\n",
            "[1, 2, 3, 4, 5, 6, 7, 8, 9, 10, 11, 12]\n",
            "[1, 2, 3, 4, 5, 6, 7, 8, 9, 10, 11, 12]\n",
            "Filtering raw data in 1 contiguous segment\n",
            "Setting up band-pass filter from 1 - 25 Hz\n",
            "\n",
            "FIR filter parameters\n",
            "---------------------\n",
            "Designing a one-pass, zero-phase, non-causal bandpass filter:\n",
            "- Windowed time-domain design (firwin) method\n",
            "- Hamming window with 0.0194 passband ripple and 53 dB stopband attenuation\n",
            "- Lower passband edge: 1.00\n",
            "- Lower transition bandwidth: 1.00 Hz (-6 dB cutoff frequency: 0.50 Hz)\n",
            "- Upper passband edge: 25.00 Hz\n",
            "- Upper transition bandwidth: 6.25 Hz (-6 dB cutoff frequency: 28.12 Hz)\n",
            "- Filter length: 1651 samples (3.302 s)\n",
            "\n",
            "7020 events found\n",
            "Event IDs: [100 101]\n",
            "Not setting metadata\n",
            "7020 matching events found\n",
            "Setting baseline interval to [-0.01, 0.0] s\n",
            "Applying baseline correction (mode: mean)\n",
            "0 projection items activated\n",
            "Using data from preloaded Raw for 7020 events and 131 original time points ...\n"
          ]
        },
        {
          "name": "stderr",
          "output_type": "stream",
          "text": [
            "[Parallel(n_jobs=1)]: Done  17 tasks      | elapsed:    0.0s\n"
          ]
        },
        {
          "name": "stdout",
          "output_type": "stream",
          "text": [
            "0 bad epochs dropped\n",
            "Filtering raw data in 1 contiguous segment\n",
            "Setting up band-pass filter from 1 - 25 Hz\n",
            "\n",
            "FIR filter parameters\n",
            "---------------------\n",
            "Designing a one-pass, zero-phase, non-causal bandpass filter:\n",
            "- Windowed time-domain design (firwin) method\n",
            "- Hamming window with 0.0194 passband ripple and 53 dB stopband attenuation\n",
            "- Lower passband edge: 1.00\n",
            "- Lower transition bandwidth: 1.00 Hz (-6 dB cutoff frequency: 0.50 Hz)\n",
            "- Upper passband edge: 25.00 Hz\n",
            "- Upper transition bandwidth: 6.25 Hz (-6 dB cutoff frequency: 28.12 Hz)\n",
            "- Filter length: 1651 samples (3.302 s)\n",
            "\n",
            "7020 events found\n",
            "Event IDs: [100 101]\n",
            "Not setting metadata\n",
            "7020 matching events found\n",
            "Setting baseline interval to [-0.01, 0.0] s\n",
            "Applying baseline correction (mode: mean)\n",
            "0 projection items activated\n",
            "Using data from preloaded Raw for 7020 events and 131 original time points ...\n"
          ]
        },
        {
          "name": "stderr",
          "output_type": "stream",
          "text": [
            "[Parallel(n_jobs=1)]: Done  17 tasks      | elapsed:    0.0s\n"
          ]
        },
        {
          "name": "stdout",
          "output_type": "stream",
          "text": [
            "0 bad epochs dropped\n",
            "Filtering raw data in 1 contiguous segment\n",
            "Setting up band-pass filter from 1 - 25 Hz\n",
            "\n",
            "FIR filter parameters\n",
            "---------------------\n",
            "Designing a one-pass, zero-phase, non-causal bandpass filter:\n",
            "- Windowed time-domain design (firwin) method\n",
            "- Hamming window with 0.0194 passband ripple and 53 dB stopband attenuation\n",
            "- Lower passband edge: 1.00\n",
            "- Lower transition bandwidth: 1.00 Hz (-6 dB cutoff frequency: 0.50 Hz)\n",
            "- Upper passband edge: 25.00 Hz\n",
            "- Upper transition bandwidth: 6.25 Hz (-6 dB cutoff frequency: 28.12 Hz)\n",
            "- Filter length: 1651 samples (3.302 s)\n",
            "\n",
            "7020 events found\n",
            "Event IDs: [100 101]\n",
            "Not setting metadata\n",
            "7020 matching events found\n",
            "Setting baseline interval to [-0.01, 0.0] s\n",
            "Applying baseline correction (mode: mean)\n",
            "0 projection items activated\n",
            "Using data from preloaded Raw for 7020 events and 131 original time points ...\n"
          ]
        },
        {
          "name": "stderr",
          "output_type": "stream",
          "text": [
            "[Parallel(n_jobs=1)]: Done  17 tasks      | elapsed:    0.0s\n"
          ]
        },
        {
          "name": "stdout",
          "output_type": "stream",
          "text": [
            "0 bad epochs dropped\n",
            "Filtering raw data in 1 contiguous segment\n",
            "Setting up band-pass filter from 1 - 25 Hz\n",
            "\n",
            "FIR filter parameters\n",
            "---------------------\n",
            "Designing a one-pass, zero-phase, non-causal bandpass filter:\n",
            "- Windowed time-domain design (firwin) method\n",
            "- Hamming window with 0.0194 passband ripple and 53 dB stopband attenuation\n",
            "- Lower passband edge: 1.00\n",
            "- Lower transition bandwidth: 1.00 Hz (-6 dB cutoff frequency: 0.50 Hz)\n",
            "- Upper passband edge: 25.00 Hz\n",
            "- Upper transition bandwidth: 6.25 Hz (-6 dB cutoff frequency: 28.12 Hz)\n",
            "- Filter length: 1651 samples (3.302 s)\n",
            "\n",
            "7020 events found\n",
            "Event IDs: [100 101]\n",
            "Not setting metadata\n",
            "7020 matching events found\n",
            "Setting baseline interval to [-0.01, 0.0] s\n",
            "Applying baseline correction (mode: mean)\n",
            "0 projection items activated\n",
            "Using data from preloaded Raw for 7020 events and 131 original time points ...\n"
          ]
        },
        {
          "name": "stderr",
          "output_type": "stream",
          "text": [
            "[Parallel(n_jobs=1)]: Done  17 tasks      | elapsed:    0.0s\n"
          ]
        },
        {
          "name": "stdout",
          "output_type": "stream",
          "text": [
            "0 bad epochs dropped\n",
            "Filtering raw data in 1 contiguous segment\n",
            "Setting up band-pass filter from 1 - 25 Hz\n",
            "\n",
            "FIR filter parameters\n",
            "---------------------\n",
            "Designing a one-pass, zero-phase, non-causal bandpass filter:\n",
            "- Windowed time-domain design (firwin) method\n",
            "- Hamming window with 0.0194 passband ripple and 53 dB stopband attenuation\n",
            "- Lower passband edge: 1.00\n",
            "- Lower transition bandwidth: 1.00 Hz (-6 dB cutoff frequency: 0.50 Hz)\n",
            "- Upper passband edge: 25.00 Hz\n",
            "- Upper transition bandwidth: 6.25 Hz (-6 dB cutoff frequency: 28.12 Hz)\n",
            "- Filter length: 1651 samples (3.302 s)\n",
            "\n",
            "7020 events found\n",
            "Event IDs: [100 101]\n",
            "Not setting metadata\n",
            "7020 matching events found\n",
            "Setting baseline interval to [-0.01, 0.0] s\n",
            "Applying baseline correction (mode: mean)\n",
            "0 projection items activated\n",
            "Using data from preloaded Raw for 7020 events and 131 original time points ...\n"
          ]
        },
        {
          "name": "stderr",
          "output_type": "stream",
          "text": [
            "[Parallel(n_jobs=1)]: Done  17 tasks      | elapsed:    0.0s\n"
          ]
        },
        {
          "name": "stdout",
          "output_type": "stream",
          "text": [
            "0 bad epochs dropped\n",
            "Filtering raw data in 1 contiguous segment\n",
            "Setting up band-pass filter from 1 - 25 Hz\n",
            "\n",
            "FIR filter parameters\n",
            "---------------------\n",
            "Designing a one-pass, zero-phase, non-causal bandpass filter:\n",
            "- Windowed time-domain design (firwin) method\n",
            "- Hamming window with 0.0194 passband ripple and 53 dB stopband attenuation\n",
            "- Lower passband edge: 1.00\n",
            "- Lower transition bandwidth: 1.00 Hz (-6 dB cutoff frequency: 0.50 Hz)\n",
            "- Upper passband edge: 25.00 Hz\n",
            "- Upper transition bandwidth: 6.25 Hz (-6 dB cutoff frequency: 28.12 Hz)\n",
            "- Filter length: 1651 samples (3.302 s)\n",
            "\n",
            "7020 events found\n",
            "Event IDs: [100 101]\n",
            "Not setting metadata\n",
            "7020 matching events found\n",
            "Setting baseline interval to [-0.01, 0.0] s\n",
            "Applying baseline correction (mode: mean)\n",
            "0 projection items activated\n",
            "Using data from preloaded Raw for 7020 events and 131 original time points ...\n"
          ]
        },
        {
          "name": "stderr",
          "output_type": "stream",
          "text": [
            "[Parallel(n_jobs=1)]: Done  17 tasks      | elapsed:    0.0s\n"
          ]
        },
        {
          "name": "stdout",
          "output_type": "stream",
          "text": [
            "0 bad epochs dropped\n",
            "Filtering raw data in 1 contiguous segment\n",
            "Setting up band-pass filter from 1 - 25 Hz\n",
            "\n",
            "FIR filter parameters\n",
            "---------------------\n",
            "Designing a one-pass, zero-phase, non-causal bandpass filter:\n",
            "- Windowed time-domain design (firwin) method\n",
            "- Hamming window with 0.0194 passband ripple and 53 dB stopband attenuation\n",
            "- Lower passband edge: 1.00\n",
            "- Lower transition bandwidth: 1.00 Hz (-6 dB cutoff frequency: 0.50 Hz)\n",
            "- Upper passband edge: 25.00 Hz\n",
            "- Upper transition bandwidth: 6.25 Hz (-6 dB cutoff frequency: 28.12 Hz)\n",
            "- Filter length: 1651 samples (3.302 s)\n",
            "\n",
            "7020 events found\n",
            "Event IDs: [100 101]\n",
            "Not setting metadata\n",
            "7020 matching events found\n",
            "Setting baseline interval to [-0.01, 0.0] s\n",
            "Applying baseline correction (mode: mean)\n",
            "0 projection items activated\n",
            "Using data from preloaded Raw for 7020 events and 131 original time points ...\n"
          ]
        },
        {
          "name": "stderr",
          "output_type": "stream",
          "text": [
            "[Parallel(n_jobs=1)]: Done  17 tasks      | elapsed:    0.0s\n"
          ]
        },
        {
          "name": "stdout",
          "output_type": "stream",
          "text": [
            "0 bad epochs dropped\n",
            "Filtering raw data in 1 contiguous segment\n",
            "Setting up band-pass filter from 1 - 25 Hz\n",
            "\n",
            "FIR filter parameters\n",
            "---------------------\n",
            "Designing a one-pass, zero-phase, non-causal bandpass filter:\n",
            "- Windowed time-domain design (firwin) method\n",
            "- Hamming window with 0.0194 passband ripple and 53 dB stopband attenuation\n",
            "- Lower passband edge: 1.00\n",
            "- Lower transition bandwidth: 1.00 Hz (-6 dB cutoff frequency: 0.50 Hz)\n",
            "- Upper passband edge: 25.00 Hz\n",
            "- Upper transition bandwidth: 6.25 Hz (-6 dB cutoff frequency: 28.12 Hz)\n",
            "- Filter length: 1651 samples (3.302 s)\n",
            "\n",
            "7020 events found\n",
            "Event IDs: [100 101]\n",
            "Not setting metadata\n",
            "7020 matching events found\n",
            "Setting baseline interval to [-0.01, 0.0] s\n",
            "Applying baseline correction (mode: mean)\n",
            "0 projection items activated\n",
            "Using data from preloaded Raw for 7020 events and 131 original time points ...\n"
          ]
        },
        {
          "name": "stderr",
          "output_type": "stream",
          "text": [
            "[Parallel(n_jobs=1)]: Done  17 tasks      | elapsed:    0.0s\n"
          ]
        },
        {
          "name": "stdout",
          "output_type": "stream",
          "text": [
            "0 bad epochs dropped\n",
            "Filtering raw data in 1 contiguous segment\n",
            "Setting up band-pass filter from 1 - 25 Hz\n",
            "\n",
            "FIR filter parameters\n",
            "---------------------\n",
            "Designing a one-pass, zero-phase, non-causal bandpass filter:\n",
            "- Windowed time-domain design (firwin) method\n",
            "- Hamming window with 0.0194 passband ripple and 53 dB stopband attenuation\n",
            "- Lower passband edge: 1.00\n",
            "- Lower transition bandwidth: 1.00 Hz (-6 dB cutoff frequency: 0.50 Hz)\n",
            "- Upper passband edge: 25.00 Hz\n",
            "- Upper transition bandwidth: 6.25 Hz (-6 dB cutoff frequency: 28.12 Hz)\n",
            "- Filter length: 1651 samples (3.302 s)\n",
            "\n",
            "7020 events found\n",
            "Event IDs: [100 101]\n",
            "Not setting metadata\n",
            "7020 matching events found\n",
            "Setting baseline interval to [-0.01, 0.0] s\n",
            "Applying baseline correction (mode: mean)\n",
            "0 projection items activated\n",
            "Using data from preloaded Raw for 7020 events and 131 original time points ...\n"
          ]
        },
        {
          "name": "stderr",
          "output_type": "stream",
          "text": [
            "[Parallel(n_jobs=1)]: Done  17 tasks      | elapsed:    0.0s\n"
          ]
        },
        {
          "name": "stdout",
          "output_type": "stream",
          "text": [
            "0 bad epochs dropped\n",
            "Filtering raw data in 1 contiguous segment\n",
            "Setting up band-pass filter from 1 - 25 Hz\n",
            "\n",
            "FIR filter parameters\n",
            "---------------------\n",
            "Designing a one-pass, zero-phase, non-causal bandpass filter:\n",
            "- Windowed time-domain design (firwin) method\n",
            "- Hamming window with 0.0194 passband ripple and 53 dB stopband attenuation\n",
            "- Lower passband edge: 1.00\n",
            "- Lower transition bandwidth: 1.00 Hz (-6 dB cutoff frequency: 0.50 Hz)\n",
            "- Upper passband edge: 25.00 Hz\n",
            "- Upper transition bandwidth: 6.25 Hz (-6 dB cutoff frequency: 28.12 Hz)\n",
            "- Filter length: 1651 samples (3.302 s)\n",
            "\n",
            "7020 events found\n",
            "Event IDs: [100 101]\n",
            "Not setting metadata\n",
            "7020 matching events found\n",
            "Setting baseline interval to [-0.01, 0.0] s\n",
            "Applying baseline correction (mode: mean)\n",
            "0 projection items activated\n",
            "Using data from preloaded Raw for 7020 events and 131 original time points ...\n"
          ]
        },
        {
          "name": "stderr",
          "output_type": "stream",
          "text": [
            "[Parallel(n_jobs=1)]: Done  17 tasks      | elapsed:    0.0s\n"
          ]
        },
        {
          "name": "stdout",
          "output_type": "stream",
          "text": [
            "0 bad epochs dropped\n",
            "Filtering raw data in 1 contiguous segment\n",
            "Setting up band-pass filter from 1 - 25 Hz\n",
            "\n",
            "FIR filter parameters\n",
            "---------------------\n",
            "Designing a one-pass, zero-phase, non-causal bandpass filter:\n",
            "- Windowed time-domain design (firwin) method\n",
            "- Hamming window with 0.0194 passband ripple and 53 dB stopband attenuation\n",
            "- Lower passband edge: 1.00\n",
            "- Lower transition bandwidth: 1.00 Hz (-6 dB cutoff frequency: 0.50 Hz)\n",
            "- Upper passband edge: 25.00 Hz\n",
            "- Upper transition bandwidth: 6.25 Hz (-6 dB cutoff frequency: 28.12 Hz)\n",
            "- Filter length: 1651 samples (3.302 s)\n",
            "\n",
            "7020 events found\n",
            "Event IDs: [100 101]\n",
            "Not setting metadata\n",
            "7020 matching events found\n",
            "Setting baseline interval to [-0.01, 0.0] s\n",
            "Applying baseline correction (mode: mean)\n",
            "0 projection items activated\n",
            "Using data from preloaded Raw for 7020 events and 131 original time points ...\n"
          ]
        },
        {
          "name": "stderr",
          "output_type": "stream",
          "text": [
            "[Parallel(n_jobs=1)]: Done  17 tasks      | elapsed:    0.0s\n"
          ]
        },
        {
          "name": "stdout",
          "output_type": "stream",
          "text": [
            "0 bad epochs dropped\n",
            "Filtering raw data in 1 contiguous segment\n",
            "Setting up band-pass filter from 1 - 25 Hz\n",
            "\n",
            "FIR filter parameters\n",
            "---------------------\n",
            "Designing a one-pass, zero-phase, non-causal bandpass filter:\n",
            "- Windowed time-domain design (firwin) method\n",
            "- Hamming window with 0.0194 passband ripple and 53 dB stopband attenuation\n",
            "- Lower passband edge: 1.00\n",
            "- Lower transition bandwidth: 1.00 Hz (-6 dB cutoff frequency: 0.50 Hz)\n",
            "- Upper passband edge: 25.00 Hz\n",
            "- Upper transition bandwidth: 6.25 Hz (-6 dB cutoff frequency: 28.12 Hz)\n",
            "- Filter length: 1651 samples (3.302 s)\n",
            "\n",
            "7020 events found\n",
            "Event IDs: [100 101]\n",
            "Not setting metadata\n",
            "7020 matching events found\n",
            "Setting baseline interval to [-0.01, 0.0] s\n",
            "Applying baseline correction (mode: mean)\n",
            "0 projection items activated\n",
            "Using data from preloaded Raw for 7020 events and 131 original time points ...\n"
          ]
        },
        {
          "name": "stderr",
          "output_type": "stream",
          "text": [
            "[Parallel(n_jobs=1)]: Done  17 tasks      | elapsed:    0.0s\n"
          ]
        },
        {
          "name": "stdout",
          "output_type": "stream",
          "text": [
            "0 bad epochs dropped\n"
          ]
        }
      ],
      "source": [
        "on_frame = True\n",
        "raw_data, labels,codes, labels_codes = get_BVEP_data([1,2,3,4,5,6,7,8,9,10,11,12],on_frame)\n",
        "# if on_frame:\n",
        "#     raw_data_cov = np.zeros((raw_data.shape[0],raw_data.shape[1],raw_data.shape[2],raw_data.shape[2])) \n",
        "#     for i in range(raw_data.shape[0]):\n",
        "#         raw_data_cov[i] = Euc2SPD(raw_data[i],labels[i])"
      ]
    },
    {
      "cell_type": "code",
      "execution_count": 3,
      "metadata": {},
      "outputs": [],
      "source": [
        "# X_enc, y_enc = prepare_looa_data([0,1],2,raw_data_cov,labels,2,4,on_frame,codes)\n",
        "X,Y,domain = prepare_data([1,2,3,4,5,6,7,8,9,10,11,12],raw_data,labels,on_frame,True,codes)\n",
        "X = X.reshape(-1,X.shape[-2],X.shape[-1])\n",
        "domain = domain.reshape(-1)\n",
        "Y = Y.reshape(-1)"
      ]
    },
    {
      "cell_type": "markdown",
      "metadata": {},
      "source": [
        "## RPA de Rodrigues"
      ]
    },
    {
      "cell_type": "code",
      "execution_count": 4,
      "metadata": {},
      "outputs": [],
      "source": [
        "X_enc,y_enc = encode_domains(X, Y, domain)\n",
        "X_org_parent, y_parent, domain_parent = decode_domains(X_enc, y_enc)"
      ]
    },
    {
      "cell_type": "code",
      "execution_count": 5,
      "metadata": {},
      "outputs": [
        {
          "data": {
            "text/plain": [
              "(84240,)"
            ]
          },
          "execution_count": 5,
          "metadata": {},
          "output_type": "execute_result"
        }
      ],
      "source": [
        "Y.shape"
      ]
    },
    {
      "cell_type": "code",
      "execution_count": 6,
      "metadata": {
        "collapsed": false
      },
      "outputs": [
        {
          "name": "stdout",
          "output_type": "stream",
          "text": [
            "origin\n",
            "embedding points of shape  (451, 32, 32)\n",
            "REcenter\n",
            "embedding points of shape  (451, 32, 32)\n",
            "Rotate\n",
            "embedding points of shape  (451, 32, 32)\n"
          ]
        }
      ],
      "source": [
        "# instantiate object for doing spectral embeddings\n",
        "emb = SpectralEmbedding(n_components=2, metric='riemann')\n",
        "\n",
        "# create dict to store the embedding after each step of RPA\n",
        "embedded_points = {}\n",
        "ind2take = [j for j in range(3) if j!=0]\n",
        "\n",
        "X_source_org = np.concatenate([X_org_parent[domain_parent==\"Source_sub_0\"],X_org_parent[domain_parent==\"Source_sub_1\"]]).reshape(-1,X_org_parent.shape[-2],X_org_parent.shape[-1])\n",
        "Y_source_org = np.concatenate([y_parent[domain_parent==\"Source_sub_0\"],y_parent[domain_parent==\"Source_sub_1\"]]).reshape(-1)\n",
        "domain_source = np.concatenate([domain_parent[domain_parent==\"Source_sub_0\"],domain_parent[domain_parent==\"Source_sub_1\"]]).reshape(-1)\n",
        "\n",
        "X_target_train_org, Y_target_train_org = X_org_parent[domain_parent==\"Source_sub_2\"][:int(4*(2.2-0.25)*60)],y_parent[domain_parent==\"Source_sub_2\"][:int(4*(2.2-0.25)*60)]\n",
        "domain_target_train = domain_parent[domain_parent==\"Source_sub_2\"][:int(4*(2.2-0.25)*60)]\n",
        "\n",
        "X_target_test_org, Y_target_test_org = X_org_parent[domain_parent==\"Source_sub_2\"][int(4*(2.2-0.25)*60):], y_parent[domain_parent==\"Source_sub_2\"][int(4*(2.2-0.25)*60):]\n",
        "domain_test = domain_parent[domain_parent==\"Source_sub_2\"][int(4*(2.2-0.25)*60):]\n",
        "\n",
        "X_source_org, Y_source_org, domain_source = balance(X_source_org, Y_source_org, domain_source)\n",
        "X_target_train_org, Y_target_train_org, domain_target_train = balance(X_target_train_org, Y_target_train_org, domain_target_train)\n",
        "\n",
        "source_org = {}\n",
        "source_org['covs'] = X_source_org\n",
        "source_org['labels'] = Y_source_org\n",
        "target_org_train = {}\n",
        "target_org_train['covs'] = X_target_train_org\n",
        "target_org_train['labels'] = Y_target_train_org\n",
        "target_org_test = {}\n",
        "target_org_test['covs'] = X_target_test_org\n",
        "target_org_test['labels'] = Y_target_test_org\n",
        "\n",
        "# embed the original source and target datasets\n",
        "print(\"origin\")\n",
        "points = np.concatenate([source_org['covs'][domain_source==\"Source_sub_0\"][:75],source_org['covs'][domain_source==\"Source_sub_0\"][-75:], \n",
        "                         source_org['covs'][domain_source==\"Source_sub_1\"][:75],source_org['covs'][domain_source==\"Source_sub_1\"][-75:],\n",
        "                         target_org_test['covs'][domain_test==\"Source_sub_2\"][:75],target_org_test['covs'][domain_test==\"Source_sub_2\"][-75:], np.eye(32)[None, :, :]])  # stack the identity\n",
        "print(\"embedding points of shape \",points.shape)\n",
        "embedded_points['origin'] = emb.fit_transform(points)\n",
        "\n",
        "# embed the source and target datasets after recentering\n",
        "print(\"REcenter\")\n",
        "source_rct, target_rct_train, target_rct_test = TL.RPA_recenter(source_org, target_org_train, target_org_test)\n",
        "points = np.concatenate([source_rct['covs'][domain_source==\"Source_sub_0\"][:75],source_rct['covs'][domain_source==\"Source_sub_0\"][-75:], \n",
        "                         source_rct['covs'][domain_source==\"Source_sub_1\"][:75],source_rct['covs'][domain_source==\"Source_sub_1\"][-75:],\n",
        "                         target_rct_test['covs'][domain_test==\"Source_sub_2\"][:75],target_rct_test['covs'][domain_test==\"Source_sub_2\"][-75:], np.eye(32)[None, :, :]])   # stack the identity\n",
        "print(\"embedding points of shape \",points.shape)\n",
        "embedded_points['rct'] = emb.fit_transform(points)\n",
        "\n",
        "# embed the source and target datasets after recentering\n",
        "print(\"Rotate\")\n",
        "source_rpa, target_rpa_train, target_rpa_test = TL.RPA_rotate(source_rct, target_rct_train, target_rct_test,distance=\"rie\")\n",
        "print(\"embedding points of shape \",points.shape)\n",
        "points = np.concatenate([source_org['covs'][domain_source==\"Source_sub_0\"][:75],source_org['covs'][domain_source==\"Source_sub_0\"][-75:], \n",
        "                         source_org['covs'][domain_source==\"Source_sub_1\"][:75],source_org['covs'][domain_source==\"Source_sub_1\"][-75:],\n",
        "                         target_org_test['covs'][domain_test==\"Source_sub_2\"][:75],target_org_test['covs'][domain_test==\"Source_sub_2\"][-75:],\n",
        "                         source_rct['covs'][domain_source==\"Source_sub_0\"][:75],source_rct['covs'][domain_source==\"Source_sub_0\"][-75:], \n",
        "                         source_rct['covs'][domain_source==\"Source_sub_1\"][:75],source_rct['covs'][domain_source==\"Source_sub_1\"][-75:],\n",
        "                         target_rct_test['covs'][domain_test==\"Source_sub_2\"][:75],target_rct_test['covs'][domain_test==\"Source_sub_2\"][-75:],\n",
        "                         source_rpa['covs'][domain_source==\"Source_sub_0\"][:75],source_rpa['covs'][domain_source==\"Source_sub_0\"][-75:], \n",
        "                         source_rpa['covs'][domain_source==\"Source_sub_1\"][:75],source_rpa['covs'][domain_source==\"Source_sub_1\"][-75:],\n",
        "                         target_rpa_test['covs'][domain_test==\"Source_sub_2\"][:75],target_rpa_test['covs'][domain_test==\"Source_sub_2\"][-75:],\n",
        "                          np.eye(32)[None, :, :]])\n",
        "\n"
      ]
    },
    {
      "cell_type": "code",
      "execution_count": 7,
      "metadata": {},
      "outputs": [
        {
          "data": {
            "text/plain": [
              "(6552,)"
            ]
          },
          "execution_count": 7,
          "metadata": {},
          "output_type": "execute_result"
        }
      ],
      "source": [
        "np.where(domain_test==\"Source_sub_2\")[0].shape"
      ]
    },
    {
      "cell_type": "code",
      "execution_count": 8,
      "metadata": {},
      "outputs": [
        {
          "name": "stdout",
          "output_type": "stream",
          "text": [
            "embedding points of shape  (1351, 32, 32)\n"
          ]
        }
      ],
      "source": [
        "print(\"embedding points of shape \",points.shape)\n",
        "S = emb.fit_transform(points)\n",
        "S = S - S[-1]"
      ]
    },
    {
      "cell_type": "code",
      "execution_count": null,
      "metadata": {},
      "outputs": [],
      "source": [
        "embedded_points['origin'] = S[:450]\n",
        "embedded_points['rct'] = S[450:900]\n",
        "embedded_points['rot'] = S[900:-1]"
      ]
    },
    {
      "cell_type": "code",
      "execution_count": null,
      "metadata": {},
      "outputs": [],
      "source": [
        "%matplotlib Qt\n"
      ]
    },
    {
      "cell_type": "code",
      "execution_count": null,
      "metadata": {},
      "outputs": [],
      "source": [
        "fig, ax = plt.subplots(figsize=(13.5, 4.4), ncols=3, sharey=True)\n",
        "plt.subplots_adjust(wspace=0.10)\n",
        "steps = ['origin', 'rct', 'rot']\n",
        "titles = ['original', 'after recentering', 'after rotation']\n",
        "y_new = np.concatenate([Y_source_org[domain_source==\"Source_sub_0\"][:75],Y_source_org[domain_source==\"Source_sub_0\"][-75:],\n",
        "                        Y_source_org[domain_source==\"Source_sub_1\"][:75],Y_source_org[domain_source==\"Source_sub_1\"][-75:],\n",
        "                        Y_target_test_org[domain_test==\"Source_sub_2\"][:75],Y_target_test_org[domain_test==\"Source_sub_2\"][-75:]])\n",
        "domain_new = np.concatenate([domain_source[domain_source==\"Source_sub_0\"][:75],domain_source[domain_source==\"Source_sub_0\"][-75:],\n",
        "                        domain_source[domain_source==\"Source_sub_1\"][:75],domain_source[domain_source==\"Source_sub_1\"][-75:],\n",
        "                        domain_test[domain_test==\"Source_sub_2\"][:75],domain_test[domain_test==\"Source_sub_2\"][-75:]])\n",
        "for axi, step, title in zip(ax, steps, titles):\n",
        "    S_step = embedded_points[step]\n",
        "    S_source_1 = S_step[domain_new == 'Source_sub_0']\n",
        "    y_source_1 = y_new[domain_new == 'Source_sub_0']\n",
        "    S_source_2 = S_step[domain_new == 'Source_sub_1']\n",
        "    y_source_2 = y_new[domain_new == 'Source_sub_1']\n",
        "    S_target = S_step[domain_new == 'Source_sub_2']\n",
        "    y_target = y_new[domain_new == 'Source_sub_2']\n",
        "    axi.scatter(\n",
        "        S_source_1[y_source_1 == '0'][:, 0],\n",
        "        S_source_1[y_source_1 == '0'][:, 1],\n",
        "        c='C0', s=50, alpha=0.50)\n",
        "    axi.scatter(\n",
        "        S_source_1[y_source_1 == '1'][:, 0],\n",
        "        S_source_1[y_source_1 == '1'][:, 1],\n",
        "        c='C1', s=50, alpha=0.50)\n",
        "    axi.scatter(\n",
        "        S_source_2[y_source_2 == '0'][:, 0],\n",
        "        S_source_2[y_source_2 == '0'][:, 1],\n",
        "        marker=\"+\",\n",
        "        c='C0', s=50, alpha=0.40)\n",
        "    axi.scatter(\n",
        "        S_source_2[y_source_2 == '1'][:, 0],\n",
        "        S_source_2[y_source_2 == '1'][:, 1],\n",
        "        marker=\"+\",\n",
        "        c='C1', s=50, alpha=0.40)\n",
        "    axi.scatter(\n",
        "        S_target[y_target == '0'][:, 0],\n",
        "        S_target[y_target == '0'][:, 1],\n",
        "        c='C0', s=50, alpha=0.30, marker=\"^\")\n",
        "    axi.scatter(\n",
        "        S_target[y_target == '1'][:, 0],\n",
        "        S_target[y_target == '1'][:, 1],\n",
        "        c='C1', s=50, alpha=0.30, marker=\"^\")\n",
        "    # axi.scatter(S[-1, 0], S[-1, 1], c='k', s=80, marker=\"*\")\n",
        "    # axi.set_xlim(-0.60, +1.60)\n",
        "    # axi.set_ylim(-1.10, +1.25)\n",
        "    # axi.set_xticks([-0.5, 0.0, 0.5, 1.0, 1.5])\n",
        "    # axi.set_yticks([-1.0, -0.5, 0.0, 0.5, 1.0])\n",
        "    axi.set_title(title, fontsize=14)\n",
        "ax[0].scatter([], [], c=\"C0\", label=\"source 0 - class 0\")\n",
        "ax[0].scatter([], [], c=\"C1\", label=\"source 0 - class 1\")\n",
        "ax[0].scatter([], [], c=\"C0\",marker=\"+\", label=\"source 1 - class 0\")\n",
        "ax[0].scatter([], [], c=\"C1\",marker=\"+\", label=\"source 1 - class 1\")\n",
        "ax[0].scatter([], [], marker=\"^\", c=\"C0\", label=\"target - class 0\")\n",
        "ax[0].scatter([], [], marker=\"^\", c=\"C1\", label=\"target - class 1\")\n",
        "ax[0].legend(loc=\"upper right\")\n",
        "\n",
        "plt.show()"
      ]
    },
    {
      "cell_type": "markdown",
      "metadata": {},
      "source": [
        "## With Pyrieman"
      ]
    },
    {
      "cell_type": "code",
      "execution_count": null,
      "metadata": {},
      "outputs": [],
      "source": [
        "X_enc,y_enc = encode_domains(X, Y, domain)\n",
        "X_org_parent, y_parent, domain_parent = decode_domains(X_enc, y_enc)"
      ]
    },
    {
      "cell_type": "code",
      "execution_count": 8,
      "metadata": {},
      "outputs": [
        {
          "name": "stdout",
          "output_type": "stream",
          "text": [
            "origin\n",
            "embedding points of shape  (451, 32, 32)\n",
            "REcenter\n",
            "embedding points of shape  (451, 32, 32)\n",
            "Rotate\n"
          ]
        },
        {
          "name": "stderr",
          "output_type": "stream",
          "text": [
            "c:\\Users\\s.velut\\AppData\\Local\\Programs\\Python\\Python311\\Lib\\site-packages\\pyriemann\\transfer\\_rotate.py:132: UserWarning: Convergence not reached.\n",
            "  warnings.warn('Convergence not reached.')\n"
          ]
        },
        {
          "name": "stdout",
          "output_type": "stream",
          "text": [
            "embedding points of shape  (451, 32, 32)\n"
          ]
        }
      ],
      "source": [
        "seed = 66\n",
        "\n",
        "# create source and target datasets\n",
        "# n_matrices = 50\n",
        "\n",
        "# X_enc, y_enc = make_classification_transfer(\n",
        "#     n_matrices=n_matrices,\n",
        "#     class_sep=2.0,\n",
        "#     class_disp=0.25,\n",
        "#     domain_sep=2.0,\n",
        "#     theta=np.pi/4,\n",
        "#     random_state=seed\n",
        "# )\n",
        "\n",
        "# instantiate object for doing spectral embeddings\n",
        "emb = SpectralEmbedding(n_components=2, metric='riemann')\n",
        "\n",
        "X_org, y, domain = balance(X_org_parent, y_parent, domain_parent)\n",
        "X_enc,y_enc = encode_domains(X_org, y, domain)\n",
        "\n",
        "# create dict to store the embedding after each step of RPA\n",
        "embedded_points = {}\n",
        "\n",
        "# embed the original source and target datasets\n",
        "print(\"origin\")\n",
        "points = np.concatenate([X_org[domain==\"Source_sub_0\"][:150], X_org[domain==\"Source_sub_1\"][:150], X_org[domain==\"Source_sub_2\"][:150], np.eye(32)[None, :, :]])  # stack the identity\n",
        "print(\"embedding points of shape \",points.shape)\n",
        "embedded_points['origin'] = emb.fit_transform(points)\n",
        "\n",
        "# embed the source and target datasets after recentering\n",
        "print(\"REcenter\")\n",
        "rct = TLCenter(target_domain='Source_sub_2')\n",
        "X_rct = rct.fit_transform(X_org, y_enc)\n",
        "points = np.concatenate([X_rct[domain==\"Source_sub_0\"][:150], X_rct[domain==\"Source_sub_1\"][:150], X_rct[domain==\"Source_sub_2\"][:150], np.eye(32)[None, :, :]])  # stack the identity\n",
        "print(\"embedding points of shape \",points.shape)\n",
        "embedded_points['rct'] = emb.fit_transform(points)\n",
        "\n",
        "# embed the source and target datasets after recentering\n",
        "print(\"Rotate\")\n",
        "rot = TLRotate(target_domain='Source_sub_2', metric='riemann')\n",
        "X_rot = rot.fit_transform(X_rct, y_enc)\n",
        "print(\"embedding points of shape \",points.shape)\n",
        "points = np.concatenate([X_org[domain==\"Source_sub_0\"][:150], X_org[domain==\"Source_sub_1\"][:150], X_org[domain==\"Source_sub_2\"][:150],\n",
        "                          X_rct[domain==\"Source_sub_0\"][:150], X_rct[domain==\"Source_sub_1\"][:150], X_rct[domain==\"Source_sub_2\"][:150], \n",
        "                          X_rot[domain==\"Source_sub_0\"][:150], X_rot[domain==\"Source_sub_1\"][:150], X_rot[domain==\"Source_sub_2\"][:150], np.eye(32)[None, :, :]])\n",
        "\n"
      ]
    },
    {
      "cell_type": "code",
      "execution_count": 9,
      "metadata": {},
      "outputs": [
        {
          "name": "stdout",
          "output_type": "stream",
          "text": [
            "embedding points of shape  (1351, 32, 32)\n"
          ]
        }
      ],
      "source": [
        "print(\"embedding points of shape \",points.shape)\n",
        "S = emb.fit_transform(points)\n",
        "S = S - S[-1]"
      ]
    },
    {
      "cell_type": "code",
      "execution_count": 10,
      "metadata": {},
      "outputs": [],
      "source": [
        "embedded_points['origin'] = S[:450]\n",
        "embedded_points['rct'] = S[450:900]\n",
        "embedded_points['rot'] = S[900:-1]"
      ]
    },
    {
      "cell_type": "markdown",
      "metadata": {},
      "source": [
        "Plot the results, reproducing the Figure 1 of [1]_.\n",
        "\n"
      ]
    },
    {
      "cell_type": "code",
      "execution_count": 11,
      "metadata": {},
      "outputs": [],
      "source": [
        "%matplotlib inline"
      ]
    },
    {
      "cell_type": "code",
      "execution_count": 16,
      "metadata": {
        "collapsed": false
      },
      "outputs": [
        {
          "data": {
            "image/png": "[encoded data removed]",
            "text/plain": [
              "<Figure size 1350x440 with 3 Axes>"
            ]
          },
          "metadata": {},
          "output_type": "display_data"
        }
      ],
      "source": [
        "fig, ax = plt.subplots(figsize=(13.5, 4.4), ncols=3, sharey=True)\n",
        "plt.subplots_adjust(wspace=0.10)\n",
        "steps = ['origin', 'rct', 'rot']\n",
        "titles = ['original', 'after recentering', 'after rotation']\n",
        "y_new = np.concatenate([y[domain==\"Source_sub_0\"][:150], y[domain==\"Source_sub_1\"][:150], y[domain==\"Source_sub_2\"][:150]])\n",
        "domain_new = np.concatenate([domain[domain==\"Source_sub_0\"][:150], domain[domain==\"Source_sub_1\"][:150], domain[domain==\"Source_sub_2\"][:150]])\n",
        "for axi, step, title in zip(ax, steps, titles):\n",
        "    S_step = embedded_points[step]\n",
        "    S_source_1 = S_step[domain_new == 'Source_sub_0']\n",
        "    y_source_1 = y_new[domain_new == 'Source_sub_0']\n",
        "    S_source_2 = S_step[domain_new == 'Source_sub_1']\n",
        "    y_source_2 = y_new[domain_new == 'Source_sub_1']\n",
        "    S_target = S_step[domain_new == 'Source_sub_2']\n",
        "    y_target = y_new[domain_new == 'Source_sub_2']\n",
        "    axi.scatter(\n",
        "        S_source_1[y_source_1 == '1'][:, 0],\n",
        "        S_source_1[y_source_1 == '1'][:, 1],\n",
        "        c='C0', s=50, alpha=0.50)\n",
        "    axi.scatter(\n",
        "        S_source_1[y_source_1 == '0'][:, 0],\n",
        "        S_source_1[y_source_1 == '0'][:, 1],\n",
        "        c='C1', s=50, alpha=0.50)\n",
        "    axi.scatter(\n",
        "        S_source_2[y_source_2 == '1'][:, 0],\n",
        "        S_source_2[y_source_2 == '1'][:, 1],\n",
        "        marker=\"+\",\n",
        "        c='C0', s=50, alpha=0.40)\n",
        "    axi.scatter(\n",
        "        S_source_2[y_source_2 == '0'][:, 0],\n",
        "        S_source_2[y_source_2 == '0'][:, 1],\n",
        "        marker=\"+\",\n",
        "        c='C1', s=50, alpha=0.40)\n",
        "    axi.scatter(\n",
        "        S_target[y_target == '1'][:, 0],\n",
        "        S_target[y_target == '1'][:, 1],\n",
        "        c='C0', s=50, alpha=0.30, marker=\"^\")\n",
        "    axi.scatter(\n",
        "        S_target[y_target == '0'][:, 0],\n",
        "        S_target[y_target == '0'][:, 1],\n",
        "        c='C1', s=50, alpha=0.30, marker=\"^\")\n",
        "    axi.scatter(S[-1, 0], S[-1, 1], c='k', s=80, marker=\"*\")\n",
        "    # axi.set_xlim(-0.60, +1.60)\n",
        "    # axi.set_ylim(-1.10, +1.25)\n",
        "    # axi.set_xticks([-0.5, 0.0, 0.5, 1.0, 1.5])\n",
        "    # axi.set_yticks([-1.0, -0.5, 0.0, 0.5, 1.0])\n",
        "    axi.set_title(title, fontsize=14)\n",
        "ax[0].scatter([], [], c=\"C0\", label=\"source 0 - class 0\")\n",
        "ax[0].scatter([], [], c=\"C1\", label=\"source 0 - class 1\")\n",
        "ax[0].scatter([], [], c=\"C0\",marker=\"+\", label=\"source 1 - class 0\")\n",
        "ax[0].scatter([], [], c=\"C1\",marker=\"+\", label=\"source 1 - class 1\")\n",
        "ax[0].scatter([], [], marker=\"^\", c=\"C0\", label=\"target - class 0\")\n",
        "ax[0].scatter([], [], marker=\"^\", c=\"C1\", label=\"target - class 1\")\n",
        "ax[0].legend(loc=\"upper right\")\n",
        "\n",
        "plt.show()"
      ]
    },
    {
      "cell_type": "code",
      "execution_count": null,
      "metadata": {},
      "outputs": [],
      "source": []
    }
  ],
  "metadata": {
    "kernelspec": {
      "display_name": "Python 3",
      "language": "python",
      "name": "python3"
    },
    "language_info": {
      "codemirror_mode": {
        "name": "ipython",
        "version": 3
      },
      "file_extension": ".py",
      "mimetype": "text/x-python",
      "name": "python",
      "nbconvert_exporter": "python",
      "pygments_lexer": "ipython3",
      "version": "3.11.5"
    }
  },
  "nbformat": 4,
  "nbformat_minor": 0
}
