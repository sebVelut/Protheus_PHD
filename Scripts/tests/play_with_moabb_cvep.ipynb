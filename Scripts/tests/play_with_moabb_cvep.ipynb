{
 "cells": [
  {
   "cell_type": "markdown",
   "metadata": {},
   "source": [
    "# Play with MOABB on the Thielen dataset\n",
    "\n",
    "## Do the import"
   ]
  },
  {
   "cell_type": "code",
   "execution_count": 3,
   "metadata": {},
   "outputs": [],
   "source": [
    "import warnings\n",
    "\n",
    "import matplotlib.pyplot as plt\n",
    "import numpy as np\n",
    "import pandas as pd\n",
    "import seaborn as sns\n",
    "import mne\n",
    "from mne.decoding import CSP\n",
    "from mne.decoding import Vectorizer\n",
    "from pyriemann.estimation import Xdawn, XdawnCovariances\n",
    "from pyriemann.tangentspace import TangentSpace\n",
    "from sklearn.discriminant_analysis import LinearDiscriminantAnalysis as LDA\n",
    "from sklearn.pipeline import make_pipeline\n",
    "from sklearn.svm import LinearSVC\n",
    "\n",
    "\n",
    "import moabb"
   ]
  },
  {
   "cell_type": "code",
   "execution_count": 2,
   "metadata": {},
   "outputs": [],
   "source": [
    "from moabb.datasets import Thielen2021\n",
    "from moabb.evaluations import WithinSessionEvaluation\n",
    "from moabb.paradigms import CVEP\n",
    "\n",
    "moabb.set_log_level(\"info\")\n",
    "warnings.filterwarnings(\"ignore\")\n"
   ]
  },
  {
   "cell_type": "markdown",
   "metadata": {},
   "source": [
    "## Instantiating Dataset\n",
    " ---------------------\n",
    "\n",
    " The first thing to do is to instantiate the dataset that we want to analyze.\n",
    " MOABB has a list of many different datasets, each one containing all the\n",
    " necessary information for describing them, such as the number of subjects,\n",
    " size of trials, names of classes, etc.\n",
    "\n",
    " The dataset class has methods for:\n",
    "\n",
    " - downloading its files from some online source (e.g. Zenodo)\n",
    " - importing the data from the files in whatever extension they might be\n",
    "   (like .mat, .gdf, etc.) and instantiate a Raw object from the MNE package"
   ]
  },
  {
   "cell_type": "code",
   "execution_count": 3,
   "metadata": {},
   "outputs": [
    {
     "name": "stdout",
     "output_type": "stream",
     "text": [
      "[1, 2, 3, 4, 5, 6, 7, 8, 9, 10, 11, 12, 13, 14, 15, 16, 17, 18, 19, 20, 21, 22, 23, 24, 25, 26, 27, 28, 29, 30]\n",
      "{'1.0': 101, '0.0': 100}\n"
     ]
    }
   ],
   "source": [
    "datasets = Thielen2021()\n",
    "print(datasets.subject_list)\n",
    "print(datasets.event_id)\n",
    "\n",
    "#datasets.subject_list = [1, 2, 3]\n"
   ]
  },
  {
   "cell_type": "code",
   "execution_count": 4,
   "metadata": {},
   "outputs": [
    {
     "name": "stdout",
     "output_type": "stream",
     "text": [
      "{1: {'0': {'0': <RawGDF | sub-01_20181128_block_1_main_eeg.gdf, 11 x 341479 (666.9 s), ~28.7 MB, data loaded>, '1': <RawGDF | sub-01_20181128_block_2_main_eeg.gdf, 11 x 341107 (666.2 s), ~28.6 MB, data loaded>, '2': <RawGDF | sub-01_20181128_block_3_main_eeg.gdf, 11 x 341105 (666.2 s), ~28.6 MB, data loaded>, '3': <RawGDF | sub-01_20181128_block_4_main_eeg.gdf, 11 x 341018 (666.0 s), ~28.6 MB, data loaded>, '4': <RawGDF | sub-01_20181128_block_5_main_eeg.gdf, 11 x 340901 (665.8 s), ~28.6 MB, data loaded>}}}\n",
      "<RawGDF | sub-01_20181128_block_5_main_eeg.gdf, 11 x 340901 (665.8 s), ~28.6 MB, data loaded>\n"
     ]
    }
   ],
   "source": [
    "sessions = datasets.get_data(subjects=[1])\n",
    "\n",
    "print(sessions)\n",
    "\n",
    "subject = 1\n",
    "session_name = \"0\"\n",
    "run_name = \"4\"\n",
    "raw = sessions[subject][session_name][run_name]\n",
    "\n",
    "\n",
    "print(raw)\n"
   ]
  },
  {
   "cell_type": "code",
   "execution_count": 5,
   "metadata": {},
   "outputs": [
    {
     "name": "stdout",
     "output_type": "stream",
     "text": [
      "[[  5477      0    200]\n",
      " [  5477      0    257]\n",
      " [  5477      0    101]\n",
      " ...\n",
      " [340540      0    100]\n",
      " [340548      0    101]\n",
      " [340558      0    257]]\n",
      "[False False  True ...  True  True False]\n",
      "<Epochs |  37800 events (good & bad), -0.300781 – 0.699219 s, baseline -0.300781 – 0 s, ~18 kB, data not loaded,\n",
      " '100': 18900\n",
      " '101': 18900>\n"
     ]
    }
   ],
   "source": [
    "events = mne.find_events(raw)\n",
    "print(events)\n",
    "\n",
    "cond = np.logical_or(events[:,2]==100, events[:,2]==101)\n",
    "print(cond)\n",
    "# print(events[np.where(cond)])\n",
    "\n",
    "epochs = mne.Epochs(raw, events[np.where(cond)], tmin=-0.3, tmax=0.7)\n",
    "print(epochs)\n"
   ]
  },
  {
   "cell_type": "code",
   "execution_count": 7,
   "metadata": {},
   "outputs": [],
   "source": [
    "# print(len(raw[1][0][0]))\n",
    "# eeg = raw[8][0][0]\n",
    "# plt.plot(np.linspace(0,len(eeg)*1/512,len(eeg)), eeg)\n",
    "# plt.show()\n",
    "\n",
    "# raw.plot()\n",
    "epochs.plot(n_epochs=1, events=True)"
   ]
  },
  {
   "cell_type": "markdown",
   "metadata": {},
   "source": [
    "## Choosing a Paradigm"
   ]
  },
  {
   "cell_type": "code",
   "execution_count": 38,
   "metadata": {},
   "outputs": [
    {
     "name": "stderr",
     "output_type": "stream",
     "text": [
      "2023-11-10 12:41:28,242 WARNING MainThread moabb.paradigms.cvep Choosing the first None classes from all possible events.\n"
     ]
    },
    {
     "name": "stdout",
     "output_type": "stream",
     "text": [
      "False\n"
     ]
    }
   ],
   "source": [
    "paradigm=CVEP()\n",
    "print(paradigm==None)"
   ]
  },
  {
   "cell_type": "code",
   "execution_count": 39,
   "metadata": {},
   "outputs": [
    {
     "name": "stdout",
     "output_type": "stream",
     "text": [
      "{'1.0': 101, '0.0': 100}\n"
     ]
    }
   ],
   "source": [
    "#X, labels, meta = paradigm.get_data(dataset=datasets, subjects=datasets.subject_list)\n",
    "print(datasets.event_id)"
   ]
  },
  {
   "cell_type": "code",
   "execution_count": 40,
   "metadata": {},
   "outputs": [],
   "source": [
    "\n",
    "pipelines = {}\n",
    "pipelines[\"RG+LDA\"]=make_pipeline(\n",
    "    XdawnCovariances(\n",
    "        nfilter=2, estimator=\"lwf\", xdawn_estimator=\"scm\"\n",
    "    ),\n",
    "    TangentSpace(),\n",
    "    LDA(solver=\"lsqr\", shrinkage=\"auto\"),\n",
    ")\n",
    "\n",
    "pipelines[\"Xdw+LDA\"] = make_pipeline(\n",
    "    Xdawn(nfilter=2, estimator=\"scm\"), Vectorizer(), LDA(solver=\"lsqr\", shrinkage=\"auto\")\n",
    ")\n",
    "pipelines[\"RG+SVC\"]=make_pipeline(\n",
    "    XdawnCovariances(\n",
    "        nfilter=2, estimator=\"lwf\", xdawn_estimator=\"scm\"\n",
    "    ),\n",
    "    TangentSpace(),\n",
    "    LinearSVC(),\n",
    ")\n"
   ]
  },
  {
   "cell_type": "code",
   "execution_count": 41,
   "metadata": {},
   "outputs": [
    {
     "name": "stderr",
     "output_type": "stream",
     "text": [
      "2023-11-10 12:41:32,969 WARNING MainThread moabb.paradigms.cvep Choosing the first None classes from all possible events.\n",
      "2023-11-10 12:41:32,972 INFO MainThread moabb.evaluations.base Processing dataset: Thielen2021\n"
     ]
    },
    {
     "name": "stdout",
     "output_type": "stream",
     "text": [
      "charging dataset\n",
      "{'1.0': 101, '0.0': 100}\n",
      "[1, 2]\n"
     ]
    },
    {
     "name": "stderr",
     "output_type": "stream",
     "text": [
      "Thielen2021-WithinSession:   0%|          | 0/2 [00:00<?, ?it/s]"
     ]
    },
    {
     "name": "stdout",
     "output_type": "stream",
     "text": [
      "No hdf5_path provided, models will not be saved.\n"
     ]
    }
   ],
   "source": [
    "paradigm = CVEP(resample=128)\n",
    "print(\"charging dataset\")\n",
    "print(datasets.event_id)\n",
    "datasets.subject_list = datasets.subject_list[:2]\n",
    "print(datasets.subject_list)\n",
    "datasets = [datasets]\n",
    "overwrite = True  # set to True if we want to overwrite cached results\n",
    "evaluation = WithinSessionEvaluation(\n",
    "    paradigm=paradigm, datasets=datasets, suffix=\"examples\", overwrite=overwrite\n",
    ")\n",
    "\n",
    "results = evaluation.process(pipelines)"
   ]
  },
  {
   "cell_type": "code",
   "execution_count": 33,
   "metadata": {},
   "outputs": [
    {
     "name": "stdout",
     "output_type": "stream",
     "text": [
      "      score        time   samples  carbon_emission subject session  channels  \\\n",
      "0  0.684788    2.255433  189000.0         0.013016       1       0         8   \n",
      "1  0.587392    2.284070  189000.0         0.013100       2       0         8   \n",
      "2  0.643889   93.592026  189000.0         0.504874       1       0         8   \n",
      "3  0.574677   85.990631  189000.0         0.479318       2       0         8   \n",
      "4  0.644460  135.943359  189000.0         0.790162       1       0         8   \n",
      "5  0.574672  128.700821  189000.0         0.750867       2       0         8   \n",
      "\n",
      "   n_sessions      dataset pipeline  \n",
      "0           1  Thielen2021  Xdw+LDA  \n",
      "1           1  Thielen2021  Xdw+LDA  \n",
      "2           1  Thielen2021   RG+LDA  \n",
      "3           1  Thielen2021   RG+LDA  \n",
      "4           1  Thielen2021   RG+SVC  \n",
      "5           1  Thielen2021   RG+SVC  \n"
     ]
    }
   ],
   "source": [
    "print(results)"
   ]
  },
  {
   "cell_type": "markdown",
   "metadata": {},
   "source": [
    "# PLot Result"
   ]
  },
  {
   "cell_type": "code",
   "execution_count": 10,
   "metadata": {},
   "outputs": [
    {
     "data": {
      "image/png": "[encoded data removed]",
      "text/plain": [
       "<Figure size 800x400 with 1 Axes>"
      ]
     },
     "metadata": {},
     "output_type": "display_data"
    }
   ],
   "source": [
    "fig, ax = plt.subplots(facecolor=\"white\", figsize=[8, 4])\n",
    "\n",
    "sns.stripplot(\n",
    "    data=results,\n",
    "    y=\"score\",\n",
    "    x=\"pipeline\",\n",
    "    ax=ax,\n",
    "    jitter=True,\n",
    "    alpha=0.5,\n",
    "    zorder=1,\n",
    "    palette=\"Set1\",\n",
    ")\n",
    "sns.pointplot(data=results, y=\"score\", x=\"pipeline\", ax=ax, palette=\"Set1\")\n",
    "\n",
    "ax.set_ylabel(\"ROC AUC\")\n",
    "ax.set_ylim(0.5, 1)\n",
    "\n",
    "plt.show()"
   ]
  },
  {
   "cell_type": "code",
   "execution_count": null,
   "metadata": {},
   "outputs": [],
   "source": []
  }
 ],
 "metadata": {
  "kernelspec": {
   "display_name": "Python 3",
   "language": "python",
   "name": "python3"
  },
  "language_info": {
   "codemirror_mode": {
    "name": "ipython",
    "version": 3
   },
   "file_extension": ".py",
   "mimetype": "text/x-python",
   "name": "python",
   "nbconvert_exporter": "python",
   "pygments_lexer": "ipython3",
   "version": "3.11.5"
  }
 },
 "nbformat": 4,
 "nbformat_minor": 2
}
