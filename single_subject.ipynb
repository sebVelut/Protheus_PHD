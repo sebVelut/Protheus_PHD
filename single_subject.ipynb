{
 "cells": [
  {
   "cell_type": "code",
   "execution_count": 1,
   "id": "6de10f24-829d-4847-b79b-7d4d282eb5ea",
   "metadata": {
    "scrolled": true
   },
   "outputs": [
    {
     "name": "stderr",
     "output_type": "stream",
     "text": [
      "2023-09-08 14:28:57.037759: I tensorflow/core/platform/cpu_feature_guard.cc:193] This TensorFlow binary is optimized with oneAPI Deep Neural Network Library (oneDNN) to use the following CPU instructions in performance-critical operations:  AVX2 FMA\n",
      "To enable them in other operations, rebuild TensorFlow with the appropriate compiler flags.\n",
      "2023-09-08 14:28:57.165406: E tensorflow/stream_executor/cuda/cuda_blas.cc:2981] Unable to register cuBLAS factory: Attempting to register factory for plugin cuBLAS when one has already been registered\n",
      "2023-09-08 14:28:57.688300: W tensorflow/stream_executor/platform/default/dso_loader.cc:64] Could not load dynamic library 'libnvinfer.so.7'; dlerror: libnvinfer.so.7: cannot open shared object file: No such file or directory\n",
      "2023-09-08 14:28:57.688411: W tensorflow/stream_executor/platform/default/dso_loader.cc:64] Could not load dynamic library 'libnvinfer_plugin.so.7'; dlerror: libnvinfer_plugin.so.7: cannot open shared object file: No such file or directory\n",
      "2023-09-08 14:28:57.688418: W tensorflow/compiler/tf2tensorrt/utils/py_utils.cc:38] TF-TRT Warning: Cannot dlopen some TensorRT libraries. If you would like to use Nvidia GPU with TensorRT, please make sure the missing libraries mentioned above are installed properly.\n"
     ]
    }
   ],
   "source": [
    "from EEG2CodeKeras import (basearchi,\n",
    "                           basearchitest_batchnorm,\n",
    "                           basearchi_patchembedding,\n",
    "                           basearchi_patchembeddingdilation,\n",
    "                           trueVanilliaEEG2Code,\n",
    "                           vanilliaEEG2Code,\n",
    "                           vanilliaEEG2Code2,\n",
    "                           EEGnet_Inception)\n",
    "from _utils import make_preds_accumul_aggresive, make_preds_pvalue\n",
    "\n",
    "\n",
    "from sklearn.model_selection import train_test_split\n",
    "from tensorflow import keras\n",
    "import mne\n",
    "import os\n",
    "\n",
    "import sys\n",
    "import numpy as np\n",
    "from imblearn.under_sampling import RandomUnderSampler\n",
    "from sklearn.metrics import accuracy_score\n",
    "np.set_printoptions(threshold=sys.maxsize)\n",
    "import matplotlib.pyplot as plt\n",
    "\n"
   ]
  },
  {
   "cell_type": "code",
   "execution_count": 2,
   "id": "2cbff77c",
   "metadata": {},
   "outputs": [
    {
     "name": "stderr",
     "output_type": "stream",
     "text": [
      "2023-09-08 14:28:59.799270: I tensorflow/stream_executor/cuda/cuda_gpu_executor.cc:980] successful NUMA node read from SysFS had negative value (-1), but there must be at least one NUMA node, so returning NUMA node zero\n",
      "2023-09-08 14:28:59.804961: I tensorflow/stream_executor/cuda/cuda_gpu_executor.cc:980] successful NUMA node read from SysFS had negative value (-1), but there must be at least one NUMA node, so returning NUMA node zero\n",
      "2023-09-08 14:28:59.805421: I tensorflow/stream_executor/cuda/cuda_gpu_executor.cc:980] successful NUMA node read from SysFS had negative value (-1), but there must be at least one NUMA node, so returning NUMA node zero\n"
     ]
    },
    {
     "data": {
      "text/plain": [
       "[PhysicalDevice(name='/physical_device:CPU:0', device_type='CPU'),\n",
       " PhysicalDevice(name='/physical_device:GPU:0', device_type='GPU')]"
      ]
     },
     "execution_count": 2,
     "metadata": {},
     "output_type": "execute_result"
    }
   ],
   "source": [
    "import tensorflow as tf\n",
    "tf.config.list_physical_devices()"
   ]
  },
  {
   "cell_type": "code",
   "execution_count": 3,
   "id": "575c7b2d",
   "metadata": {},
   "outputs": [],
   "source": [
    "fps = 60\n",
    "sfreq = 500\n"
   ]
  },
  {
   "cell_type": "markdown",
   "id": "d2e15184-3fcf-463d-89b7-97e4e6db7a95",
   "metadata": {},
   "source": [
    "## Path to the data"
   ]
  },
  {
   "cell_type": "code",
   "execution_count": 4,
   "id": "12c5a06b-e9fd-42d7-bf0c-83d8d68b707a",
   "metadata": {},
   "outputs": [],
   "source": [
    "sfreq = 500\n",
    "\n",
    "participant = 'Fred'\n",
    "# path = '/'.join(['/home/dcas/k.cabrera/Data/DRY', participant])\n",
    "# path = '/home/dcas/k.cabrera/Data/SETNOP2'\n",
    "n_class=4\n",
    "fps = 60\n",
    "window_size = 0.25\n",
    "\n",
    "# file_name = '_'.join([participant, 'mseq40.set'])\n",
    "# file_name = '_'.join([participant, 'mseq100.set'])\n",
    "# file_name = '_'.join([participant, 'burst40.set'])\n",
    "# file_name = '_'.join([participant, 'burst100.set'])\n",
    "# file_name = '/'.join([path,  participant+'_whitemseq.set'])\n",
    "file_name = '_'.join([participant, 'burst', 'oi_1.set'])\n"
   ]
  },
  {
   "cell_type": "code",
   "execution_count": 5,
   "id": "d909114c",
   "metadata": {},
   "outputs": [],
   "source": [
    "# participant = 'P3'\n",
    "# path = '/home/dcas/k.cabrera/Data/SET'\n",
    "# n_class=11\n",
    "\n",
    "\n",
    "# file_name = '_'.join([participant, 'whitemseq.set'])\n"
   ]
  },
  {
   "cell_type": "markdown",
   "id": "52f830cb-fdc0-4d83-b0e3-3107ac016368",
   "metadata": {},
   "source": [
    "#### Load channel positions"
   ]
  },
  {
   "cell_type": "markdown",
   "id": "8e3ede9c-040e-4590-94b2-577a62a9b026",
   "metadata": {
    "tags": []
   },
   "source": [
    "## Load the raw data and small pre-process\n",
    "1. Drop the ACC channels and the shitty channels near ears\n",
    "2. Average re-referencing\n",
    "4. Extract 2.2s epochs using events"
   ]
  },
  {
   "cell_type": "code",
   "execution_count": 6,
   "id": "b8df747c",
   "metadata": {},
   "outputs": [],
   "source": [
    "raw = mne.io.read_raw_eeglab(os.path.join(path, file_name), preload=True, verbose=False)"
   ]
  },
  {
   "cell_type": "code",
   "execution_count": 7,
   "id": "e02a0323-b237-4b92-b5ed-ded4930f3cca",
   "metadata": {},
   "outputs": [
    {
     "name": "stdout",
     "output_type": "stream",
     "text": [
      "['EEG 000', 'EEG 001', 'EEG 002', 'EEG 003', 'EEG 004', 'EEG 005', 'EEG 006', 'EEG 007', 'EEG 008', 'EEG 009', 'EEG 010', 'EEG 011', 'EEG 012', 'EEG 013', 'EEG 014', 'EEG 015', 'EEG 016', 'EEG 017', 'EEG 018', 'EEG 019', 'EEG 020', 'EEG 021', 'EEG 022', 'EEG 023', 'EEG 024', 'EEG 025', 'EEG 026', 'EEG 027', 'EEG 028', 'EEG 029', 'EEG 030', 'EEG 031']\n",
      "Filtering raw data in 1 contiguous segment\n",
      "Setting up band-stop filter from 50 - 50 Hz\n",
      "\n",
      "IIR filter parameters\n",
      "---------------------\n",
      "Butterworth bandstop zero-phase (two-pass forward and reverse) non-causal filter:\n",
      "- Filter order 16 (effective, after forward-backward)\n",
      "- Cutoffs at 49.90, 50.10 Hz: -6.02, -6.02 dB\n",
      "\n",
      "Channels : 32\n"
     ]
    }
   ],
   "source": [
    "\n",
    "print(raw.ch_names)\n",
    "# to_drop = [\"P9\", \"P10\", \"TP9\", \"TP10\", \"10\", \"21\"]\n",
    "# raw = raw.drop_channels([ch for ch in raw.ch_names if ch in to_drop])\n",
    "# # raw = raw.drop_channels([\"10\", \"21\"])\n",
    "# keep = [\"O1\", \"O2\", \"Oz\", \"P7\", \"P3\", \"P4\", \"P8\", \"Pz\"]\n",
    "# keep = [\"16\", \"18\", \"17\", \"15\", \"14\", \"19\", \"20\", \"13\"] # electrodes to keep\n",
    "# raw = raw.drop_channels([i for i in raw.ch_names if i not in keep])\n",
    "\n",
    "raw = raw.filter(l_freq=50.1, h_freq=49.9, method=\"iir\", verbose=True)\n",
    "# raw.resample(480, npad='auto')\n",
    "# Average re-referencing\n",
    "mne.set_eeg_reference(raw, 'average', copy=False, verbose=False)\n",
    "#raw = raw.filter(l_freq=5, h_freq=45, method=\"fir\", verbose=True)\n",
    "n_channels = len(raw.ch_names)\n",
    "print(\"Channels :\", n_channels)"
   ]
  },
  {
   "cell_type": "code",
   "execution_count": 8,
   "id": "9e70fa4b-2e51-42fe-a41a-0b7c29ea6bd6",
   "metadata": {
    "tags": []
   },
   "outputs": [
    {
     "name": "stdout",
     "output_type": "stream",
     "text": [
      "Using data from preloaded Raw for 60 events and 1101 original time points ...\n",
      "0 bad epochs dropped\n"
     ]
    }
   ],
   "source": [
    "# Strip the annotations that were script to make them easier to process\n",
    "events, event_id = mne.events_from_annotations(raw, event_id='auto', verbose=False)\n",
    "to_remove = []\n",
    "for idx in range(len(raw.annotations.description)):\n",
    "    if (('collects' in raw.annotations.description[idx]) or\n",
    "        ('iti' in raw.annotations.description[idx]) or\n",
    "        (raw.annotations.description[idx] == '[]')):\n",
    "        to_remove.append(idx)\n",
    "    else:\n",
    "        code = raw.annotations.description[idx].split('_')[0]\n",
    "        lab = raw.annotations.description[idx].split('_')[1]\n",
    "        code = code.replace('\\n', '')\n",
    "        code = code.replace('[', '')\n",
    "        code = code.replace(']', '')\n",
    "        code = code.replace(' ', '')\n",
    "        raw.annotations.description[idx] = code + '_' + lab\n",
    "\n",
    "to_remove = np.array(to_remove)\n",
    "if len(to_remove) > 0:\n",
    "    raw.annotations.delete(to_remove)\n",
    "# Get the events\n",
    "events, event_id = mne.events_from_annotations(raw, event_id='auto', verbose=False)\n",
    "shift = 0.0\n",
    "# Epoch the data following event\n",
    "epochs = mne.Epochs(raw, events, event_id=event_id, tmin=shift, \\\n",
    "            tmax=2.2+shift, baseline=(None, None), preload=False, verbose=False)\n",
    "labels = epochs.events[..., -1]\n",
    "labels -= np.min(labels)\n",
    "data = epochs.get_data()\n",
    "info_ep = epochs.info"
   ]
  },
  {
   "cell_type": "markdown",
   "id": "9dec5d54-21ce-4a3e-9974-dff0d81efe65",
   "metadata": {},
   "source": [
    "### Transform a code in `str` to a code in np.array"
   ]
  },
  {
   "cell_type": "code",
   "execution_count": 9,
   "id": "8d886a37-bc66-490c-a290-f84b2502c094",
   "metadata": {},
   "outputs": [],
   "source": [
    "def code2array(code):\n",
    "    tmp = []\n",
    "    for idx, c in enumerate(code[:-2]):\n",
    "        if c == '5' or c == '.':\n",
    "            continue\n",
    "        elif c == '0':\n",
    "            if code[idx+2] == '5':\n",
    "                tmp.append(0.5)\n",
    "            else:\n",
    "                tmp.append(0)\n",
    "        else:\n",
    "            tmp.append(1)\n",
    "    if code[-1] == '.':\n",
    "        if code[-2] == '0':\n",
    "            tmp.append(0)\n",
    "        else:\n",
    "            tmp.append(1)\n",
    "    return np.array(tmp)"
   ]
  },
  {
   "cell_type": "markdown",
   "id": "b3f02ea8-255b-4d46-9f64-8263ef253089",
   "metadata": {},
   "source": [
    "### Build a dictionnary that contains all the code in the np.array format"
   ]
  },
  {
   "cell_type": "code",
   "execution_count": 10,
   "id": "7e221464-c67a-468d-bedc-1cb4592d032a",
   "metadata": {},
   "outputs": [],
   "source": [
    "from collections import OrderedDict\n",
    "codes = OrderedDict()\n",
    "for k, v in event_id.items():\n",
    "    code = k.split('_')[0]\n",
    "    code = code.replace('.','').replace('2','')\n",
    "    idx = k.split('_')[1]\n",
    "    if 'randomslowwhite' in file_name:\n",
    "        codes[v-1] = code2array(code) \n",
    "    else:\n",
    "        codes[v-1] = np.array(list(map(int, code)))"
   ]
  },
  {
   "cell_type": "markdown",
   "id": "7f84de91-a554-4326-8c67-f1ad891597d5",
   "metadata": {},
   "source": [
    "### Define train/test split and windows size\n",
    "Here we use only the first 7 blocks as calibrition and 8 others would be used as testing"
   ]
  },
  {
   "cell_type": "code",
   "execution_count": 11,
   "metadata": {},
   "outputs": [
    {
     "data": {
      "text/plain": [
       "array([0, 0, 0, 0, 0, 0, 0, 0, 0, 0, 0, 0, 0, 0, 0, 1, 0, 0, 0, 0, 0, 0,\n",
       "       0, 0, 0, 0, 0, 0, 0, 0, 0, 0, 0, 0, 0, 1, 0, 0, 0, 0, 0, 0, 0, 0,\n",
       "       0, 0, 0, 0, 0, 0, 0, 0, 0, 0, 0, 1, 0, 0, 0, 0, 0, 0, 0, 0, 0, 0,\n",
       "       0, 0, 0, 0, 0, 0, 0, 0, 0, 0, 0, 1, 0, 0, 0, 0, 0, 0, 0, 0, 0, 0,\n",
       "       0, 0, 0, 0, 0, 0, 0, 0, 0, 1, 0, 0, 0, 0, 0, 0, 0, 0, 0, 0, 0, 0,\n",
       "       0, 0, 0, 0, 0, 0, 0, 1, 0, 0, 0, 0, 0, 0, 0, 0, 0, 0, 0, 0, 0, 0])"
      ]
     },
     "execution_count": 11,
     "metadata": {},
     "output_type": "execute_result"
    }
   ],
   "source": [
    "codes[0]"
   ]
  },
  {
   "cell_type": "code",
   "execution_count": 12,
   "id": "e12df7eb-a999-4f84-8b58-6c5503e5feea",
   "metadata": {},
   "outputs": [],
   "source": [
    "sfreq = int(epochs.info['sfreq'])\n",
    "n_samples_windows = int(window_size*sfreq)\n",
    "n_trial_per_class = int(len(data)/n_class)\n",
    "\n",
    "n_cal = 7\n",
    "\n",
    "\n",
    "data_train = data[:n_class*n_cal]\n",
    "labels_train = labels[:n_class*n_cal]\n",
    "data_test = data[n_class*n_cal:]\n",
    "labels_test = labels[n_class*n_cal:]\n"
   ]
  },
  {
   "cell_type": "markdown",
   "id": "89c34c29-78b0-4da1-ac2c-b18150cb175e",
   "metadata": {},
   "source": [
    "### Slice the epoch in windows\n",
    "The network is not processing full epochs but windows of 250ms. So each epoch is cut into window and the following code (`0` or `1`) is associated as label."
   ]
  },
  {
   "cell_type": "code",
   "execution_count": 13,
   "id": "ec58decc",
   "metadata": {},
   "outputs": [],
   "source": [
    "def to_window_old(data, labels):\n",
    "    length = int((2.2-window_size)*sfreq)\n",
    "    X = np.empty(shape=((length)*data.shape[0], n_channels, n_samples_windows))\n",
    "    y = np.empty(shape=((length)*data.shape[0]), dtype=int)\n",
    "    print(length)\n",
    "    print(n_samples_windows)\n",
    "    count = 0\n",
    "    for trial_nb, trial in enumerate(data):\n",
    "        lab = labels[trial_nb]\n",
    "        c = codes[lab]\n",
    "        code_pos = 0\n",
    "        for idx in range(length):\n",
    "            X[count] = trial[:, idx:idx+n_samples_windows]\n",
    "            if idx/sfreq >= (code_pos+1)/fps:\n",
    "                code_pos += 1 \n",
    "            y[count] = int(c[code_pos])\n",
    "            count += 1\n",
    "\n",
    "    X = np.expand_dims(X, 1)\n",
    "    X = X.astype(np.float32)\n",
    "    y = np.vstack((y,np.abs(1-y))).T\n",
    "    return X, y"
   ]
  },
  {
   "cell_type": "code",
   "execution_count": 14,
   "id": "b888b955-2c47-4dcd-b51f-438442a0d29a",
   "metadata": {},
   "outputs": [],
   "source": [
    "def to_window(data, labels, win_size, data_freq, code_freq, offset=0,\n",
    "              focus_rising=None, pre_rising=0, post_rising=0,\n",
    "              focus_falling=None, pre_falling=0, post_falling=0):\n",
    "    length = int((2.2-win_size)*data_freq)\n",
    "    X = np.empty(shape=((length)*data.shape[0], n_channels, n_samples_windows))\n",
    "    Y = np.empty(shape=((length)*data.shape[0]), dtype=int)\n",
    "    for trial_nb, trial in enumerate(data):\n",
    "        lab = labels[trial_nb]\n",
    "        c = codes[lab]\n",
    "        labels_upsampled = np.repeat(c, sfreq//code_freq)\n",
    "        labels_upsampled = np.concatenate((np.zeros(int(offset*data_freq), dtype=int), np.array(labels_upsampled)))\n",
    "        if (focus_rising is not None) or (focus_falling is not None):\n",
    "            hi_indices = []\n",
    "            low_indices = []\n",
    "            for idx in range(1, len(labels_upsampled)):\n",
    "                if (focus_rising is not None) and (labels_upsampled[idx-1] == 0) and (labels_upsampled[idx] == 1):\n",
    "                    hi_indices.append(idx)\n",
    "                elif (focus_falling is not None) and (labels_upsampled[idx-1] == 1) and (labels_upsampled[idx] == 0):\n",
    "                    low_indices.append(idx)\n",
    "            focused_labels = np.zeros(length)\n",
    "            pre_rising_frames = int(sfreq*pre_rising)\n",
    "            post_rising_frames = int(sfreq*post_rising)\n",
    "            pre_falling_frames = int(sfreq*pre_falling)\n",
    "            post_falling_frames = int(sfreq*post_falling)\n",
    "            for idx in hi_indices:\n",
    "                focused_labels[idx-pre_rising_frames:idx+post_rising_frames+1] = 1\n",
    "            for idx in low_indices:\n",
    "                focused_labels[idx-pre_falling_frames:idx+post_falling_frames+1] = 1\n",
    "        else:\n",
    "            focused_labels = labels_upsampled.copy()\n",
    "            \n",
    "        for idx in range(length):\n",
    "            # print('Xidx:', trial_nb*length+idx, \"Tidxm:\", idx, 'TidxM:', idx +\n",
    "            #       n_samples_windows, 'Ltrial', trial[:, idx:idx+n_samples_windows].shape)\n",
    "            X[trial_nb*length+idx] = trial[:, idx:idx+n_samples_windows]\n",
    "            Y[trial_nb*length+idx] = focused_labels[idx]\n",
    "    X = np.expand_dims(X, 1)\n",
    "    X = X.astype(np.float32)\n",
    "    Y = np.vstack((Y,np.abs(1-Y))).T\n",
    "    return X, Y"
   ]
  },
  {
   "cell_type": "code",
   "execution_count": 15,
   "id": "23dc6e48",
   "metadata": {},
   "outputs": [
    {
     "data": {
      "text/plain": [
       "(28, 32, 1101)"
      ]
     },
     "execution_count": 15,
     "metadata": {},
     "output_type": "execute_result"
    }
   ],
   "source": [
    "data_train.shape"
   ]
  },
  {
   "cell_type": "code",
   "execution_count": 16,
   "id": "50bfe6de",
   "metadata": {},
   "outputs": [
    {
     "name": "stdout",
     "output_type": "stream",
     "text": [
      "975\n",
      "125\n",
      "975\n",
      "125\n"
     ]
    }
   ],
   "source": [
    "window_size = 0.25\n",
    "# X, Y = to_window_old(np.array(data_train[:1]), labels_train[:1])\n",
    "# X_train, Y_train = to_window_old(data_train, labels_train)\n",
    "# X_test, Y_test = to_window_old(data_test, labels_test)\n",
    "# print(Y[:,0])\n",
    "X_train, Y_train = to_window_old(data_train, labels_train)#, 0.25, sfreq, 60)\n",
    "X_test, Y_test = to_window_old(data_test, labels_test)#, 0.25, sfreq, 60)\n",
    "# print(codes[labels_train[0]])\n",
    "# print(np.array(Y_train[:,0]))"
   ]
  },
  {
   "cell_type": "markdown",
   "id": "8e8d7b89-7b58-44f9-ab45-3b1ef1ea713e",
   "metadata": {},
   "source": [
    "### Normalization using stats from the train set"
   ]
  },
  {
   "cell_type": "code",
   "execution_count": 17,
   "id": "e2ab8195-3775-47c4-8a16-953fac6636a0",
   "metadata": {},
   "outputs": [],
   "source": [
    "X_std = X_train.std(axis=0)\n",
    "X_train /= X_std + 1e-8\n",
    "X_std = X_test.std(axis=0)\n",
    "X_test /= X_std + 1e-8"
   ]
  },
  {
   "cell_type": "markdown",
   "id": "b1e1ba06-f21d-4ecf-9cd5-8387736a4508",
   "metadata": {
    "tags": []
   },
   "source": [
    "### Balance classes\n",
    "Our classes are unbalanced, there are more `1` than `0` in the train set (the stimulation is more often ON than OFF).  \n",
    "We will use a random under sampler to make it balance."
   ]
  },
  {
   "cell_type": "code",
   "execution_count": 18,
   "id": "692240c1",
   "metadata": {},
   "outputs": [
    {
     "name": "stdout",
     "output_type": "stream",
     "text": [
      "(27300, 1, 32, 125)\n",
      "(31200, 1, 32, 125)\n",
      "(27300, 2)\n",
      "1344\n",
      "(31200, 2)\n",
      "1536\n"
     ]
    }
   ],
   "source": [
    "print(X_train.shape)\n",
    "print(X_test.shape)\n",
    "print(Y_train.shape)\n",
    "print(len(Y_train[Y_train[:, 0] == 1]))\n",
    "print(Y_test.shape)\n",
    "print(len(Y_test[Y_test[:, 0] == 1]))\n"
   ]
  },
  {
   "cell_type": "code",
   "execution_count": 19,
   "id": "44030563-1570-4eb3-b112-6b630d449e25",
   "metadata": {},
   "outputs": [],
   "source": [
    "\n",
    "rus = RandomUnderSampler()\n",
    "counter=np.array(range(0,len(Y_train))).reshape(-1,1)\n",
    "index,_ = rus.fit_resample(counter,Y_train[:,0])\n",
    "X_train = np.squeeze(X_train[index,:,:,:], axis=1)\n",
    "Y_train = np.squeeze(Y_train[index])\n",
    "rus = RandomUnderSampler()\n",
    "counter=np.array(range(0,len(Y_test))).reshape(-1,1)\n",
    "index,_ = rus.fit_resample(counter,Y_test[:,0])\n",
    "X_test = np.squeeze(X_test[index,:,:,:], axis=1)\n",
    "Y_test = np.squeeze(Y_test[index])"
   ]
  },
  {
   "cell_type": "code",
   "execution_count": 20,
   "id": "44336b40-3e06-4c69-9858-2b696853ea86",
   "metadata": {},
   "outputs": [
    {
     "name": "stdout",
     "output_type": "stream",
     "text": [
      "(2688, 1, 32, 125)\n",
      "(2688, 2)\n",
      "(3072, 1, 32, 125)\n",
      "(3072, 2)\n"
     ]
    }
   ],
   "source": [
    "print(X_train.shape)\n",
    "print(Y_train.shape)\n",
    "print(X_test.shape)\n",
    "print(Y_test.shape)\n"
   ]
  },
  {
   "cell_type": "code",
   "execution_count": 21,
   "id": "38de3569",
   "metadata": {},
   "outputs": [
    {
     "name": "stdout",
     "output_type": "stream",
     "text": [
      "1344\n",
      "1344\n",
      "1536\n",
      "1536\n"
     ]
    }
   ],
   "source": [
    "print(len(Y_train[Y_train[:,0] == 0]))\n",
    "print(len(Y_train[Y_train[:,0] == 1]))\n",
    "print(len(Y_test[Y_test[:,0] == 0]))\n",
    "print(len(Y_test[Y_test[:,0] == 1]))"
   ]
  },
  {
   "cell_type": "markdown",
   "id": "37542174-788c-4128-ae21-94cf344b15d1",
   "metadata": {},
   "source": [
    "### Pick an architecture"
   ]
  },
  {
   "cell_type": "code",
   "execution_count": 22,
   "id": "c0727580-c7d6-498a-a90c-467e07da91b5",
   "metadata": {},
   "outputs": [
    {
     "name": "stdout",
     "output_type": "stream",
     "text": [
      "Model: \"sequential\"\n",
      "_________________________________________________________________\n",
      " Layer (type)                Output Shape              Param #   \n",
      "=================================================================\n",
      " conv2d (Conv2D)             (None, 16, 1, 125)        528       \n",
      "                                                                 \n",
      " batch_normalization (BatchN  (None, 16, 1, 125)       48        \n",
      " ormalization)                                                   \n",
      "                                                                 \n",
      " max_pooling2d (MaxPooling2D  (None, 16, 1, 63)        0         \n",
      " )                                                               \n",
      "                                                                 \n",
      " dropout (Dropout)           (None, 16, 1, 63)         0         \n",
      "                                                                 \n",
      " conv2d_1 (Conv2D)           (None, 8, 1, 63)          4104      \n",
      "                                                                 \n",
      " batch_normalization_1 (Batc  (None, 8, 1, 63)         24        \n",
      " hNormalization)                                                 \n",
      "                                                                 \n",
      " leaky_re_lu_1 (LeakyReLU)   (None, 8, 1, 63)          0         \n",
      "                                                                 \n",
      " max_pooling2d_1 (MaxPooling  (None, 8, 1, 63)         0         \n",
      " 2D)                                                             \n",
      "                                                                 \n",
      " dropout_1 (Dropout)         (None, 8, 1, 63)          0         \n",
      "                                                                 \n",
      " conv2d_2 (Conv2D)           (None, 4, 1, 63)          804       \n",
      "                                                                 \n",
      " batch_normalization_2 (Batc  (None, 4, 1, 63)         12        \n",
      " hNormalization)                                                 \n",
      "                                                                 \n",
      " leaky_re_lu_2 (LeakyReLU)   (None, 4, 1, 63)          0         \n",
      "                                                                 \n",
      " max_pooling2d_2 (MaxPooling  (None, 4, 1, 32)         0         \n",
      " 2D)                                                             \n",
      "                                                                 \n",
      " dropout_2 (Dropout)         (None, 4, 1, 32)          0         \n",
      "                                                                 \n",
      " flatten (Flatten)           (None, 128)               0         \n",
      "                                                                 \n",
      " dense (Dense)               (None, 256)               33024     \n",
      "                                                                 \n",
      " leaky_re_lu_3 (LeakyReLU)   (None, 256)               0         \n",
      "                                                                 \n",
      " preds (Dense)               (None, 2)                 514       \n",
      "                                                                 \n",
      "=================================================================\n",
      "Total params: 39,058\n",
      "Trainable params: 39,002\n",
      "Non-trainable params: 56\n",
      "_________________________________________________________________\n"
     ]
    },
    {
     "name": "stderr",
     "output_type": "stream",
     "text": [
      "2023-09-08 14:29:02.022635: I tensorflow/core/platform/cpu_feature_guard.cc:193] This TensorFlow binary is optimized with oneAPI Deep Neural Network Library (oneDNN) to use the following CPU instructions in performance-critical operations:  AVX2 FMA\n",
      "To enable them in other operations, rebuild TensorFlow with the appropriate compiler flags.\n",
      "2023-09-08 14:29:02.023311: I tensorflow/stream_executor/cuda/cuda_gpu_executor.cc:980] successful NUMA node read from SysFS had negative value (-1), but there must be at least one NUMA node, so returning NUMA node zero\n",
      "2023-09-08 14:29:02.023943: I tensorflow/stream_executor/cuda/cuda_gpu_executor.cc:980] successful NUMA node read from SysFS had negative value (-1), but there must be at least one NUMA node, so returning NUMA node zero\n",
      "2023-09-08 14:29:02.024433: I tensorflow/stream_executor/cuda/cuda_gpu_executor.cc:980] successful NUMA node read from SysFS had negative value (-1), but there must be at least one NUMA node, so returning NUMA node zero\n",
      "2023-09-08 14:29:02.527103: I tensorflow/stream_executor/cuda/cuda_gpu_executor.cc:980] successful NUMA node read from SysFS had negative value (-1), but there must be at least one NUMA node, so returning NUMA node zero\n",
      "2023-09-08 14:29:02.527877: I tensorflow/stream_executor/cuda/cuda_gpu_executor.cc:980] successful NUMA node read from SysFS had negative value (-1), but there must be at least one NUMA node, so returning NUMA node zero\n",
      "2023-09-08 14:29:02.528492: I tensorflow/stream_executor/cuda/cuda_gpu_executor.cc:980] successful NUMA node read from SysFS had negative value (-1), but there must be at least one NUMA node, so returning NUMA node zero\n",
      "2023-09-08 14:29:02.528957: I tensorflow/core/common_runtime/gpu/gpu_device.cc:1616] Created device /job:localhost/replica:0/task:0/device:GPU:0 with 5804 MB memory:  -> device: 0, name: Quadro RTX 4000, pci bus id: 0000:01:00.0, compute capability: 7.5\n"
     ]
    }
   ],
   "source": [
    "#  clf = basearchi_patchembedding(windows_size = n_samples_windows, n_channel_input = n_channels) # other stim\n",
    "# clf = basearchi_patchembeddingdilation(windows_size = n_samples_windows, n_channel_input = n_channels) # burst\n",
    "# clf = vanilliaEEG2Code(windows_size = n_samples_windows, n_channel_input = n_channels) # burst\n",
    "# clf = trueVanilliaEEG2Code(windows_size = n_samples_windows, n_channel_input = n_channels) # burst\n",
    "# clf = basearchitest(windows_size = n_samples_windows, n_channel_input = n_channels)\n",
    "#c lf = basearchitest_batchnorm(windows_size = n_samples_windows, n_channel_input = n_channels)\n",
    "# clf = EEGnet_Inception(windows_size = n_samples_windows, n_channel_input = n_channels)\n",
    "clf = basearchi(windows_size = n_samples_windows, n_channel_input = n_channels)\n",
    "clf.summary()"
   ]
  },
  {
   "cell_type": "code",
   "execution_count": 23,
   "id": "e22a2512",
   "metadata": {},
   "outputs": [
    {
     "name": "stdout",
     "output_type": "stream",
     "text": [
      "(2688, 1, 32, 125)\n",
      "(2688, 2)\n",
      "(3072, 1, 32, 125)\n",
      "(3072, 2)\n"
     ]
    }
   ],
   "source": [
    "print(X_train.shape)\n",
    "print(Y_train.shape)\n",
    "print(X_test.shape)\n",
    "print(Y_test.shape)\n"
   ]
  },
  {
   "cell_type": "markdown",
   "id": "c5099b32-1a52-4758-a20b-0a2c759d9cbc",
   "metadata": {
    "tags": []
   },
   "source": [
    "### Cut the train in train and valid\n",
    "Also set some HP of the network"
   ]
  },
  {
   "cell_type": "code",
   "execution_count": 24,
   "id": "6f8a5ecf-8400-4722-86bc-317d15a2b8d1",
   "metadata": {},
   "outputs": [],
   "source": [
    "X_train, x_val, y_train, y_val = train_test_split(X_train, Y_train, test_size=0.1, random_state=42, shuffle=True)\n",
    "batchsize = 128 #128 # 64 for burst\n",
    "epochs = 45 #45 # 20 for burst"
   ]
  },
  {
   "cell_type": "markdown",
   "id": "18ad9011-e499-4c2a-9163-d968ba4d0153",
   "metadata": {},
   "source": [
    "### Attach an optimizer and train the network"
   ]
  },
  {
   "cell_type": "markdown",
   "id": "3c3bb97b",
   "metadata": {},
   "source": [
    "res_X_train=[]\n",
    "for i in range(len(X_train)):\n",
    "    res_X_train.append(np.array(X_train[i:i+1]).reshape(n_samples_windows, n_channels, 1))\n",
    "res_X_val=[]\n",
    "for i in range(len(x_val)):\n",
    "    res_X_val.append(np.array(x_val[i:i+1]).reshape(n_samples_windows, n_channels, 1))"
   ]
  },
  {
   "cell_type": "markdown",
   "id": "fde1a142",
   "metadata": {},
   "source": [
    "np.array(res_X_val).shape"
   ]
  },
  {
   "cell_type": "markdown",
   "id": "05b9861b",
   "metadata": {},
   "source": [
    "np.array(res_X_train).shape"
   ]
  },
  {
   "cell_type": "code",
   "execution_count": 25,
   "id": "29716ea1-43fe-4060-b7e2-7685be9c2804",
   "metadata": {},
   "outputs": [
    {
     "name": "stdout",
     "output_type": "stream",
     "text": [
      "Epoch 1/50\n"
     ]
    },
    {
     "name": "stderr",
     "output_type": "stream",
     "text": [
      "2023-09-08 14:29:04.156257: I tensorflow/stream_executor/cuda/cuda_dnn.cc:384] Loaded cuDNN version 8101\n"
     ]
    },
    {
     "name": "stdout",
     "output_type": "stream",
     "text": [
      "19/19 [==============================] - 2s 22ms/step - loss: 0.7325 - accuracy: 0.5502 - val_loss: 0.6905 - val_accuracy: 0.6134\n",
      "Epoch 2/50\n",
      "19/19 [==============================] - 0s 5ms/step - loss: 0.6590 - accuracy: 0.6110 - val_loss: 0.5725 - val_accuracy: 0.7286\n",
      "Epoch 3/50\n",
      "19/19 [==============================] - 0s 5ms/step - loss: 0.6036 - accuracy: 0.6829 - val_loss: 0.4972 - val_accuracy: 0.7918\n",
      "Epoch 4/50\n",
      "19/19 [==============================] - 0s 5ms/step - loss: 0.5470 - accuracy: 0.7325 - val_loss: 0.4809 - val_accuracy: 0.7881\n",
      "Epoch 5/50\n",
      "19/19 [==============================] - 0s 5ms/step - loss: 0.5209 - accuracy: 0.7499 - val_loss: 0.4575 - val_accuracy: 0.7844\n",
      "Epoch 6/50\n",
      "19/19 [==============================] - 0s 5ms/step - loss: 0.5055 - accuracy: 0.7569 - val_loss: 0.4193 - val_accuracy: 0.8104\n",
      "Epoch 7/50\n",
      "19/19 [==============================] - 0s 5ms/step - loss: 0.4573 - accuracy: 0.7879 - val_loss: 0.3918 - val_accuracy: 0.8178\n",
      "Epoch 8/50\n",
      "19/19 [==============================] - 0s 5ms/step - loss: 0.4445 - accuracy: 0.8007 - val_loss: 0.3695 - val_accuracy: 0.8364\n",
      "Epoch 9/50\n",
      "19/19 [==============================] - 0s 5ms/step - loss: 0.4407 - accuracy: 0.7954 - val_loss: 0.3709 - val_accuracy: 0.8327\n",
      "Epoch 10/50\n",
      "19/19 [==============================] - 0s 5ms/step - loss: 0.4245 - accuracy: 0.8107 - val_loss: 0.3610 - val_accuracy: 0.8290\n",
      "Epoch 11/50\n",
      "19/19 [==============================] - 0s 5ms/step - loss: 0.4474 - accuracy: 0.7995 - val_loss: 0.3604 - val_accuracy: 0.8327\n",
      "Epoch 12/50\n",
      "19/19 [==============================] - 0s 5ms/step - loss: 0.4096 - accuracy: 0.8144 - val_loss: 0.3486 - val_accuracy: 0.8364\n",
      "Epoch 13/50\n",
      "19/19 [==============================] - 0s 5ms/step - loss: 0.4135 - accuracy: 0.8239 - val_loss: 0.3367 - val_accuracy: 0.8401\n",
      "Epoch 14/50\n",
      "19/19 [==============================] - 0s 5ms/step - loss: 0.4062 - accuracy: 0.8165 - val_loss: 0.3421 - val_accuracy: 0.8216\n",
      "Epoch 15/50\n",
      "19/19 [==============================] - 0s 5ms/step - loss: 0.4047 - accuracy: 0.8227 - val_loss: 0.3277 - val_accuracy: 0.8290\n",
      "Epoch 16/50\n",
      "19/19 [==============================] - 0s 5ms/step - loss: 0.3910 - accuracy: 0.8342 - val_loss: 0.3143 - val_accuracy: 0.8476\n",
      "Epoch 17/50\n",
      "19/19 [==============================] - 0s 5ms/step - loss: 0.3780 - accuracy: 0.8342 - val_loss: 0.3177 - val_accuracy: 0.8439\n",
      "Epoch 18/50\n",
      "19/19 [==============================] - 0s 5ms/step - loss: 0.3878 - accuracy: 0.8251 - val_loss: 0.3213 - val_accuracy: 0.8476\n",
      "Epoch 19/50\n",
      "19/19 [==============================] - 0s 5ms/step - loss: 0.3799 - accuracy: 0.8384 - val_loss: 0.3029 - val_accuracy: 0.8550\n",
      "Epoch 20/50\n",
      "19/19 [==============================] - 0s 5ms/step - loss: 0.3738 - accuracy: 0.8388 - val_loss: 0.3120 - val_accuracy: 0.8550\n",
      "Epoch 21/50\n",
      "19/19 [==============================] - 0s 5ms/step - loss: 0.3714 - accuracy: 0.8359 - val_loss: 0.3050 - val_accuracy: 0.8625\n",
      "Epoch 22/50\n",
      "19/19 [==============================] - 0s 5ms/step - loss: 0.3768 - accuracy: 0.8371 - val_loss: 0.2970 - val_accuracy: 0.8587\n",
      "Epoch 23/50\n",
      "19/19 [==============================] - 0s 5ms/step - loss: 0.3785 - accuracy: 0.8413 - val_loss: 0.3013 - val_accuracy: 0.8587\n",
      "Epoch 24/50\n",
      "19/19 [==============================] - 0s 6ms/step - loss: 0.3584 - accuracy: 0.8504 - val_loss: 0.3000 - val_accuracy: 0.8662\n",
      "Epoch 25/50\n",
      "19/19 [==============================] - 0s 5ms/step - loss: 0.3654 - accuracy: 0.8280 - val_loss: 0.3086 - val_accuracy: 0.8587\n",
      "Epoch 26/50\n",
      "19/19 [==============================] - 0s 5ms/step - loss: 0.3545 - accuracy: 0.8400 - val_loss: 0.2972 - val_accuracy: 0.8625\n",
      "Epoch 27/50\n",
      "19/19 [==============================] - 0s 5ms/step - loss: 0.3566 - accuracy: 0.8491 - val_loss: 0.2887 - val_accuracy: 0.8587\n",
      "Epoch 28/50\n",
      "19/19 [==============================] - 0s 5ms/step - loss: 0.3469 - accuracy: 0.8479 - val_loss: 0.2933 - val_accuracy: 0.8625\n",
      "Epoch 29/50\n",
      "19/19 [==============================] - 0s 5ms/step - loss: 0.3544 - accuracy: 0.8454 - val_loss: 0.2850 - val_accuracy: 0.8625\n",
      "Epoch 30/50\n",
      "19/19 [==============================] - 0s 5ms/step - loss: 0.3521 - accuracy: 0.8479 - val_loss: 0.2797 - val_accuracy: 0.8699\n",
      "Epoch 31/50\n",
      "19/19 [==============================] - 0s 5ms/step - loss: 0.3434 - accuracy: 0.8599 - val_loss: 0.2842 - val_accuracy: 0.8699\n",
      "Epoch 32/50\n",
      "19/19 [==============================] - 0s 5ms/step - loss: 0.3523 - accuracy: 0.8508 - val_loss: 0.2937 - val_accuracy: 0.8513\n",
      "Epoch 33/50\n",
      "19/19 [==============================] - 0s 5ms/step - loss: 0.3358 - accuracy: 0.8586 - val_loss: 0.2939 - val_accuracy: 0.8625\n",
      "Epoch 34/50\n",
      "19/19 [==============================] - 0s 5ms/step - loss: 0.3322 - accuracy: 0.8611 - val_loss: 0.2847 - val_accuracy: 0.8625\n",
      "Epoch 35/50\n",
      "19/19 [==============================] - 0s 5ms/step - loss: 0.3263 - accuracy: 0.8652 - val_loss: 0.2945 - val_accuracy: 0.8662\n",
      "Epoch 36/50\n",
      "19/19 [==============================] - 0s 5ms/step - loss: 0.3248 - accuracy: 0.8619 - val_loss: 0.2771 - val_accuracy: 0.8625\n",
      "Epoch 37/50\n",
      "19/19 [==============================] - 0s 5ms/step - loss: 0.3387 - accuracy: 0.8636 - val_loss: 0.2740 - val_accuracy: 0.8625\n",
      "Epoch 38/50\n",
      "19/19 [==============================] - 0s 5ms/step - loss: 0.3243 - accuracy: 0.8644 - val_loss: 0.2855 - val_accuracy: 0.8550\n",
      "Epoch 39/50\n",
      "19/19 [==============================] - 0s 5ms/step - loss: 0.3260 - accuracy: 0.8723 - val_loss: 0.2862 - val_accuracy: 0.8662\n",
      "Epoch 40/50\n",
      "19/19 [==============================] - 0s 6ms/step - loss: 0.3368 - accuracy: 0.8623 - val_loss: 0.2733 - val_accuracy: 0.8848\n",
      "Epoch 41/50\n",
      "19/19 [==============================] - 0s 5ms/step - loss: 0.3230 - accuracy: 0.8632 - val_loss: 0.2693 - val_accuracy: 0.8699\n",
      "Epoch 42/50\n",
      "19/19 [==============================] - 0s 6ms/step - loss: 0.3242 - accuracy: 0.8640 - val_loss: 0.2792 - val_accuracy: 0.8810\n",
      "Epoch 43/50\n",
      "19/19 [==============================] - 0s 5ms/step - loss: 0.3251 - accuracy: 0.8599 - val_loss: 0.2822 - val_accuracy: 0.8550\n",
      "Epoch 44/50\n",
      "19/19 [==============================] - 0s 5ms/step - loss: 0.3208 - accuracy: 0.8656 - val_loss: 0.2680 - val_accuracy: 0.8773\n",
      "Epoch 45/50\n",
      "19/19 [==============================] - 0s 5ms/step - loss: 0.3279 - accuracy: 0.8623 - val_loss: 0.2551 - val_accuracy: 0.8885\n",
      "Epoch 46/50\n",
      "19/19 [==============================] - 0s 6ms/step - loss: 0.3184 - accuracy: 0.8665 - val_loss: 0.2733 - val_accuracy: 0.8699\n",
      "Epoch 47/50\n",
      "19/19 [==============================] - 0s 5ms/step - loss: 0.3153 - accuracy: 0.8706 - val_loss: 0.2627 - val_accuracy: 0.8885\n",
      "Epoch 48/50\n",
      "19/19 [==============================] - 0s 5ms/step - loss: 0.3164 - accuracy: 0.8727 - val_loss: 0.2738 - val_accuracy: 0.8587\n",
      "Epoch 49/50\n",
      "19/19 [==============================] - 0s 5ms/step - loss: 0.3194 - accuracy: 0.8661 - val_loss: 0.2701 - val_accuracy: 0.8736\n",
      "Epoch 50/50\n",
      "19/19 [==============================] - 0s 5ms/step - loss: 0.3120 - accuracy: 0.8747 - val_loss: 0.2590 - val_accuracy: 0.8810\n"
     ]
    }
   ],
   "source": [
    "lr = 1e-3\n",
    "weight_decay = 1e-4\n",
    "optimizer = keras.optimizers.Adam(learning_rate=lr, amsgrad=True)\n",
    "clf.compile(loss='binary_crossentropy',optimizer=optimizer, metrics=['accuracy'])\n",
    "history = clf.fit(np.array(X_train), y_train,\n",
    "                  batch_size=batchsize, epochs=50,\n",
    "                  validation_data=(np.array(x_val), y_val), shuffle=True)\n",
    "keras.backend.clear_session()"
   ]
  },
  {
   "cell_type": "markdown",
   "id": "8b597e6e-6eb6-4314-bfcf-a4f405d6d0f1",
   "metadata": {},
   "source": [
    "### Model and accuracy and loss\n",
    "Just check that the model learnt something"
   ]
  },
  {
   "cell_type": "code",
   "execution_count": 26,
   "id": "863a1b07-b67d-4557-9406-2cd1bde805e9",
   "metadata": {
    "tags": []
   },
   "outputs": [
    {
     "name": "stdout",
     "output_type": "stream",
     "text": [
      "\n"
     ]
    },
    {
     "data": {
      "image/png": "[encoded data removed]",
      "text/plain": [
       "<Figure size 1200x1200 with 2 Axes>"
      ]
     },
     "metadata": {},
     "output_type": "display_data"
    }
   ],
   "source": [
    "plt.figure(figsize=(12,12))\n",
    "# summarize history for accuracy\n",
    "plt.subplot(2,1,1)\n",
    "plt.plot(history.history['accuracy'])\n",
    "plt.plot(history.history['val_accuracy'])\n",
    "plt.title('model accuracy')\n",
    "plt.ylabel('accuracy')\n",
    "plt.xlabel('epoch')\n",
    "plt.legend(['train', 'test'], loc='upper left')\n",
    "# summarize history for loss\n",
    "plt.subplot(2,1,2)\n",
    "plt.plot(history.history['loss'])\n",
    "plt.plot(history.history['val_loss'])\n",
    "plt.title('model loss')\n",
    "plt.ylabel('loss')\n",
    "plt.xlabel('epoch')\n",
    "plt.legend(['train', 'test'], loc='upper left')\n",
    "print()\n"
   ]
  },
  {
   "cell_type": "markdown",
   "id": "a5c91070-aab2-451f-b011-4ad2eb23f0ca",
   "metadata": {},
   "source": [
    "filename = ''\n",
    "np.save(filename + \"std_from_calibration\", X_std)\n",
    "model_filename = os.path.join(os.getcwd(), filename + '0.7' + \"trainedmodel\")\n",
    "# Save the model if calibration was done\n",
    "clf.save(model_filename)\n",
    "keras.backend.clear_session()"
   ]
  },
  {
   "cell_type": "markdown",
   "id": "77c2ae4c-9865-42a3-bc95-45ad496308c4",
   "metadata": {},
   "source": [
    "## Vizualize learned filters\n",
    "### Raw vizualiation of 1D convolutinal kernel of the first layer --> spatial filters"
   ]
  },
  {
   "cell_type": "code",
   "execution_count": 27,
   "id": "b58fd505-5745-43ae-8ef2-cd9045e945e9",
   "metadata": {},
   "outputs": [],
   "source": [
    "# # We first visualize the learned patch embeddings.\n",
    "# patch_embeddings = clf.layers[0].get_weights()[0]\n",
    "# weights = patch_embeddings\n",
    "# # First, apply min-max normalization to the\n",
    "# # given weights to avoid isotrophic scaling.\n",
    "# p_min, p_max = weights.min(), weights.max()\n",
    "# weights = (weights - p_min) / (p_max - p_min)\n",
    "\n",
    "# # Visualize all the filters.\n",
    "# num_filters = 10\n",
    "# plt.figure(figsize=(16, 2))\n",
    "# idx = 1\n",
    "# for i in range(num_filters):\n",
    "#     current_weight = weights[:, :, :, i]\n",
    "#     if current_weight.shape[-1] == 1:\n",
    "#         current_weight = current_weight.squeeze()\n",
    "#     ax = plt.subplot(1, 10, idx)\n",
    "#     ax.set_xticks([])\n",
    "#     ax.set_yticks([])\n",
    "#     plt.plot(current_weight)\n",
    "#     idx += 1"
   ]
  },
  {
   "cell_type": "markdown",
   "id": "c4be1554-eb6d-4001-8c2d-a421db9a5841",
   "metadata": {},
   "source": [
    "### Viz of the corresponding topo maps"
   ]
  },
  {
   "cell_type": "code",
   "execution_count": 28,
   "id": "a6b89198-1321-418a-a322-6251c4d46da6",
   "metadata": {
    "tags": []
   },
   "outputs": [],
   "source": [
    "# spatialfilts = clf.get_layer(\"conv2d\").get_weights()[0]\n",
    "# spatialfilts = np.squeeze(spatialfilts)\n",
    "# spatialfilts = np.swapaxes(spatialfilts, 1, 0)"
   ]
  },
  {
   "cell_type": "markdown",
   "id": "d04ca7e0-dd11-40e9-90e6-f162e290aa06",
   "metadata": {},
   "source": [
    "### Predict on the test set\n",
    "The predictions are made on windows to regress the code.  \n",
    "Here we divide the prediction in 10 fold to avoid OOM from the GPU."
   ]
  },
  {
   "cell_type": "code",
   "execution_count": 29,
   "id": "ebc6592c",
   "metadata": {},
   "outputs": [],
   "source": [
    "keras.backend.clear_session()"
   ]
  },
  {
   "cell_type": "code",
   "execution_count": 30,
   "id": "17f599ad-7a5f-469d-9680-876e7438cf3a",
   "metadata": {},
   "outputs": [
    {
     "name": "stdout",
     "output_type": "stream",
     "text": [
      "96/96 [==============================] - 0s 1ms/step\n"
     ]
    }
   ],
   "source": [
    "keras.backend.clear_session()\n",
    "y_pred = clf.predict(X_test)[:,0]\n",
    "y_pred = np.array(y_pred)"
   ]
  },
  {
   "cell_type": "markdown",
   "id": "81aefccb",
   "metadata": {},
   "source": []
  },
  {
   "cell_type": "code",
   "execution_count": 31,
   "id": "cf375061",
   "metadata": {},
   "outputs": [],
   "source": [
    "y_pred_norm = np.array([1 if (y >= 0.5) else 0 for y in y_pred])\n",
    "y_test_norm = np.array([0 if y[0] == 0 else 1 for y in Y_test])"
   ]
  },
  {
   "cell_type": "code",
   "execution_count": 58,
   "id": "b72c1d1e",
   "metadata": {},
   "outputs": [
    {
     "ename": "ValueError",
     "evalue": "Classification metrics can't handle a mix of multilabel-indicator and continuous targets",
     "output_type": "error",
     "traceback": [
      "\u001b[0;31m---------------------------------------------------------------------------\u001b[0m",
      "\u001b[0;31mValueError\u001b[0m                                Traceback (most recent call last)",
      "Cell \u001b[0;32mIn[58], line 3\u001b[0m\n\u001b[1;32m      1\u001b[0m \u001b[39mimport\u001b[39;00m \u001b[39msklearn\u001b[39;00m\u001b[39m.\u001b[39;00m\u001b[39mmetrics\u001b[39;00m\n\u001b[1;32m      2\u001b[0m \u001b[39mimport\u001b[39;00m \u001b[39mmath\u001b[39;00m\n\u001b[0;32m----> 3\u001b[0m tn, fp, fn, tp \u001b[39m=\u001b[39m sklearn\u001b[39m.\u001b[39;49mmetrics\u001b[39m.\u001b[39;49mconfusion_matrix(Y_test, y_pred)\u001b[39m.\u001b[39mravel()\n\u001b[1;32m      4\u001b[0m \u001b[39mprint\u001b[39m(\u001b[39m\"\u001b[39m\u001b[39mTrue positives:\u001b[39m\u001b[39m\"\u001b[39m, tp)\n\u001b[1;32m      5\u001b[0m \u001b[39mprint\u001b[39m(\u001b[39m\"\u001b[39m\u001b[39mTrue negatives:\u001b[39m\u001b[39m\"\u001b[39m, tn)\n",
      "File \u001b[0;32m~/miniconda3/envs/ISAE/lib/python3.10/site-packages/sklearn/metrics/_classification.py:317\u001b[0m, in \u001b[0;36mconfusion_matrix\u001b[0;34m(y_true, y_pred, labels, sample_weight, normalize)\u001b[0m\n\u001b[1;32m    232\u001b[0m \u001b[39mdef\u001b[39;00m \u001b[39mconfusion_matrix\u001b[39m(\n\u001b[1;32m    233\u001b[0m     y_true, y_pred, \u001b[39m*\u001b[39m, labels\u001b[39m=\u001b[39m\u001b[39mNone\u001b[39;00m, sample_weight\u001b[39m=\u001b[39m\u001b[39mNone\u001b[39;00m, normalize\u001b[39m=\u001b[39m\u001b[39mNone\u001b[39;00m\n\u001b[1;32m    234\u001b[0m ):\n\u001b[1;32m    235\u001b[0m \u001b[39m    \u001b[39m\u001b[39m\"\"\"Compute confusion matrix to evaluate the accuracy of a classification.\u001b[39;00m\n\u001b[1;32m    236\u001b[0m \n\u001b[1;32m    237\u001b[0m \u001b[39m    By definition a confusion matrix :math:`C` is such that :math:`C_{i, j}`\u001b[39;00m\n\u001b[0;32m   (...)\u001b[0m\n\u001b[1;32m    315\u001b[0m \u001b[39m    (0, 2, 1, 1)\u001b[39;00m\n\u001b[1;32m    316\u001b[0m \u001b[39m    \"\"\"\u001b[39;00m\n\u001b[0;32m--> 317\u001b[0m     y_type, y_true, y_pred \u001b[39m=\u001b[39m _check_targets(y_true, y_pred)\n\u001b[1;32m    318\u001b[0m     \u001b[39mif\u001b[39;00m y_type \u001b[39mnot\u001b[39;00m \u001b[39min\u001b[39;00m (\u001b[39m\"\u001b[39m\u001b[39mbinary\u001b[39m\u001b[39m\"\u001b[39m, \u001b[39m\"\u001b[39m\u001b[39mmulticlass\u001b[39m\u001b[39m\"\u001b[39m):\n\u001b[1;32m    319\u001b[0m         \u001b[39mraise\u001b[39;00m \u001b[39mValueError\u001b[39;00m(\u001b[39m\"\u001b[39m\u001b[39m%s\u001b[39;00m\u001b[39m is not supported\u001b[39m\u001b[39m\"\u001b[39m \u001b[39m%\u001b[39m y_type)\n",
      "File \u001b[0;32m~/miniconda3/envs/ISAE/lib/python3.10/site-packages/sklearn/metrics/_classification.py:95\u001b[0m, in \u001b[0;36m_check_targets\u001b[0;34m(y_true, y_pred)\u001b[0m\n\u001b[1;32m     92\u001b[0m     y_type \u001b[39m=\u001b[39m {\u001b[39m\"\u001b[39m\u001b[39mmulticlass\u001b[39m\u001b[39m\"\u001b[39m}\n\u001b[1;32m     94\u001b[0m \u001b[39mif\u001b[39;00m \u001b[39mlen\u001b[39m(y_type) \u001b[39m>\u001b[39m \u001b[39m1\u001b[39m:\n\u001b[0;32m---> 95\u001b[0m     \u001b[39mraise\u001b[39;00m \u001b[39mValueError\u001b[39;00m(\n\u001b[1;32m     96\u001b[0m         \u001b[39m\"\u001b[39m\u001b[39mClassification metrics can\u001b[39m\u001b[39m'\u001b[39m\u001b[39mt handle a mix of \u001b[39m\u001b[39m{0}\u001b[39;00m\u001b[39m and \u001b[39m\u001b[39m{1}\u001b[39;00m\u001b[39m targets\u001b[39m\u001b[39m\"\u001b[39m\u001b[39m.\u001b[39mformat(\n\u001b[1;32m     97\u001b[0m             type_true, type_pred\n\u001b[1;32m     98\u001b[0m         )\n\u001b[1;32m     99\u001b[0m     )\n\u001b[1;32m    101\u001b[0m \u001b[39m# We can't have more than one value on y_type => The set is no more needed\u001b[39;00m\n\u001b[1;32m    102\u001b[0m y_type \u001b[39m=\u001b[39m y_type\u001b[39m.\u001b[39mpop()\n",
      "\u001b[0;31mValueError\u001b[0m: Classification metrics can't handle a mix of multilabel-indicator and continuous targets"
     ]
    }
   ],
   "source": [
    "import sklearn.metrics\n",
    "import math\n",
    "tn, fp, fn, tp = sklearn.metrics.confusion_matrix(y_test_norm, y_pred_norm).ravel()\n",
    "print(\"True positives:\", tp)\n",
    "print(\"True negatives:\", tn)\n",
    "print(\"False positives:\", fp)\n",
    "print(\"False negatives:\", fn)\n",
    "print(\"Accuracy:\", (tp+tn)/len(y_test_norm))\n",
    "print(\"Sensitivity:\", sen:=tp/(tp+fn))\n",
    "print(\"Precision:\", pre:=tp/(tp+fp))\n",
    "print(\"Fowlkes-Mallows:\", math.sqrt(sen*pre))\n"
   ]
  },
  {
   "cell_type": "markdown",
   "id": "adc6b90c-103f-4762-8d56-c820dfbf9129",
   "metadata": {},
   "source": [
    "### Convert prediction on windows (regressed code) to label prediction\n",
    "\n",
    "It is offline and synchronous, so we will:\n",
    "1. First create a `code_buffer` that contains the regressed code on the full epoch (2.2s - the last window)\n",
    "    - The refresh rate of the EEG device (500 Hz) is faster than the refress rate of the screen (60Hz), so we average predictions (500/60~8 samples) so they correspond to each flip of the screen.\n",
    "2. Starting from `min_len` (in number of samples), we compute Pearson correalation with the bank of templates code to find the closest one\n",
    "    - If the most correlated code has a significantely bigger correlation compared to the second one (50% bigger) and the p_value is significative then the trial is classified and we move to the next one\n",
    "    - If the thresholds are not reached, then we add samples (with a step of 3) to have a longer trial and re-do the computation\n",
    "    - The thresholds can never been reached in 2.2s, then the trial is not classified."
   ]
  },
  {
   "cell_type": "code",
   "execution_count": 33,
   "id": "7d4dff3c",
   "metadata": {},
   "outputs": [],
   "source": [
    "# p_best_score = 0\n",
    "# p_best_ratio = 0\n",
    "# p_best_acc = 0\n",
    "# p_best_values = ()\n",
    "\n",
    "# for p in np.logspace(0,-5, 6):\n",
    "#     for dr in np.linspace(0.2, 0.8, 7):\n",
    "#         labels_pred, _, mean_long = make_preds_pvalue(y_pred, codes, min_len=70, sfreq=sfreq, obj_p=p)\n",
    "#         ratio = len(labels_pred[labels_pred != -1])/len(labels_pred)\n",
    "#         accuracy = accuracy_score(labels_test[labels_pred != -1], labels_pred[labels_pred != -1])\n",
    "#         score = ratio*accuracy\n",
    "#         if ratio >= p_best_ratio:\n",
    "#             p_best_score = score\n",
    "#             p_best_acc = accuracy\n",
    "#             p_best_ratio = ratio\n",
    "#             p_best_values = (p, dr)\n",
    "#         print(\"==========\", p, \"+\", dr,':',ratio,'--',accuracy,'--',score, '--', np.mean(mean_long))\n",
    "# print(\"Best score\", p_best_score)\n",
    "# print(\"Best values\", p_best_values)            \n",
    "        "
   ]
  },
  {
   "cell_type": "markdown",
   "id": "d74d7e07-f107-48dd-9530-0d58f533aafd",
   "metadata": {},
   "source": [
    "### Compute accuracy score and accuracy score when a prediction is made (discard not classified trials)"
   ]
  },
  {
   "cell_type": "markdown",
   "id": "80c000d2-8ad2-4fce-8519-3197a7397513",
   "metadata": {},
   "source": [
    "### Other classification method\n",
    "Same as before but the classification method is different. Instead of thresholds to reach, if when increasing trial lengt a code correllated the most 40 times in a row then the trial is labeled."
   ]
  },
  {
   "cell_type": "code",
   "execution_count": 34,
   "id": "d8663d95",
   "metadata": {},
   "outputs": [],
   "source": [
    "# import importlib\n",
    "# importlib.reload(_utils)\n",
    "# from _utils import make_preds_accumul_aggresive, make_preds_pvalue\n",
    "\n"
   ]
  },
  {
   "cell_type": "code",
   "execution_count": 59,
   "id": "4fd82787",
   "metadata": {},
   "outputs": [
    {
     "name": "stderr",
     "output_type": "stream",
     "text": [
      "/home/dcas/k.cabrera/miniconda3/envs/ISAE/lib/python3.10/site-packages/numpy/lib/function_base.py:2853: RuntimeWarning: invalid value encountered in divide\n",
      "  c /= stddev[:, None]\n",
      "/home/dcas/k.cabrera/miniconda3/envs/ISAE/lib/python3.10/site-packages/numpy/lib/function_base.py:2854: RuntimeWarning: invalid value encountered in divide\n",
      "  c /= stddev[None, :]\n"
     ]
    },
    {
     "ename": "IndexError",
     "evalue": "boolean index did not match indexed array along dimension 0; dimension is 32 but corresponding boolean dimension is 3",
     "output_type": "error",
     "traceback": [
      "\u001b[0;31m---------------------------------------------------------------------------\u001b[0m",
      "\u001b[0;31mIndexError\u001b[0m                                Traceback (most recent call last)",
      "Cell \u001b[0;32mIn[59], line 12\u001b[0m\n\u001b[1;32m      8\u001b[0m labels_pred_accumul, _, mean_long_accumul \u001b[39m=\u001b[39m make_preds_accumul_aggresive(\n\u001b[1;32m      9\u001b[0m     y_pred_norm, codes, min_len\u001b[39m=\u001b[39m\u001b[39m30\u001b[39m, sfreq\u001b[39m=\u001b[39msfreq, consecutive\u001b[39m=\u001b[39mcons, window_size\u001b[39m=\u001b[39mwindow_size\n\u001b[1;32m     10\u001b[0m )\n\u001b[1;32m     11\u001b[0m ratio \u001b[39m=\u001b[39m np\u001b[39m.\u001b[39mround(\u001b[39mlen\u001b[39m(labels_pred_accumul[labels_pred_accumul \u001b[39m!=\u001b[39m \u001b[39m-\u001b[39m\u001b[39m1\u001b[39m])\u001b[39m/\u001b[39m\u001b[39mlen\u001b[39m(labels_pred_accumul), \u001b[39m2\u001b[39m)\n\u001b[0;32m---> 12\u001b[0m accuracy \u001b[39m=\u001b[39m np\u001b[39m.\u001b[39mround(accuracy_score(labels_test[labels_pred_accumul\u001b[39m!=\u001b[39;49m\u001b[39m-\u001b[39;49m\u001b[39m1\u001b[39;49m], labels_pred_accumul[labels_pred_accumul\u001b[39m!=\u001b[39m\u001b[39m-\u001b[39m\u001b[39m1\u001b[39m]), \u001b[39m2\u001b[39m)\n\u001b[1;32m     13\u001b[0m score \u001b[39m=\u001b[39m np\u001b[39m.\u001b[39mround(ratio\u001b[39m*\u001b[39maccuracy,\u001b[39m2\u001b[39m)\n\u001b[1;32m     14\u001b[0m \u001b[39mprint\u001b[39m(\u001b[39m\"\u001b[39m\u001b[39m==========\u001b[39m\u001b[39m\"\u001b[39m, cons, \u001b[39m'\u001b[39m\u001b[39m:\u001b[39m\u001b[39m'\u001b[39m, ratio, \u001b[39m'\u001b[39m\u001b[39m--\u001b[39m\u001b[39m'\u001b[39m, accuracy,\n\u001b[1;32m     15\u001b[0m     \u001b[39m'\u001b[39m\u001b[39m--\u001b[39m\u001b[39m'\u001b[39m, score, \u001b[39m'\u001b[39m\u001b[39m--\u001b[39m\u001b[39m'\u001b[39m, np\u001b[39m.\u001b[39mmean(mean_long_accumul))\n",
      "\u001b[0;31mIndexError\u001b[0m: boolean index did not match indexed array along dimension 0; dimension is 32 but corresponding boolean dimension is 3"
     ]
    }
   ],
   "source": [
    "acc_best_score=0\n",
    "acc_best_ratio=0\n",
    "acc_best_acc=0\n",
    "acc_best_value = 0\n",
    "# for minlen in np.linspace(10, 60, 10):\n",
    "for cons in [15, 20, 25, 30, 35, 40, 45, 50, 55, 60]:\n",
    "    \n",
    "    labels_pred_accumul, _, mean_long_accumul = make_preds_accumul_aggresive(\n",
    "        y_pred_norm, codes, min_len=30, sfreq=sfreq, consecutive=cons, window_size=window_size\n",
    "    )\n",
    "    ratio = np.round(len(labels_pred_accumul[labels_pred_accumul != -1])/len(labels_pred_accumul), 2)\n",
    "    accuracy = np.round(accuracy_score(labels_test[labels_pred_accumul!=-1], labels_pred_accumul[labels_pred_accumul!=-1]), 2)\n",
    "    score = np.round(ratio*accuracy,2)\n",
    "    print(\"==========\", cons, ':', ratio, '--', accuracy,\n",
    "        '--', score, '--', np.mean(mean_long_accumul))\n",
    "    if accuracy > acc_best_acc:\n",
    "        acc_best_score = score\n",
    "        acc_best_value = cons\n",
    "        acc_best_acc = accuracy\n",
    "        acc_best_ratio = ratio\n",
    "\n",
    "print(\"Best accuracy\", acc_best_acc)\n",
    "print(\"Best ratio\", acc_best_ratio)\n",
    "print(\"Best score\", acc_best_score)\n",
    "print(\"Best values\", acc_best_value)\n"
   ]
  },
  {
   "cell_type": "code",
   "execution_count": 37,
   "id": "814ab636",
   "metadata": {},
   "outputs": [
    {
     "ename": "IndexError",
     "evalue": "boolean index did not match indexed array along dimension 0; dimension is 32 but corresponding boolean dimension is 3",
     "output_type": "error",
     "traceback": [
      "\u001b[0;31m---------------------------------------------------------------------------\u001b[0m",
      "\u001b[0;31mIndexError\u001b[0m                                Traceback (most recent call last)",
      "Cell \u001b[0;32mIn[37], line 1\u001b[0m\n\u001b[0;32m----> 1\u001b[0m accuracy_score(labels_test[labels_pred_accumul\u001b[39m!=\u001b[39;49m\u001b[39m-\u001b[39;49m\u001b[39m1\u001b[39;49m], labels_pred_accumul[labels_pred_accumul\u001b[39m!=\u001b[39m\u001b[39m-\u001b[39m\u001b[39m1\u001b[39m])\n",
      "\u001b[0;31mIndexError\u001b[0m: boolean index did not match indexed array along dimension 0; dimension is 32 but corresponding boolean dimension is 3"
     ]
    }
   ],
   "source": [
    "accuracy_score(labels_test[labels_pred_accumul!=-1], labels_pred_accumul[labels_pred_accumul!=-1])"
   ]
  },
  {
   "cell_type": "code",
   "execution_count": 60,
   "id": "834d2fd0",
   "metadata": {},
   "outputs": [
    {
     "name": "stderr",
     "output_type": "stream",
     "text": [
      "/home/dcas/k.cabrera/miniconda3/envs/ISAE/lib/python3.10/site-packages/numpy/lib/function_base.py:2853: RuntimeWarning: invalid value encountered in divide\n",
      "  c /= stddev[:, None]\n",
      "/home/dcas/k.cabrera/miniconda3/envs/ISAE/lib/python3.10/site-packages/numpy/lib/function_base.py:2854: RuntimeWarning: invalid value encountered in divide\n",
      "  c /= stddev[None, :]\n"
     ]
    }
   ],
   "source": [
    "labels_pred_accumul, aaaaa, mean_long_accumul = make_preds_accumul_aggresive(\n",
    "        y_pred_norm, codes, min_len=30, sfreq=sfreq, consecutive=15, window_size=window_size\n",
    "    )"
   ]
  },
  {
   "cell_type": "code",
   "execution_count": 61,
   "id": "1f451353",
   "metadata": {},
   "outputs": [
    {
     "data": {
      "text/plain": [
       "3"
      ]
     },
     "execution_count": 61,
     "metadata": {},
     "output_type": "execute_result"
    }
   ],
   "source": [
    "len(labels_pred_accumul)\n"
   ]
  },
  {
   "cell_type": "code",
   "execution_count": 62,
   "id": "0eb4b0f7",
   "metadata": {},
   "outputs": [
    {
     "data": {
      "text/plain": [
       "OrderedDict([(0,\n",
       "              array([0, 0, 0, 0, 0, 0, 0, 0, 0, 0, 0, 0, 0, 0, 0, 1, 0, 0, 0, 0, 0, 0,\n",
       "                     0, 0, 0, 0, 0, 0, 0, 0, 0, 0, 0, 0, 0, 1, 0, 0, 0, 0, 0, 0, 0, 0,\n",
       "                     0, 0, 0, 0, 0, 0, 0, 0, 0, 0, 0, 1, 0, 0, 0, 0, 0, 0, 0, 0, 0, 0,\n",
       "                     0, 0, 0, 0, 0, 0, 0, 0, 0, 0, 0, 1, 0, 0, 0, 0, 0, 0, 0, 0, 0, 0,\n",
       "                     0, 0, 0, 0, 0, 0, 0, 0, 0, 1, 0, 0, 0, 0, 0, 0, 0, 0, 0, 0, 0, 0,\n",
       "                     0, 0, 0, 0, 0, 0, 0, 1, 0, 0, 0, 0, 0, 0, 0, 0, 0, 0, 0, 0, 0, 0])),\n",
       "             (1,\n",
       "              array([0, 0, 0, 0, 0, 0, 0, 0, 0, 0, 1, 0, 0, 0, 0, 0, 0, 0, 0, 0, 0, 0,\n",
       "                     0, 0, 0, 0, 0, 0, 0, 0, 1, 0, 0, 0, 0, 0, 0, 0, 0, 0, 0, 0, 0, 0,\n",
       "                     0, 0, 0, 0, 0, 0, 1, 0, 0, 0, 0, 0, 0, 0, 0, 0, 0, 0, 0, 0, 0, 0,\n",
       "                     0, 0, 0, 0, 0, 0, 1, 0, 0, 0, 0, 0, 0, 0, 0, 0, 0, 0, 0, 0, 0, 0,\n",
       "                     0, 0, 0, 0, 1, 0, 0, 0, 0, 0, 0, 0, 0, 0, 0, 0, 0, 0, 0, 0, 0, 0,\n",
       "                     0, 0, 1, 0, 0, 0, 0, 0, 0, 0, 0, 0, 0, 0, 0, 0, 0, 0, 0, 0, 0, 0])),\n",
       "             (2,\n",
       "              array([0, 0, 0, 0, 0, 1, 0, 0, 0, 0, 0, 0, 0, 0, 0, 0, 0, 0, 0, 0, 0, 0,\n",
       "                     0, 0, 0, 1, 0, 0, 0, 0, 0, 0, 0, 0, 0, 0, 0, 0, 0, 0, 0, 0, 0, 0,\n",
       "                     0, 1, 0, 0, 0, 0, 0, 0, 0, 0, 0, 0, 0, 0, 0, 0, 0, 0, 0, 0, 0, 1,\n",
       "                     0, 0, 0, 0, 0, 0, 0, 0, 0, 0, 0, 0, 0, 0, 0, 0, 0, 0, 0, 0, 0, 1,\n",
       "                     0, 0, 0, 0, 0, 0, 0, 0, 0, 0, 0, 0, 0, 0, 0, 0, 0, 0, 0, 1, 0, 0,\n",
       "                     0, 0, 0, 0, 0, 0, 0, 0, 0, 0, 0, 0, 0, 0, 0, 0, 0, 1, 0, 0, 0, 0])),\n",
       "             (3,\n",
       "              array([1, 0, 0, 0, 0, 0, 0, 0, 0, 0, 0, 0, 0, 0, 0, 0, 0, 0, 0, 0, 1, 0,\n",
       "                     0, 0, 0, 0, 0, 0, 0, 0, 0, 0, 0, 0, 0, 0, 0, 0, 0, 0, 1, 0, 0, 0,\n",
       "                     0, 0, 0, 0, 0, 0, 0, 0, 0, 0, 0, 0, 0, 0, 0, 0, 1, 0, 0, 0, 0, 0,\n",
       "                     0, 0, 0, 0, 0, 0, 0, 0, 0, 0, 0, 0, 0, 0, 0, 0, 1, 0, 0, 0, 0, 0,\n",
       "                     0, 0, 0, 0, 0, 0, 0, 0, 0, 0, 0, 0, 0, 0, 1, 0, 0, 0, 0, 0, 0, 0,\n",
       "                     0, 0, 0, 0, 0, 0, 0, 0, 0, 0, 0, 0, 1, 0, 0, 0, 0, 0, 0, 0, 0, 0]))])"
      ]
     },
     "execution_count": 62,
     "metadata": {},
     "output_type": "execute_result"
    }
   ],
   "source": [
    "codes"
   ]
  },
  {
   "cell_type": "code",
   "execution_count": null,
   "id": "f5269678",
   "metadata": {},
   "outputs": [],
   "source": []
  }
 ],
 "metadata": {
  "kernelspec": {
   "display_name": "Python 3 (ipykernel)",
   "language": "python",
   "name": "python3"
  },
  "language_info": {
   "codemirror_mode": {
    "name": "ipython",
    "version": 3
   },
   "file_extension": ".py",
   "mimetype": "text/x-python",
   "name": "python",
   "nbconvert_exporter": "python",
   "pygments_lexer": "ipython3",
   "version": "3.10.9"
  }
 },
 "nbformat": 4,
 "nbformat_minor": 5
}
