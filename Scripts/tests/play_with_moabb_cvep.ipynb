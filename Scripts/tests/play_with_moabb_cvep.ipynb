{
 "cells": [
  {
   "cell_type": "markdown",
   "metadata": {},
   "source": [
    "# Play with MOABB on the Thielen dataset\n",
    "\n",
    "## Do the import"
   ]
  },
  {
   "cell_type": "code",
   "execution_count": 51,
   "metadata": {},
   "outputs": [],
   "source": [
    "import warnings\n",
    "\n",
    "import matplotlib.pyplot as plt\n",
    "import numpy as np\n",
    "import pandas as pd\n",
    "import seaborn as sns\n",
    "from mne.decoding import CSP\n",
    "from mne.decoding import Vectorizer\n",
    "from pyriemann.estimation import Xdawn, XdawnCovariances\n",
    "from pyriemann.tangentspace import TangentSpace\n",
    "from sklearn.discriminant_analysis import LinearDiscriminantAnalysis as LDA\n",
    "from sklearn.pipeline import make_pipeline\n",
    "from sklearn.svm import SVC\n",
    "\n",
    "\n",
    "import moabb"
   ]
  },
  {
   "cell_type": "code",
   "execution_count": 52,
   "metadata": {},
   "outputs": [],
   "source": [
    "from moabb.datasets import Thielen2021\n",
    "from moabb.evaluations import WithinSessionEvaluation\n",
    "from moabb.paradigms import CVEP\n",
    "\n",
    "moabb.set_log_level(\"info\")\n",
    "warnings.filterwarnings(\"ignore\")"
   ]
  },
  {
   "cell_type": "markdown",
   "metadata": {},
   "source": [
    "## Instantiating Dataset\n",
    " ---------------------\n",
    "\n",
    " The first thing to do is to instantiate the dataset that we want to analyze.\n",
    " MOABB has a list of many different datasets, each one containing all the\n",
    " necessary information for describing them, such as the number of subjects,\n",
    " size of trials, names of classes, etc.\n",
    "\n",
    " The dataset class has methods for:\n",
    "\n",
    " - downloading its files from some online source (e.g. Zenodo)\n",
    " - importing the data from the files in whatever extension they might be\n",
    "   (like .mat, .gdf, etc.) and instantiate a Raw object from the MNE package"
   ]
  },
  {
   "cell_type": "code",
   "execution_count": 53,
   "metadata": {},
   "outputs": [
    {
     "name": "stdout",
     "output_type": "stream",
     "text": [
      "[1, 2, 3, 4, 5, 6, 7, 8, 9, 10, 11, 12, 13, 14, 15, 16, 17, 18, 19, 20, 21, 22, 23, 24, 25, 26, 27, 28, 29, 30]\n",
      "{'1.0': 101, '0.0': 100}\n"
     ]
    }
   ],
   "source": [
    "datasets = Thielen2021()\n",
    "print(datasets.subject_list)\n",
    "print(datasets.event_id)\n",
    "\n",
    "#datasets.subject_list = [1, 2, 3]\n"
   ]
  },
  {
   "cell_type": "code",
   "execution_count": 54,
   "metadata": {},
   "outputs": [
    {
     "name": "stdout",
     "output_type": "stream",
     "text": [
      "{1: {'0': {'0': <RawGDF | sub-01_20181128_block_1_main_eeg.gdf, 11 x 341479 (666.9 s), ~28.7 MB, data loaded>, '1': <RawGDF | sub-01_20181128_block_2_main_eeg.gdf, 11 x 341107 (666.2 s), ~28.6 MB, data loaded>, '2': <RawGDF | sub-01_20181128_block_3_main_eeg.gdf, 11 x 341105 (666.2 s), ~28.6 MB, data loaded>, '3': <RawGDF | sub-01_20181128_block_4_main_eeg.gdf, 11 x 341018 (666.0 s), ~28.6 MB, data loaded>, '4': <RawGDF | sub-01_20181128_block_5_main_eeg.gdf, 11 x 340901 (665.8 s), ~28.6 MB, data loaded>}}}\n",
      "<RawGDF | sub-01_20181128_block_5_main_eeg.gdf, 11 x 340901 (665.8 s), ~28.6 MB, data loaded>\n"
     ]
    }
   ],
   "source": [
    "sessions = datasets.get_data(subjects=[1])\n",
    "\n",
    "print(sessions)\n",
    "\n",
    "subject = 1\n",
    "session_name = \"0\"\n",
    "run_name = \"4\"\n",
    "raw = sessions[subject][session_name][run_name]\n",
    "\n",
    "print(raw)\n"
   ]
  },
  {
   "cell_type": "code",
   "execution_count": 55,
   "metadata": {},
   "outputs": [
    {
     "name": "stdout",
     "output_type": "stream",
     "text": [
      "340901\n"
     ]
    },
    {
     "data": {
      "image/png": "[encoded data removed]",
      "text/plain": [
       "<Figure size 640x480 with 1 Axes>"
      ]
     },
     "metadata": {},
     "output_type": "display_data"
    }
   ],
   "source": [
    "print(len(raw[1][0][0]))\n",
    "eeg = raw[8][0][0]\n",
    "plt.plot(np.linspace(0,len(eeg)*1/512,len(eeg)), eeg)\n",
    "plt.show()"
   ]
  },
  {
   "cell_type": "markdown",
   "metadata": {},
   "source": [
    "## Choosing a Paradigm"
   ]
  },
  {
   "cell_type": "code",
   "execution_count": 56,
   "metadata": {},
   "outputs": [
    {
     "name": "stderr",
     "output_type": "stream",
     "text": [
      "2023-11-09 17:14:02,533 WARNING MainThread moabb.paradigms.cvep Choosing the first None classes from all possible events.\n"
     ]
    },
    {
     "name": "stdout",
     "output_type": "stream",
     "text": [
      "False\n"
     ]
    }
   ],
   "source": [
    "paradigm=CVEP()\n",
    "print(paradigm==None)"
   ]
  },
  {
   "cell_type": "code",
   "execution_count": 57,
   "metadata": {},
   "outputs": [
    {
     "name": "stdout",
     "output_type": "stream",
     "text": [
      "{'1.0': 101, '0.0': 100}\n"
     ]
    }
   ],
   "source": [
    "#X, labels, meta = paradigm.get_data(dataset=datasets, subjects=datasets.subject_list)\n",
    "print(datasets.event_id)"
   ]
  },
  {
   "cell_type": "code",
   "execution_count": 58,
   "metadata": {},
   "outputs": [],
   "source": [
    "\n",
    "pipelines = {}\n",
    "pipelines[\"RG+LDA\"]=make_pipeline(\n",
    "    XdawnCovariances(\n",
    "        nfilter=2, estimator=\"lwf\", xdawn_estimator=\"scm\"\n",
    "    ),\n",
    "    TangentSpace(),\n",
    "    LDA(solver=\"lsqr\", shrinkage=\"auto\"),\n",
    ")\n",
    "\n",
    "pipelines[\"Xdw+LDA\"] = make_pipeline(\n",
    "    Xdawn(nfilter=2, estimator=\"scm\"), Vectorizer(), LDA(solver=\"lsqr\", shrinkage=\"auto\")\n",
    ")\n",
    "pipelines[\"RG+SVC\"]=make_pipeline(\n",
    "    XdawnCovariances(\n",
    "        nfilter=2, estimator=\"lwf\", xdawn_estimator=\"scm\"\n",
    "    ),\n",
    "    TangentSpace(),\n",
    "    SVC(),\n",
    ")\n"
   ]
  },
  {
   "cell_type": "code",
   "execution_count": 59,
   "metadata": {},
   "outputs": [
    {
     "name": "stderr",
     "output_type": "stream",
     "text": [
      "2023-11-09 17:14:04,303 WARNING MainThread moabb.paradigms.cvep Choosing the first None classes from all possible events.\n",
      "2023-11-09 17:14:04,352 INFO MainThread moabb.evaluations.base Processing dataset: Thielen2021\n"
     ]
    },
    {
     "name": "stdout",
     "output_type": "stream",
     "text": [
      "charging dataset\n",
      "{'1.0': 101, '0.0': 100}\n",
      "[1, 2]\n"
     ]
    },
    {
     "name": "stderr",
     "output_type": "stream",
     "text": [
      "Thielen2021-WithinSession:   0%|          | 0/2 [00:00<?, ?it/s]"
     ]
    },
    {
     "name": "stdout",
     "output_type": "stream",
     "text": [
      "No hdf5_path provided, models will not be saved.\n"
     ]
    },
    {
     "name": "stderr",
     "output_type": "stream",
     "text": [
      "2023-11-09 17:26:25,071 INFO MainThread moabb.evaluations.base RG+LDA | Thielen2021 | 1 | 0: Score 0.647\n"
     ]
    },
    {
     "name": "stdout",
     "output_type": "stream",
     "text": [
      "No hdf5_path provided, models will not be saved.\n"
     ]
    },
    {
     "name": "stderr",
     "output_type": "stream",
     "text": [
      "2023-11-09 17:26:39,819 INFO MainThread moabb.evaluations.base Xdw+LDA | Thielen2021 | 1 | 0: Score 0.684\n"
     ]
    },
    {
     "name": "stdout",
     "output_type": "stream",
     "text": [
      "No hdf5_path provided, models will not be saved.\n"
     ]
    }
   ],
   "source": [
    "paradigm = CVEP(resample=128)\n",
    "print(\"charging dataset\")\n",
    "print(datasets.event_id)\n",
    "datasets.subject_list = datasets.subject_list[:2]\n",
    "print(datasets.subject_list)\n",
    "datasets = [datasets]\n",
    "overwrite = True  # set to True if we want to overwrite cached results\n",
    "evaluation = WithinSessionEvaluation(\n",
    "    paradigm=paradigm, datasets=datasets, suffix=\"examples\", overwrite=overwrite\n",
    ")\n",
    "\n",
    "results = evaluation.process(pipelines)"
   ]
  },
  {
   "cell_type": "markdown",
   "metadata": {},
   "source": [
    "# PLot Result"
   ]
  },
  {
   "cell_type": "code",
   "execution_count": null,
   "metadata": {},
   "outputs": [
    {
     "ename": "NameError",
     "evalue": "name 'results' is not defined",
     "output_type": "error",
     "traceback": [
      "\u001b[1;31m---------------------------------------------------------------------------\u001b[0m",
      "\u001b[1;31mNameError\u001b[0m                                 Traceback (most recent call last)",
      "\u001b[1;32mc:\\Users\\Ameli\\Documents\\Thèse\\Scripts\\tests\\play_with_moabb_cvep.ipynb Cell 14\u001b[0m line \u001b[0;36m4\n\u001b[0;32m      <a href='vscode-notebook-cell:/c%3A/Users/Ameli/Documents/Th%C3%A8se/Scripts/tests/play_with_moabb_cvep.ipynb#X22sZmlsZQ%3D%3D?line=0'>1</a>\u001b[0m fig, ax \u001b[39m=\u001b[39m plt\u001b[39m.\u001b[39msubplots(facecolor\u001b[39m=\u001b[39m\u001b[39m\"\u001b[39m\u001b[39mwhite\u001b[39m\u001b[39m\"\u001b[39m, figsize\u001b[39m=\u001b[39m[\u001b[39m8\u001b[39m, \u001b[39m4\u001b[39m])\n\u001b[0;32m      <a href='vscode-notebook-cell:/c%3A/Users/Ameli/Documents/Th%C3%A8se/Scripts/tests/play_with_moabb_cvep.ipynb#X22sZmlsZQ%3D%3D?line=2'>3</a>\u001b[0m sns\u001b[39m.\u001b[39mstripplot(\n\u001b[1;32m----> <a href='vscode-notebook-cell:/c%3A/Users/Ameli/Documents/Th%C3%A8se/Scripts/tests/play_with_moabb_cvep.ipynb#X22sZmlsZQ%3D%3D?line=3'>4</a>\u001b[0m     data\u001b[39m=\u001b[39mresults,\n\u001b[0;32m      <a href='vscode-notebook-cell:/c%3A/Users/Ameli/Documents/Th%C3%A8se/Scripts/tests/play_with_moabb_cvep.ipynb#X22sZmlsZQ%3D%3D?line=4'>5</a>\u001b[0m     y\u001b[39m=\u001b[39m\u001b[39m\"\u001b[39m\u001b[39mscore\u001b[39m\u001b[39m\"\u001b[39m,\n\u001b[0;32m      <a href='vscode-notebook-cell:/c%3A/Users/Ameli/Documents/Th%C3%A8se/Scripts/tests/play_with_moabb_cvep.ipynb#X22sZmlsZQ%3D%3D?line=5'>6</a>\u001b[0m     x\u001b[39m=\u001b[39m\u001b[39m\"\u001b[39m\u001b[39mpipeline\u001b[39m\u001b[39m\"\u001b[39m,\n\u001b[0;32m      <a href='vscode-notebook-cell:/c%3A/Users/Ameli/Documents/Th%C3%A8se/Scripts/tests/play_with_moabb_cvep.ipynb#X22sZmlsZQ%3D%3D?line=6'>7</a>\u001b[0m     ax\u001b[39m=\u001b[39max,\n\u001b[0;32m      <a href='vscode-notebook-cell:/c%3A/Users/Ameli/Documents/Th%C3%A8se/Scripts/tests/play_with_moabb_cvep.ipynb#X22sZmlsZQ%3D%3D?line=7'>8</a>\u001b[0m     jitter\u001b[39m=\u001b[39m\u001b[39mTrue\u001b[39;00m,\n\u001b[0;32m      <a href='vscode-notebook-cell:/c%3A/Users/Ameli/Documents/Th%C3%A8se/Scripts/tests/play_with_moabb_cvep.ipynb#X22sZmlsZQ%3D%3D?line=8'>9</a>\u001b[0m     alpha\u001b[39m=\u001b[39m\u001b[39m0.5\u001b[39m,\n\u001b[0;32m     <a href='vscode-notebook-cell:/c%3A/Users/Ameli/Documents/Th%C3%A8se/Scripts/tests/play_with_moabb_cvep.ipynb#X22sZmlsZQ%3D%3D?line=9'>10</a>\u001b[0m     zorder\u001b[39m=\u001b[39m\u001b[39m1\u001b[39m,\n\u001b[0;32m     <a href='vscode-notebook-cell:/c%3A/Users/Ameli/Documents/Th%C3%A8se/Scripts/tests/play_with_moabb_cvep.ipynb#X22sZmlsZQ%3D%3D?line=10'>11</a>\u001b[0m     palette\u001b[39m=\u001b[39m\u001b[39m\"\u001b[39m\u001b[39mSet1\u001b[39m\u001b[39m\"\u001b[39m,\n\u001b[0;32m     <a href='vscode-notebook-cell:/c%3A/Users/Ameli/Documents/Th%C3%A8se/Scripts/tests/play_with_moabb_cvep.ipynb#X22sZmlsZQ%3D%3D?line=11'>12</a>\u001b[0m )\n\u001b[0;32m     <a href='vscode-notebook-cell:/c%3A/Users/Ameli/Documents/Th%C3%A8se/Scripts/tests/play_with_moabb_cvep.ipynb#X22sZmlsZQ%3D%3D?line=12'>13</a>\u001b[0m sns\u001b[39m.\u001b[39mpointplot(data\u001b[39m=\u001b[39mresults, y\u001b[39m=\u001b[39m\u001b[39m\"\u001b[39m\u001b[39mscore\u001b[39m\u001b[39m\"\u001b[39m, x\u001b[39m=\u001b[39m\u001b[39m\"\u001b[39m\u001b[39mpipeline\u001b[39m\u001b[39m\"\u001b[39m, ax\u001b[39m=\u001b[39max, palette\u001b[39m=\u001b[39m\u001b[39m\"\u001b[39m\u001b[39mSet1\u001b[39m\u001b[39m\"\u001b[39m)\n\u001b[0;32m     <a href='vscode-notebook-cell:/c%3A/Users/Ameli/Documents/Th%C3%A8se/Scripts/tests/play_with_moabb_cvep.ipynb#X22sZmlsZQ%3D%3D?line=14'>15</a>\u001b[0m ax\u001b[39m.\u001b[39mset_ylabel(\u001b[39m\"\u001b[39m\u001b[39mROC AUC\u001b[39m\u001b[39m\"\u001b[39m)\n",
      "\u001b[1;31mNameError\u001b[0m: name 'results' is not defined"
     ]
    },
    {
     "data": {
      "image/png": "[encoded data removed]",
      "text/plain": [
       "<Figure size 800x400 with 1 Axes>"
      ]
     },
     "metadata": {},
     "output_type": "display_data"
    }
   ],
   "source": [
    "fig, ax = plt.subplots(facecolor=\"white\", figsize=[8, 4])\n",
    "\n",
    "sns.stripplot(\n",
    "    data=results,\n",
    "    y=\"score\",\n",
    "    x=\"pipeline\",\n",
    "    ax=ax,\n",
    "    jitter=True,\n",
    "    alpha=0.5,\n",
    "    zorder=1,\n",
    "    palette=\"Set1\",\n",
    ")\n",
    "sns.pointplot(data=results, y=\"score\", x=\"pipeline\", ax=ax, palette=\"Set1\")\n",
    "\n",
    "ax.set_ylabel(\"ROC AUC\")\n",
    "ax.set_ylim(0.5, 1)\n",
    "\n",
    "plt.show()"
   ]
  },
  {
   "cell_type": "code",
   "execution_count": null,
   "metadata": {},
   "outputs": [],
   "source": []
  }
 ],
 "metadata": {
  "kernelspec": {
   "display_name": "Python 3",
   "language": "python",
   "name": "python3"
  },
  "language_info": {
   "codemirror_mode": {
    "name": "ipython",
    "version": 3
   },
   "file_extension": ".py",
   "mimetype": "text/x-python",
   "name": "python",
   "nbconvert_exporter": "python",
   "pygments_lexer": "ipython3",
   "version": "3.11.5"
  }
 },
 "nbformat": 4,
 "nbformat_minor": 2
}
